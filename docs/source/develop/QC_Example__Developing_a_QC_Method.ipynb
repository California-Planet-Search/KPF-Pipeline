{
 "cells": [
  {
   "cell_type": "markdown",
   "id": "3e517061",
   "metadata": {},
   "source": [
    "This notebook provides an example of developing a quality control (QC) method for use with the KPF DRP."
   ]
  },
  {
   "cell_type": "code",
   "execution_count": 1,
   "id": "f062e8b7",
   "metadata": {},
   "outputs": [],
   "source": [
    "# Import packages for reading files\n",
    "from modules.Utils.kpf_parse import get_datecode\n",
    "from kpfpipe.models.level0 import KPF0"
   ]
  },
  {
   "cell_type": "code",
   "execution_count": 2,
   "id": "433837fe",
   "metadata": {},
   "outputs": [],
   "source": [
    "def L0_data_products_check(L0, data_products=['auto'], debug=False):\n",
    "    \"\"\"\n",
    "    This Quality Control function checks if the specified data_products \n",
    "    in an L0 file are present and if their data extensions are populated \n",
    "    with arrays of non-zero size.\n",
    "    \n",
    "    Args:\n",
    "         L0 - an L0 object\n",
    "         data_products - L0 data_products to check (list)\n",
    "                         possible elements = 'auto', 'all', \n",
    "                                             'Green', 'Red', 'CaHK', 'ExpMeter', \n",
    "                                             'Guider', 'Telemetry', 'Pyrheliometer'\n",
    "                                             (note that 'all' should be used rarely since good data\n",
    "                                              could be missing some extensions, e.g. CaHK, Pyrheliometer)\n",
    "         debug - an optional flag.  If True, missing data products are noted.\n",
    "\n",
    "     Returns:\n",
    "         QC_pass - a boolean signifying that the QC passed for failed\n",
    "    \"\"\"\n",
    "    \n",
    "    # determine which extensions should be in the L0 file\n",
    "    if data_products == ['auto']:\n",
    "        #data_products = []\n",
    "        # first add triggrered cameras (Green, Red, CaHK, ExpMeter)\n",
    "        trigtarg = L0.header['PRIMARY']['TRIGTARG']\n",
    "        print(trigtarg)\n",
    "        print(data_products)\n",
    "        if len(trigtarg) > 0:\n",
    "            data_products = trigtarg.split(',')\n",
    "        # add Guider\n",
    "        if hasattr(L0, 'GUIDER_AVG'):\n",
    "            data_products.append('Guider')\n",
    "        if hasattr(L0, 'guider_avg'):  # some early files had lower case\n",
    "            data_products.append('Guider')\n",
    "        # add Telemetry\n",
    "        print(data_products)\n",
    "        if hasattr(L0, 'TELEMETRY'):\n",
    "            data_products.append('Telemetry')\n",
    "        # add Pyrheliometer\n",
    "        if hasattr(L0, 'SOCAL PYRHELIOMETER'):\n",
    "            data_products.append('Pyrheliometer')\n",
    "        if debug:\n",
    "             print('Data products that are supposed to be in this L0 file: ' + str(data_products))\n",
    " \n",
    "    QC_pass = True\n",
    "    \n",
    "    # Use helper funtion to get data products and check their characteristics.\n",
    "    from modules.Utils.kpf_parse import get_data_products_L0\n",
    "    data_products_present = get_data_products_L0(L0)\n",
    "    if debug:\n",
    "        print('Data products in L0 file: ' + str(data_products_present))\n",
    "\n",
    "    # Check for specific data products\n",
    "    possible_data_products = ['Green', 'Red', 'CaHK', 'ExpMeter', 'Guider', 'Telemetry', 'Pyrheliometer']\n",
    "    for dp in possible_data_products:\n",
    "        if (dp in data_products) or ('all' in data_products):\n",
    "            if not dp in data_products_present:\n",
    "                QC_pass = False\n",
    "                if debug:\n",
    "                    print(dp + ' not present in L0 file. QC(L0_data_products_check) failed.')\n",
    "    \n",
    "    return QC_pass"
   ]
  },
  {
   "cell_type": "code",
   "execution_count": 3,
   "id": "b86a32c6",
   "metadata": {},
   "outputs": [],
   "source": [
    "# Use the from_fits method from the KPF DRP (not astropy.fits) to read in L0 files\n",
    "ObsID = 'KP.20230829.76026.81' # good KPF file\n",
    "L0_filename = '/data/L0/' + get_datecode(ObsID) + '/' + ObsID + '.fits'\n",
    "L0a = KPF0.from_fits(L0_filename)\n",
    "\n",
    "ObsID = 'KP.20231108.77769.16'  # file with missing Red\n",
    "L0_filename = '/data/L0/' + get_datecode(ObsID) + '/' + ObsID + '.fits'\n",
    "L0b = KPF0.from_fits(L0_filename)"
   ]
  },
  {
   "cell_type": "code",
   "execution_count": 4,
   "id": "c0e2b21a",
   "metadata": {},
   "outputs": [
    {
     "name": "stdout",
     "output_type": "stream",
     "text": [
      "Data products in L0 file: ['Green', 'ExpMeter', 'Telemetry', 'Pyrheliometer']\n",
      "Red not present in L0 file. QC(L0_data_products_check) failed.\n"
     ]
    },
    {
     "data": {
      "text/plain": [
       "False"
      ]
     },
     "execution_count": 4,
     "metadata": {},
     "output_type": "execute_result"
    }
   ],
   "source": [
    "# Run the QC on an L0 file that does not have a 'Red' extension.  It will fail.\n",
    "L0_data_products_check(L0b, data_products=['Green', 'Red'], debug=True)"
   ]
  },
  {
   "cell_type": "code",
   "execution_count": 5,
   "id": "fcbd1de0",
   "metadata": {},
   "outputs": [
    {
     "name": "stdout",
     "output_type": "stream",
     "text": [
      "Green,Red,ExpMeter\n",
      "['auto']\n",
      "['Green', 'Red', 'ExpMeter']\n",
      "Data products that are supposed to be in this L0 file: ['Green', 'Red', 'ExpMeter', 'Telemetry', 'Pyrheliometer']\n",
      "Data products in L0 file: ['Green', 'ExpMeter', 'Telemetry', 'Pyrheliometer']\n",
      "Red not present in L0 file. QC(L0_data_products_check) failed.\n"
     ]
    },
    {
     "data": {
      "text/plain": [
       "False"
      ]
     },
     "execution_count": 5,
     "metadata": {},
     "output_type": "execute_result"
    }
   ],
   "source": [
    "# Run the QC on an L0 file to determine if has non-zero data arrays.  It will fail.\n",
    "L0_data_products_check(L0b, data_products=['auto'], debug=True)"
   ]
  },
  {
   "cell_type": "code",
   "execution_count": 6,
   "id": "eb39c774",
   "metadata": {},
   "outputs": [
    {
     "name": "stdout",
     "output_type": "stream",
     "text": [
      "Data products in L0 file: ['Green', 'ExpMeter', 'Telemetry', 'Pyrheliometer']\n",
      "CaHK not present in L0 file. QC(L0_data_products_check) failed.\n"
     ]
    },
    {
     "data": {
      "text/plain": [
       "False"
      ]
     },
     "execution_count": 6,
     "metadata": {},
     "output_type": "execute_result"
    }
   ],
   "source": [
    "# Run the QC on an L0 file that does not have the 'CaHK' extension.  It will fail.\n",
    "L0_data_products_check(L0b, data_products=['CaHK'], debug=True)"
   ]
  },
  {
   "cell_type": "code",
   "execution_count": 7,
   "id": "8652237b",
   "metadata": {},
   "outputs": [
    {
     "name": "stdout",
     "output_type": "stream",
     "text": [
      "Green,Red,ExpMeter\n",
      "['auto']\n",
      "['Green', 'Red', 'ExpMeter']\n",
      "Data products that are supposed to be in this L0 file: ['Green', 'Red', 'ExpMeter', 'Telemetry', 'Pyrheliometer']\n",
      "Data products in L0 file: ['Green', 'Red', 'ExpMeter', 'Telemetry', 'Pyrheliometer']\n"
     ]
    },
    {
     "data": {
      "text/plain": [
       "True"
      ]
     },
     "execution_count": 7,
     "metadata": {},
     "output_type": "execute_result"
    }
   ],
   "source": [
    "# Run the QC on aa good L0 file.  It will pass.\n",
    "L0_data_products_check(L0a, data_products=['auto'], debug=True)"
   ]
  },
  {
   "cell_type": "code",
   "execution_count": null,
   "id": "247d33f0",
   "metadata": {},
   "outputs": [],
   "source": []
  }
 ],
 "metadata": {
  "kernelspec": {
   "display_name": "Python 3",
   "language": "python",
   "name": "python3"
  },
  "language_info": {
   "codemirror_mode": {
    "name": "ipython",
    "version": 3
   },
   "file_extension": ".py",
   "mimetype": "text/x-python",
   "name": "python",
   "nbconvert_exporter": "python",
   "pygments_lexer": "ipython3",
   "version": "3.6.12"
  }
 },
 "nbformat": 4,
 "nbformat_minor": 5
}
