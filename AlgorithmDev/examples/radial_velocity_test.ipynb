{
 "cells": [
  {
   "cell_type": "code",
   "execution_count": null,
   "metadata": {},
   "outputs": [],
   "source": [
    "import os\n",
    "import numpy as np\n",
    "import warnings\n",
    "from astropy.coordinates import Angle\n",
    "from astropy.io import fits\n",
    "from astropy.modeling import models, fitting\n",
    "import glob\n",
    "from barycorrpy import get_BC_vel\n",
    "from scipy import interpolate\n",
    "import matplotlib.pyplot as plt\n",
    "import json\n",
    "import time\n",
    "%matplotlib inline"
   ]
  },
  {
   "cell_type": "code",
   "execution_count": null,
   "metadata": {},
   "outputs": [],
   "source": [
    "from AlgorithmDev import RadialVelocity"
   ]
  },
  {
   "cell_type": "code",
   "execution_count": null,
   "metadata": {},
   "outputs": [],
   "source": [
    "def plot_gaussian_on_curve(g_curve, curve_x, curve_y, order=None, title=None, harps=None):\n",
    "    plt.figure(figsize=(8,8))\n",
    "    \n",
    "    label_curve = \"rv on order \" + str(order) if order is not None else 'all orders '\n",
    "    plt.plot(curve_x, curve_y, 'ko', label=label_curve)\n",
    "    if harps is not None:\n",
    "        plt.plot(curve_x, harps, 'mo', label=\"harps_ccf\"  )\n",
    "    plt.plot(curve_x, g_curve(curve_x), label='mean:'+str(\"{0:.6f}\".format(g_curve.mean.value)))\n",
    "    plt.legend(loc=\"lower right\", prop={'size': 12})\n",
    "    plt.title(title) if title is not None else None"
   ]
  },
  {
   "cell_type": "code",
   "execution_count": null,
   "metadata": {},
   "outputs": [],
   "source": [
    "#for f in range(total_file):\n",
    "t0 = time.clock()\n",
    "config = {\n",
    "    'starname': 'tauceti',\n",
    "    'star_rv': -16.5,\n",
    "    'obslon': -70.7345,\n",
    "    'obslat': -29.258,\n",
    "    'obsalt': 2400.0, #in meters\n",
    "    'ra2000': Angle(\"01:44:04.0915236842 hours\").deg,\n",
    "    'de2000': Angle(\"-15:56:14.934780748 degrees\").deg,\n",
    "    'pm_ra': -1729.726,  #mas/yr\n",
    "    'pm_dec': 855.493, #mas/yr\n",
    "    'parallax': 273.96, #mas\n",
    "    'step': 0.25,\n",
    "    'mask_width': 0.5 #km/s on either side of line center\n",
    "    }\n",
    "\n",
    "#import pdb; pdb.set_trace()\n",
    "spectrum_order = 70 \n",
    "spectrum_path = '../test_data/rv_test/HARPStauceti_baseline'\n",
    "mask_path = '../test_data/rv_test/stellarmasks/G2.harps.mas'\n",
    "outfolder = '../test_data/rv_test/output_cindy/HARPStauceti'\n",
    "spectraname = glob.glob(spectrum_path + '/e2ds/HARPS*e2ds_A.fits')\n",
    "spectraname.sort()\n",
    "total_file = len(spectraname)\n",
    "\n",
    "radial_vel = RadialVelocity(config, spectrum_order, mask_path)\n",
    "if radial_vel.init_calculation():\n",
    "    for f in range(total_file):\n",
    "        print('File ', f+1, 'of ', total_file)\n",
    "\n",
    "        i1 = spectraname[f].index('HARPS.20')+6\n",
    "        outfile = outfolder + 'Cindy.' + spectraname[f][i1:i1+24] + 'norm_ccf_G2_A.fits'\n",
    "        publicfile = spectrum_path + '/ccf/HARPS.'+spectraname[f][i1:i1+23]+'_ccf_G2_A.fits'\n",
    "\n",
    "        spectrum, hdr = fits.getdata(spectraname[f], header=True)\n",
    "        harps_ccf, ccf_head = fits.getdata(publicfile, header=True)\n",
    "        \n",
    "        save_ccf = radial_vel.get_rv_on_spectrum(spectrum, hdr, harps_ccf)\n",
    "        output_ccf = radial_vel.analyze_ccf(save_ccf)      #save_ccf is the same of output_ccf\n",
    "        \n",
    "        gaussian_fit, rv_result, g_x, g_y = radial_vel.fit_ccf(output_ccf)\n",
    "        #harps_fit, harps_mean, h_x, h_y = radial_vel.fit_ccf(harps_ccf)\n",
    "\n",
    "        #plot_gaussian_on_curve(gaussian_fit, g_x, g_y, title=spectraname[f][i1-6:-5], harps=h_y)\n",
    "        radial_vel.output_ccf_to_fits(output_ccf, outfile, ccf_head, rv_result)\n",
    "        \n",
    "t3 = time.clock()"
   ]
  },
  {
   "cell_type": "code",
   "execution_count": null,
   "metadata": {},
   "outputs": [],
   "source": [
    "print('total time = ', (t3-t0), 'sec')"
   ]
  },
  {
   "cell_type": "code",
   "execution_count": null,
   "metadata": {},
   "outputs": [],
   "source": []
  }
 ],
 "metadata": {
  "kernelspec": {
   "display_name": "Python 3",
   "language": "python",
   "name": "python3"
  },
  "language_info": {
   "codemirror_mode": {
    "name": "ipython",
    "version": 3
   },
   "file_extension": ".py",
   "mimetype": "text/x-python",
   "name": "python",
   "nbconvert_exporter": "python",
   "pygments_lexer": "ipython3",
   "version": "3.6.8"
  }
 },
 "nbformat": 4,
 "nbformat_minor": 2
}
