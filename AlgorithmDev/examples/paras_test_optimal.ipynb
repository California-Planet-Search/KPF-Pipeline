{
 "cells": [
  {
   "cell_type": "code",
   "execution_count": null,
   "metadata": {},
   "outputs": [],
   "source": [
    "from __future__ import print_function\n",
    "from astropy.io import fits\n",
    "import numpy as np\n",
    "import math\n",
    "import matplotlib.pyplot as plt\n",
    "from matplotlib.colors import LogNorm\n",
    "from numpy.polynomial.polynomial import polyval, polyder\n",
    "%matplotlib inline"
   ]
  },
  {
   "cell_type": "code",
   "execution_count": null,
   "metadata": {},
   "outputs": [],
   "source": [
    "from AlgorithmDev import PolygonClipping"
   ]
  },
  {
   "cell_type": "code",
   "execution_count": null,
   "metadata": {},
   "outputs": [],
   "source": [
    "def plot_two_fits_trace(spectral1, spectral2, total_rows, coeffs_rows):\n",
    "    plt.figure(figsize=(20,20))\n",
    "    plt.subplot(1, 2, 1) \n",
    "    im1 = plt.imshow(spectral1['data'], cmap='gray', norm=LogNorm())\n",
    "\n",
    "    x_val = list(range(0, spectral['xdim']))\n",
    "    for y in range(0, total_rows):\n",
    "        y_val = [polyval(x, coeffs_rows[y]) for x in x_val]\n",
    "        plt.plot(x_val, y_val, 'r--')\n",
    "    \n",
    "    plt.ylim(0, spectral1['ydim'])\n",
    "    plt.colorbar(im1, fraction=0.046, pad=0.04)   \n",
    "    \n",
    "    plt.subplot(1, 2, 2)\n",
    "    im2 = plt.imshow(spectral2['data'], cmap='gray', norm=LogNorm())\n",
    "    \n",
    "    plt.ylim(0, spectral2['ydim'])\n",
    "    plt.colorbar(im2, fraction=0.046, pad=0.04)  "
   ]
  },
  {
   "cell_type": "code",
   "execution_count": null,
   "metadata": {},
   "outputs": [],
   "source": [
    "def plot_output(out_data, total_rows):\n",
    "    # show output\n",
    "    plt.figure(figsize=(12,12))\n",
    "    plt.subplot(1, 1, 1)\n",
    "    plt.imshow(out_data, cmap='gray')\n",
    "    plt.ylim(0, total_rows)\n",
    "    #plt.colorbar(im, fraction=0.046, pad=0.04)"
   ]
  },
  {
   "cell_type": "code",
   "execution_count": null,
   "metadata": {},
   "outputs": [],
   "source": [
    "def load_spectral_sample(fits_file, order_trace_csv, flatlamp_file):\n",
    "    poly_c = PolygonClipping(fits_file, 6)\n",
    "    spectral = poly_c.load_paras_spectral()\n",
    "    print('data size: ', spectral['xdim'], spectral['ydim'])\n",
    "    coeffs_rows, widths = poly_c.load_csv_file(order_trace_csv)\n",
    "    flatlamp_spectral = poly_c.load_paras_spectral(flatlamp_file)\n",
    "   \n",
    "    return {'spectral': spectral, 'flatlamp_spectral': flatlamp_spectral, 'coeffs': coeffs_rows, \n",
    "            'poly_handle': poly_c, 'widths': widths}"
   ]
  },
  {
   "cell_type": "code",
   "execution_count": null,
   "metadata": {},
   "outputs": [],
   "source": [
    "def analyze_spectral(spectral, f_spectral, coeffs_rows, widths, poly_c, row_idx=None):\n",
    "    total_rows = len(coeffs_rows)\n",
    "    in_data = np.array(spectral.get('data'), None)\n",
    "    flat_data = np.array(f_spectral.get('data'), None)\n",
    "    out_data = np.zeros((total_rows, spectral.get('xdim')))\n",
    "    \n",
    "    print('row: ')\n",
    "    row_range = range(0, total_rows) if row_idx is None else range(row_idx, row_idx+1)\n",
    "   \n",
    "    for i in row_range:\n",
    "        print(i, end=' '),\n",
    "        result_data = poly_c.rectify_spectral_curve_by_optimal(coeffs_rows[i], widths[i], in_data, flat_data, \n",
    "                                                               verbose=False)\n",
    "        line_data = result_data.get('out_data')\n",
    "        poly_c.fill_2D_to_2D(line_data, out_data, 0, i)\n",
    "    \n",
    "    print('done')\n",
    "    return {'out_data': out_data, 'dim': {'height': total_rows, 'width': spectral['xdim']}}\n",
    "    "
   ]
  },
  {
   "cell_type": "code",
   "execution_count": null,
   "metadata": {},
   "outputs": [],
   "source": [
    "def make_fits(data, output_fits):\n",
    "    hdu = fits.PrimaryHDU(data)\n",
    "    hdu.writeto(output_fits)"
   ]
  },
  {
   "cell_type": "code",
   "execution_count": null,
   "metadata": {},
   "outputs": [],
   "source": [
    "# input: fits_base, csv_base, flat_base are from dropbox: KPF-Pipeline-TestData/polygon_clipping_test/paras_data\n",
    "fits_base = '../test_data/paras_data/a00'\n",
    "csv_base = '../test_data/paras_data/order_trace_'\n",
    "flats_base = '../test_data/paras_data/paras.flat'\n",
    "\n",
    "# output\n",
    "output_base = '../test_data/paras_data/results_optimal/result_'\n",
    "\n",
    "fits_list = ['18', '19', '20', '21']\n",
    "fiber_list = ['A', 'B']"
   ]
  },
  {
   "cell_type": "code",
   "execution_count": null,
   "metadata": {},
   "outputs": [],
   "source": [
    "f = 0\n",
    "c = 1\n",
    "fiber_name = fiber_list[c]\n",
    "fits_name = fits_list[f]\n",
    "\n",
    "fits_file = fits_base+fits_name+'.fits'\n",
    "csv_file = csv_base+fiber_name+'.csv'\n",
    "flatlamp_file = flats_base+fiber_name+'.fits'\n",
    "\n",
    "output_fits = output_base + fiber_name + '_' + fits_name + '_optimal.fits'\n",
    "print('output file: ', output_fits)\n",
    "sample_info = load_spectral_sample(fits_file, csv_file, flatlamp_file)\n",
    "\n",
    "spectral = sample_info.get('spectral')\n",
    "flatlamp_spectral = sample_info.get('flatlamp_spectral')\n",
    "coeffs_rows = sample_info.get('coeffs')\n",
    "poly_c = sample_info.get('poly_handle')\n",
    "plot_two_fits_trace(spectral, flatlamp_spectral, len(coeffs_rows), coeffs_rows)"
   ]
  },
  {
   "cell_type": "code",
   "execution_count": null,
   "metadata": {},
   "outputs": [],
   "source": [
    "widths = sample_info.get('widths')\n",
    "print(widths)\n",
    "result_optimal = analyze_spectral(spectral, flatlamp_spectral, coeffs_rows, widths, poly_c)\n",
    "#import pdb; pdb.set_trace()\n",
    "plot_output(result_optimal.get('out_data'), result_optimal.get('dim').get('height'))"
   ]
  },
  {
   "cell_type": "code",
   "execution_count": null,
   "metadata": {},
   "outputs": [],
   "source": [
    "make_fits(result_optimal.get('out_data'), output_fits)"
   ]
  },
  {
   "cell_type": "code",
   "execution_count": null,
   "metadata": {},
   "outputs": [],
   "source": []
  }
 ],
 "metadata": {
  "kernelspec": {
   "display_name": "Python 3",
   "language": "python",
   "name": "python3"
  },
  "language_info": {
   "codemirror_mode": {
    "name": "ipython",
    "version": 3
   },
   "file_extension": ".py",
   "mimetype": "text/x-python",
   "name": "python",
   "nbconvert_exporter": "python",
   "pygments_lexer": "ipython3",
   "version": "3.6.8"
  }
 },
 "nbformat": 4,
 "nbformat_minor": 2
}
