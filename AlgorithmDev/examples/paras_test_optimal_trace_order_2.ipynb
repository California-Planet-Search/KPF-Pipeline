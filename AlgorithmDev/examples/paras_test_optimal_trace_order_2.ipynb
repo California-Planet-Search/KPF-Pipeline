{
 "cells": [
  {
   "cell_type": "code",
   "execution_count": null,
   "metadata": {},
   "outputs": [],
   "source": [
    "from __future__ import print_function\n",
    "from astropy.io import fits\n",
    "import numpy as np\n",
    "import math\n",
    "import matplotlib.pyplot as plt\n",
    "from matplotlib.colors import LogNorm\n",
    "from numpy.polynomial.polynomial import polyval, polyder\n",
    "import time\n",
    "import csv\n",
    "%matplotlib inline"
   ]
  },
  {
   "cell_type": "code",
   "execution_count": null,
   "metadata": {},
   "outputs": [],
   "source": [
    "from AlgorithmDev import PolygonClipping2\n",
    "power = 3"
   ]
  },
  {
   "cell_type": "code",
   "execution_count": null,
   "metadata": {},
   "outputs": [],
   "source": [
    "def plot_two_fits_trace(spectral1, spectral2, total_rows, coeffs_rows, range_rows = None):\n",
    "    plt.figure(figsize=(20,20))\n",
    "    plt.subplot(1, 2, 1) \n",
    "    im1 = plt.imshow(spectral1['data'], cmap='gray', norm=LogNorm())\n",
    "\n",
    "    total_col = np.shape(coeffs_rows)[1]\n",
    "\n",
    "    for y in range(0, total_rows):\n",
    "        if range_rows is not None:\n",
    "            x_val = np.arange(range_rows[y, 0], range_rows[y, 1])\n",
    "        else:\n",
    "            x_val = np.arange(0, spectral['xdim'])\n",
    "        y_val = np.polyval(coeffs_rows[y], x_val)\n",
    "        plt.plot(x_val, y_val, 'r--')\n",
    "    \n",
    "    plt.ylim(0, spectral1['ydim'])\n",
    "    plt.colorbar(im1, fraction=0.046, pad=0.04)   \n",
    "    \n",
    "    plt.subplot(1, 2, 2)\n",
    "    im2 = plt.imshow(spectral2['data'], cmap='gray', norm=LogNorm())\n",
    "    \n",
    "    plt.ylim(0, spectral2['ydim'])\n",
    "    plt.colorbar(im2, fraction=0.046, pad=0.04)  "
   ]
  },
  {
   "cell_type": "code",
   "execution_count": null,
   "metadata": {},
   "outputs": [],
   "source": [
    "def plot_output(out_data, total_rows):\n",
    "    # show output\n",
    "    plt.figure(figsize=(12,12))\n",
    "    plt.subplot(1, 1, 1)\n",
    "    plt.imshow(out_data, cmap='gray')\n",
    "    plt.ylim(0, total_rows)\n",
    "    #plt.colorbar(im, fraction=0.046, pad=0.04)"
   ]
  },
  {
   "cell_type": "code",
   "execution_count": null,
   "metadata": {},
   "outputs": [],
   "source": [
    "def load_spectral_sample(fits_file, order_trace_csv, flatlamp_file):\n",
    "    poly_c = PolygonClipping2(fits_file, 6)\n",
    "    spectral = poly_c.load_paras_spectral()\n",
    "    print('data size: ', spectral['xdim'], spectral['ydim'])\n",
    "    coeffs_rows, widths, xrange = poly_c.load_csv_file(order_trace_csv, spectral['xdim'], power)\n",
    "    flatlamp_spectral = poly_c.load_paras_spectral(flatlamp_file)\n",
    "   \n",
    "    return {'spectral': spectral, 'flatlamp_spectral': flatlamp_spectral, 'coeffs': coeffs_rows, \n",
    "            'poly_handle': poly_c, 'widths': widths, 'xrange': xrange}"
   ]
  },
  {
   "cell_type": "code",
   "execution_count": null,
   "metadata": {},
   "outputs": [],
   "source": [
    "def analyze_spectral(spectral, f_spectral, coeffs_rows, widths, xrange, poly_c, row_idx=None, method = 'sum_fraction'):\n",
    "    total_rows = len(coeffs_rows)\n",
    "    in_data = np.array(spectral.get('data'), None)\n",
    "    flat_data = np.array(f_spectral.get('data'), None)\n",
    "    out_data = np.zeros((total_rows, spectral.get('xdim')))\n",
    "    \n",
    "    row_range = range(0, total_rows) if row_idx is None else range(row_idx, row_idx+1)\n",
    "    for i in row_range:\n",
    "        start = time.time()\n",
    "        print(i, 'widths: ', widths[i], ' method: ', method)\n",
    "        if 'sum_fraction' in method:\n",
    "            result_data = poly_c.rectify_spectral_curve_by_fractional_sum(coeffs_rows[i], widths[i], xrange[i], in_data, flat_data, verbose=False)\n",
    "        else:\n",
    "            result_data = poly_c.rectify_spectral_curve_by_optimal2(coeffs_rows[i], widths[i], xrange[i], in_data, flat_data, verbose=False)\n",
    "        end = time.time()\n",
    "        print('extraction: ', i, ' time: ', (end-start), ' widths: ', widths[i])\n",
    "        line_data = result_data.get('out_data')\n",
    "        poly_c.fill_2D_to_2D(line_data, out_data, 0, i)\n",
    "    \n",
    "    print('done')\n",
    "    return {'out_data': out_data, 'dim': {'height': total_rows, 'width': spectral['xdim']}}\n",
    "    "
   ]
  },
  {
   "cell_type": "code",
   "execution_count": null,
   "metadata": {},
   "outputs": [],
   "source": [
    "def make_fits(data, output_fits, MJD = None):\n",
    "    hdu = fits.PrimaryHDU(data)\n",
    "    if MJD is not None:\n",
    "        hdu.header['MJD-OBS'] = str(MJD)\n",
    "    hdu.writeto(output_fits)"
   ]
  },
  {
   "cell_type": "code",
   "execution_count": null,
   "metadata": {},
   "outputs": [],
   "source": [
    "def spectral_update(spectrall, correct_file):\n",
    "    in_data = np.array(spectral.get('data'), None)\n",
    "    correct_data = poly_c.load_correct_data(correct_file)\n",
    "    new_data = poly_c.correct_data_by_sub(correct_data, in_data)\n",
    "    spectrall.update({'data': new_data})\n",
    "    \"\"\"\n",
    "    plt.figure(figsize=(16, 16))\n",
    "    plt.subplot(1, 1, 1)\n",
    "    im = plt.imshow(in_data, cmap='gray', norm=LogNorm())\n",
    "    plt.ylim(0, spectrall['ydim'])\n",
    "    plt.title(\"a0018.fits\")\n",
    "    plt.colorbar(im, fraction=0.046, pad=0.04) \n",
    "    \n",
    "    plt.figure(figsize=(16, 16))\n",
    "    plt.subplot(1, 1, 1)\n",
    "    im = plt.imshow(correct_data, cmap='gray', norm=LogNorm())\n",
    "    plt.ylim(0, spectrall['ydim'])\n",
    "    plt.title(\"bleeding_cure_14feb2015_1800.fits\")\n",
    "    plt.colorbar(im, fraction=0.046, pad=0.04)  \n",
    "\n",
    "    plt.figure(figsize=(16, 16))\n",
    "    plt.subplot(1, 1, 1)\n",
    "    im = plt.imshow(spectrall.get('data'), cmap='gray', norm=LogNorm())\n",
    "    plt.ylim(0, spectrall['ydim']) \n",
    "    plt.title(\"after subtraction\")\n",
    "    plt.colorbar(im, fraction=0.046, pad=0.04)   \n",
    "    \"\"\""
   ]
  },
  {
   "cell_type": "code",
   "execution_count": null,
   "metadata": {},
   "outputs": [],
   "source": [
    "def extract_optimal_trace(in_data, start_idx, total_order=None):\n",
    "    width, height = np.shape(in_data)\n",
    "    start_idx = max(start_idx, 0)\n",
    "    if total_order is not None:\n",
    "        end_idx = min(start_idx+total_order, height)\n",
    "    else:\n",
    "        end_idx = height\n",
    " \n",
    "    return in_data[start_idx:end_idx, :]"
   ]
  },
  {
   "cell_type": "markdown",
   "metadata": {},
   "source": [
    "## 1. define and load files: spectrum file, flat file, cure file, coeffs/width file"
   ]
  },
  {
   "cell_type": "code",
   "execution_count": null,
   "metadata": {},
   "outputs": [],
   "source": [
    "# input fits_base: fits_base, flat_base are from dropbox: KPF-Pipeline-TestData/polygon_clipping_test/paras_data\n",
    "# csv_base is from order_trace_width_test_neid result\n",
    "# for paras data\n",
    "#fits_base = '../test_data/paras_data/a00'\n",
    "#flats_base = '../test_data/paras_data/paras.flat'\n",
    "#csv_base = '../test_data/paras_data/order_trace_'\n",
    "#csv_base = '../test_data/order_trace_test/for_optimal_extraction/'\n",
    "\n",
    "# for NEID data\n",
    "fits_base = '../test_data_02242020/NEIDdata/TAUCETI_20191217/L0/neidTemp_2D20191217T'\n",
    "flats_base = '../test_data_02242020/NEIDdata/FLAT/stacked_2fiber_flat'\n",
    "#csv_base = '../test_data/paras_data/order_trace_'\n",
    "csv_base = '../test_data_02242020/order_trace_test/for_optimal_extraction/'\n",
    "\n",
    "output_base = '../test_data_02242020/order_trace_test/for_optimal_extraction/output/'\n",
    "\n",
    "#fits_list = ['18', '19']\n",
    "fits_list = ['023129', '023815','024240','024704','030057','030724','031210','031636']\n",
    "fiber_list = ['A']\n",
    "f = 0\n",
    "c = 0\n",
    "#fiber_name = fiber_list[c]  # use a0018.fits and paras.flatA.fits and csv created by order_trace_test\n",
    "fiber_name = ''\n",
    "fits_name = fits_list[f]\n",
    "fits_file = fits_base+fits_name+'.fits'\n",
    "\n",
    "#csv_file = '../test_data/paras_data/order_trace_'+fiber_name+'.csv'\n",
    "#csv_file = csv_base + 'neid_result_poly_2sigma_gaussian_pixel_0221_3.csv'\n",
    "csv_file = csv_base + 'neid_poly_2sigma_gaussian_pixel_0303_3.csv'\n",
    "#csv_file = csv_base + 'paras_result_poly_2sigma_gaussian_pixel_3.csv'\n",
    "flatlamp_file = flats_base+fiber_name+'.fits'\n",
    "\n",
    "method = 'sum_fraction'\n",
    "#method = 'optimal'\n",
    "output_cure_fits = output_base + fiber_name + '_' + fits_name + '_cure_optimal.fits' #18_A_cure_optimal\n",
    "output_original_fits = output_base + fiber_name + 'NEID_' + fits_name + '_original_' + method +'.fits' # optimal or fractional sum\n",
    "cure_fits = \"../test_data/order_trace_test/for_optimal_extraction/14feb2015/bleeding_cure_14feb2015_1800.fits\"\n",
    "output_fits = output_original_fits\n",
    "print('fits_file:', fits_file, '\\ncsv_file', csv_file, '\\noutput file: ', output_fits)\n"
   ]
  },
  {
   "cell_type": "code",
   "execution_count": null,
   "metadata": {},
   "outputs": [],
   "source": [
    "sample_info = load_spectral_sample(fits_file, csv_file, flatlamp_file)\n",
    "\n",
    "spectral = sample_info.get('spectral')\n",
    "flatlamp_spectral = sample_info.get('flatlamp_spectral')\n",
    "coeffs_rows = sample_info.get('coeffs')\n",
    "poly_c = sample_info.get('poly_handle')\n",
    "range_rows = sample_info.get('xrange')\n",
    "\n",
    "plot_two_fits_trace(spectral, flatlamp_spectral, np.shape(coeffs_rows)[0], coeffs_rows, range_rows)"
   ]
  },
  {
   "cell_type": "markdown",
   "metadata": {},
   "source": [
    "## 1.1 (optional) update the data by bleeding file (for paras data)"
   ]
  },
  {
   "cell_type": "code",
   "execution_count": null,
   "metadata": {
    "scrolled": false
   },
   "outputs": [],
   "source": [
    "output_fits = output_cure_fits\n",
    "print('output_fits:', output_fits)\n",
    "spectral_update(spectral, cure_fits)"
   ]
  },
  {
   "cell_type": "markdown",
   "metadata": {},
   "source": [
    "## 2. optimal extraction analysis"
   ]
  },
  {
   "cell_type": "code",
   "execution_count": null,
   "metadata": {
    "scrolled": false
   },
   "outputs": [],
   "source": [
    "widths = sample_info.get('widths')\n",
    "xrange = sample_info.get('xrange')\n",
    "#print(widths)\n",
    "result_optimal = analyze_spectral(spectral, flatlamp_spectral, coeffs_rows, widths, xrange, poly_c, method=method)\n",
    "plot_output(result_optimal.get('out_data'), result_optimal.get('dim').get('height'))"
   ]
  },
  {
   "cell_type": "markdown",
   "metadata": {},
   "source": [
    "## 3. extract row from analysis result "
   ]
  },
  {
   "cell_type": "code",
   "execution_count": null,
   "metadata": {},
   "outputs": [],
   "source": [
    "#output_partial_optimal_extraction_fits = output_base + fiber_name + '_' + fits_name + '_sum_fraction_from_2.fits'\n",
    "\n",
    "in_data = result_optimal['out_data']\n",
    "output_file = output_original_fits\n",
    "out_data = extract_optimal_trace(in_data, 0)\n",
    "#output_file = output_partial_optimal_extraction_fits\n",
    "#out_data = extract_optimal_trace(in_data, 2)\n",
    "\n",
    "flat_header = fits.open(flatlamp_file)\n",
    "header = flat_header[0].header\n",
    "header_keys = list(header.keys())\n",
    "if 'OBSJD' in header_keys:\n",
    "    mjd = header['OBSJD'] - 2400000.5\n",
    "elif 'OBS MJS' in header_keys:\n",
    "    mjd = header['OBS MJD']\n",
    "else:\n",
    "    mjd = 58831.009653\n",
    "exptime = header['EXPTIME'] if 'EXPTIME' in header_keys else 600.0\n",
    "hdu = fits.PrimaryHDU(out_data)\n",
    "hdu.header['MJD-OBS'] = mjd\n",
    "hdu.header['EXPTIME'] = exptime\n",
    "hdu.writeto(output_file, overwrite=True)"
   ]
  },
  {
   "cell_type": "markdown",
   "metadata": {},
   "source": [
    "## comparison between NEID L1 and the result from sum fraction or optimal extraction"
   ]
  },
  {
   "cell_type": "code",
   "execution_count": null,
   "metadata": {
    "scrolled": false
   },
   "outputs": [],
   "source": [
    "neid_file = '../test_data_02242020/NEIDdata/TAUCETI_20191217/L1/neidL1_20191217T023129.fits'\n",
    "#my_file = '../test_data/order_trace_test/for_optimal_extraction/output/_023129_original_optimal.fits'\n",
    "my_file = '../test_data_02242020/order_trace_test/for_optimal_extraction/output/NEID_023129_original_sum_fraction.fits'\n",
    "my_csv = '../test_data_02242020/order_trace_test/for_optimal_extraction/neid_poly_2sigma_gaussian_pixel_0303_3.csv'\n",
    "neid_fits, neid_header = fits.getdata(neid_file, header=True)\n",
    "my_fits, my_header = fits.getdata(my_file, header=True)\n",
    "\n",
    "order_widths = list()\n",
    "with open(my_csv) as order_csv:\n",
    "    order_rows = csv.reader(order_csv)\n",
    "    for row in order_rows:\n",
    "        order_widths.append([row[power+1], row[power+2]]) \n",
    "                                    \n",
    "d = 7 \n",
    "neid_size = np.shape(neid_fits)\n",
    "my_size = np.shape(my_fits)\n",
    "last_order = min(neid_size[0], (my_size[0]//2) + d -1)\n",
    "print('neid: ',np.shape(neid_fits))\n",
    "print('my: ', np.shape(my_fits))\n",
    "print('size_y: ', last_order)\n",
    "s_y = 450\n",
    "for i in range(d, last_order+1):\n",
    "    \n",
    "    neid_order = neid_fits[i, s_y:]\n",
    "    my_order = my_fits[(i-d)*2, s_y:]\n",
    "\n",
    "    plt.figure(figsize=(12,12))\n",
    "    plt.plot(neid_order, 'b--', label='order of neid L1: '+str(i))\n",
    "    plt.plot(my_order, 'r--', label = 'order of OrderTrace: ' + str((i-d)*2))\n",
    "    #plt.xlim(0, min(neid_size[1], my_size[1]))\n",
    "    plt.title('neid L1 vs. fractional sum from results of order_trace_width_test_neid '+\\\n",
    "              '  widths: ('+ str(order_widths[(i-d)*2][0]) + ',' + str(order_widths[(i-d)*2][1]) +')'+\\\n",
    "              '  x: ['+str(s_y)+','+str(neid_size[1])+']' )\n",
    "    plt.legend(loc=\"upper right\", prop={'size': 12})\n",
    "    plt.show()"
   ]
  },
  {
   "cell_type": "code",
   "execution_count": null,
   "metadata": {},
   "outputs": [],
   "source": []
  }
 ],
 "metadata": {
  "kernelspec": {
   "display_name": "Python 3",
   "language": "python",
   "name": "python3"
  },
  "language_info": {
   "codemirror_mode": {
    "name": "ipython",
    "version": 3
   },
   "file_extension": ".py",
   "mimetype": "text/x-python",
   "name": "python",
   "nbconvert_exporter": "python",
   "pygments_lexer": "ipython3",
   "version": "3.6.8"
  }
 },
 "nbformat": 4,
 "nbformat_minor": 2
}
