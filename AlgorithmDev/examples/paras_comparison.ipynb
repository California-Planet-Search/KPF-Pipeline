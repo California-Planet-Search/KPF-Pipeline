{
 "cells": [
  {
   "cell_type": "code",
   "execution_count": null,
   "metadata": {},
   "outputs": [],
   "source": [
    "from __future__ import print_function\n",
    "from astropy.io import fits\n",
    "import numpy as np\n",
    "import math\n",
    "import matplotlib.pyplot as plt\n",
    "from matplotlib.colors import LogNorm\n",
    "from numpy.polynomial.polynomial import polyval, polyder\n",
    "%matplotlib inline"
   ]
  },
  {
   "cell_type": "code",
   "execution_count": null,
   "metadata": {},
   "outputs": [],
   "source": [
    "from AlgorithmDev import PolygonClipping"
   ]
  },
  {
   "cell_type": "code",
   "execution_count": null,
   "metadata": {},
   "outputs": [],
   "source": [
    "def plot_three_fits_trace(spectral1, spectral_flat, spectral_ref, total_rows, coeffs_rows):\n",
    "    plt.figure(figsize=(20,20))\n",
    "    plt.subplot(1, 3, 1) \n",
    "    im1 = plt.imshow(spectral1['data'], cmap='gray', norm=LogNorm())\n",
    "    \n",
    "    x_val = list(range(0, spectral['xdim']))\n",
    "    for y in range(0, total_rows):\n",
    "        y_val = [polyval(x, coeffs_rows[y]) for x in x_val]\n",
    "        plt.plot(x_val, y_val, 'r--')\n",
    "    \n",
    "    plt.ylim(0, spectral1['ydim'])\n",
    "    plt.colorbar(im1, fraction=0.046, pad=0.04)   \n",
    "    \n",
    "    plt.subplot(1, 3, 2)\n",
    "    im2 = plt.imshow(spectral_flat['data'], cmap='gray', norm=LogNorm())\n",
    "    \n",
    "    plt.ylim(0, spectral_flat['ydim'])\n",
    "    plt.colorbar(im2, fraction=0.046, pad=0.04)  \n",
    "    \n",
    "    plt.subplot(1, 3, 3)\n",
    "    im2 = plt.imshow(spectral_ref['data'], cmap='gray', norm=LogNorm())\n",
    "    \n",
    "    plt.ylim(0, spectral_ref['ydim'])\n",
    "    plt.colorbar(im2, fraction=0.046, pad=0.04)  "
   ]
  },
  {
   "cell_type": "code",
   "execution_count": null,
   "metadata": {},
   "outputs": [],
   "source": [
    "def plot_output(optimal_data, sum_data, ref_data, order, width):\n",
    "    # show output\n",
    "    size = np.shape(optimal_data)\n",
    "    x_val = list(range(0, size[0]))\n",
    "    \n",
    "    ratio = [ref_data[x]/optimal_data[x] for x in x_val]\n",
    "    nzero = list(filter(lambda x: x > 1.7 and x < 2.3, ratio))\n",
    "    #print('ratio: ', ratio)\n",
    "    #print('nzero: ', nzero)\n",
    "    r = sum(nzero)/len(nzero)       \n",
    "    print('average ratio', r)\n",
    "    \n",
    "    plt.figure(figsize=(12, 12))\n",
    "    plt.subplot(1, 1, 1)\n",
    "    plt.plot(x_val, optimal_data, '-r', label='optimal')\n",
    "    plt.plot(x_val, sum_data, '-b', label='sum')\n",
    "    plt.plot(x_val, ref_data, '-k', label='reference')\n",
    "    plt.plot(x_val, optimal_data*r, '-.m', label='optimal*r')\n",
    "    \n",
    "    #plt.plot(x_val, [ratio[x]*1000 for x in x_val], '-g', label='ratio')\n",
    "    \n",
    "    plt.title(\"extraction on order = \"+str(order)+\", width = \"+str(width))\n",
    "    plt.legend(loc='upper right', prop={'size': 16})\n",
    "    #plt.colorbar(im, fraction=0.046, pad=0.04)"
   ]
  },
  {
   "cell_type": "code",
   "execution_count": null,
   "metadata": {},
   "outputs": [],
   "source": [
    "def plot_trace_band(trace_data, x1, x2, y1, y2, title=''):  \n",
    "    display_color = ['-r', '-b', '-k', '-g', '-y', '-m', '-c', '-.r', '-.b', '-.k', '-.g', '-.y', '-.m', '-.c']\n",
    "    \n",
    "    plt.figure(figsize=(12, 12))\n",
    "    total_plot = y2 - y1 + 1\n",
    "    x_val = list(range(x1, x2))   \n",
    "    plt.subplot(1, 1, 1)\n",
    "    \n",
    "    for y in range(y1, y2+1):\n",
    "        idx = (y-y1)%(len(display_color))\n",
    "        plt.plot(x_val, trace_data[y, x1:x2], display_color[idx], label='y = '+str(y))\n",
    "    \n",
    "    plt.title(title)\n",
    "    plt.legend(loc='upper right', prop={'size': 12})\n",
    "        "
   ]
  },
  {
   "cell_type": "code",
   "execution_count": null,
   "metadata": {},
   "outputs": [],
   "source": [
    "def load_spectral_sample(fits_file, order_trace_csv, flatlamp_file, ref_fits, width):\n",
    "    poly_c = PolygonClipping(fits_file, width)\n",
    "    spectral = poly_c.load_paras_spectral()\n",
    "    print('data size: ', spectral['xdim'], spectral['ydim'])\n",
    "    coeffs_rows = poly_c.load_csv_file(order_trace_csv)\n",
    "    flatlamp_spectral = poly_c.load_paras_spectral(flatlamp_file)\n",
    "    ref_spectral = poly_c.load_paras_spectral(ref_fits)\n",
    "   \n",
    "    return {'spectral': spectral, 'flatlamp_spectral': flatlamp_spectral, 'coeffs': coeffs_rows, \n",
    "            'ref_spectral': ref_spectral, 'poly_handle': poly_c}"
   ]
  },
  {
   "cell_type": "code",
   "execution_count": null,
   "metadata": {},
   "outputs": [],
   "source": [
    "def analyze_spectral(spectral, f_spectral, coeffs_rows, poly_c, row_idx):\n",
    "    total_rows = len(coeffs_rows)\n",
    "    in_data = np.array(spectral.get('data'), None)\n",
    "    flat_data = np.array(f_spectral.get('data'), None)\n",
    "    out_data = np.zeros((total_rows, spectral.get('xdim')))\n",
    "        \n",
    "    print(\"optimal extraction on row: \", row_idx)\n",
    "    optimal_data = poly_c.rectify_spectral_curve_by_optimal2(coeffs_rows[row_idx], in_data, flat_data, verbose=False)\n",
    "    o_line_data = optimal_data.get('out_data')\n",
    "\n",
    "    print('sum extraction on row: ', row_idx)\n",
    "    sum_data = poly_c.rectify_spectral_curve_by_sum(coeffs_rows[row_idx], in_data)\n",
    "          \n",
    "    print('done')\n",
    "    return {'optimal_data': o_line_data, 'sum_data': sum_data, \n",
    "            'rectified_trace': optimal_data.get('rectified_trace')} \n",
    "    "
   ]
  },
  {
   "cell_type": "code",
   "execution_count": null,
   "metadata": {},
   "outputs": [],
   "source": [
    "def make_fits(data, output_fits):\n",
    "    hdu = fits.PrimaryHDU(data)\n",
    "    hdu.writeto(output_fits)"
   ]
  },
  {
   "cell_type": "code",
   "execution_count": null,
   "metadata": {},
   "outputs": [],
   "source": [
    "fits_base = '../tmp/test_data/paras_data/a00'\n",
    "csv_base = '../tmp/test_data/paras_data/order_trace_'\n",
    "output_base = '../tmp/test_data/paras_data/results_optimal/result_'\n",
    "flats_base = '../tmp/test_data/paras_data/paras.flat'\n",
    "fits_list = ['18', '19', '20', '21']\n",
    "fiber_list = ['A', 'B']\n"
   ]
  },
  {
   "cell_type": "code",
   "execution_count": null,
   "metadata": {},
   "outputs": [],
   "source": [
    "f = 0\n",
    "c = 0\n",
    "ref_fits = '../tmp/test_data/paras_data/results_others/a00' + fits_list[f] + '_e2ds_' + fiber_list[c] + '.fits'\n",
    "fiber_name = fiber_list[c]\n",
    "fits_name = fits_list[f]\n",
    "width = 6\n",
    "\n",
    "ref_fits = '../tmp/test_data/paras_data/results_others/a00' + fits_name + '_e2ds_' + fiber_name + '.fits'\n",
    "fits_file = fits_base+fits_name+'.fits'\n",
    "csv_file = csv_base+fiber_name+'.csv'\n",
    "flatlamp_file = flats_base+fiber_name+'.fits'\n",
    "\n",
    "output_fits = output_base + fiber_name + '_' + fits_name + '_optimal.fits'\n",
    "print('output file: ', output_fits)\n",
    "sample_info = load_spectral_sample(fits_file, csv_file, flatlamp_file, ref_fits, width)\n",
    "\n",
    "spectral = sample_info.get('spectral')\n",
    "flatlamp_spectral = sample_info.get('flatlamp_spectral')\n",
    "ref_spectral = sample_info.get('ref_spectral')\n",
    "coeffs_rows = sample_info.get('coeffs')\n",
    "poly_c = sample_info.get('poly_handle')\n",
    "plot_three_fits_trace(spectral, flatlamp_spectral, ref_spectral, len(coeffs_rows), coeffs_rows)\n",
    "order = 30"
   ]
  },
  {
   "cell_type": "code",
   "execution_count": null,
   "metadata": {},
   "outputs": [],
   "source": [
    "# plot the data around the trace before rectification\n",
    "in_data = np.array(spectral.get('data'), None)\n",
    "trace_band_data = poly_c.get_data_around_trace(coeffs_rows[order], in_data)\n",
    "s = np.shape(trace_band_data)\n",
    "print('band size:', s)"
   ]
  },
  {
   "cell_type": "code",
   "execution_count": null,
   "metadata": {},
   "outputs": [],
   "source": [
    "plot_trace_band(trace_band_data, 2000, 2096, 180, 195)"
   ]
  },
  {
   "cell_type": "code",
   "execution_count": null,
   "metadata": {},
   "outputs": [],
   "source": [
    "result_data = analyze_spectral(spectral, flatlamp_spectral, coeffs_rows, poly_c, order)\n",
    "o_data = result_data.get('optimal_data')[0, ]\n",
    "s_data = result_data.get('sum_data')[0, ]\n",
    "rectified_trace = result_data.get('rectified_trace')\n",
    "#import pdb; pdb.set_trace()\n",
    "s = np.shape(rectified_trace)\n",
    "plot_trace_band(rectified_trace, 0, s[1]-1, 0, s[0]-1, 'rectified trace on order '+str(order))\n",
    "ref_data = ref_spectral.get('data')\n",
    "plot_output(o_data, s_data, ref_data[order, ], order, width)"
   ]
  },
  {
   "cell_type": "code",
   "execution_count": null,
   "metadata": {},
   "outputs": [],
   "source": []
  }
 ],
 "metadata": {
  "kernelspec": {
   "display_name": "Python 3",
   "language": "python",
   "name": "python3"
  },
  "language_info": {
   "codemirror_mode": {
    "name": "ipython",
    "version": 3
   },
   "file_extension": ".py",
   "mimetype": "text/x-python",
   "name": "python",
   "nbconvert_exporter": "python",
   "pygments_lexer": "ipython3",
   "version": "3.6.1"
  }
 },
 "nbformat": 4,
 "nbformat_minor": 2
}
