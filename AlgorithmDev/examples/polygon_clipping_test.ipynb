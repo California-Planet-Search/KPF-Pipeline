{
 "cells": [
  {
   "cell_type": "code",
   "execution_count": null,
   "metadata": {},
   "outputs": [],
   "source": [
    "from __future__ import print_function\n",
    "from astropy.io import fits\n",
    "import numpy as np\n",
    "import matplotlib.pyplot as plt\n",
    "%matplotlib inline"
   ]
  },
  {
   "cell_type": "code",
   "execution_count": null,
   "metadata": {},
   "outputs": [],
   "source": [
    "from AlgorithmDev import PolygonClipping"
   ]
  },
  {
   "cell_type": "code",
   "execution_count": null,
   "metadata": {},
   "outputs": [],
   "source": [
    "def test_on_spectral_sample(fits_file):\n",
    "    poly_c = PolygonClipping(fits_file)\n",
    "    spectral = poly_c.load_simple_spectral_info()\n",
    "    print('data size: ', spectral['xdim'], spectral['ydim'], ' coeffs:', spectral['coeffs'])\n",
    "    \n",
    "    in_data = np.array(spectral.get('data'), None)\n",
    "    out_data = np.zeros((spectral['ydim'], spectral['xdim']))\n",
    "    \n",
    "    # straighten the spectral\n",
    "    result_data = poly_c.rectify_spectral_curve(spectral.get('coeffs', None), in_data, sum_extraction=False)\n",
    "    #import pdb; pdb.set_trace()\n",
    "    band_data = result_data.get('out_data')\n",
    "    poly_c.fill_2D_to_2D(band_data, out_data, result_data.get('width')[1], result_data.get('y_center'))\n",
    "    \n",
    "    plt.figure(figsize=(12,12))    \n",
    "    # spectral in fits    \n",
    "    plt.subplot(1, 2, 1)\n",
    "    im = plt.imshow(spectral['data'], cmap='gray')\n",
    "    plt.ylim(0, spectral['ydim'])\n",
    "    plt.colorbar(im, fraction=0.046, pad=0.04)\n",
    "    \n",
    "    # show output\n",
    "    plt.subplot(1, 2, 2)\n",
    "    plt.imshow(out_data, cmap='gray')\n",
    "    plt.ylim(0, spectral['ydim'])\n",
    "    plt.colorbar(im, fraction=0.046, pad=0.04)\n",
    "   \n",
    "    plt.subplots_adjust(wspace=0.5)\n",
    "    "
   ]
  },
  {
   "cell_type": "code",
   "execution_count": null,
   "metadata": {},
   "outputs": [],
   "source": [
    "test_on_spectral_sample('../test_data/simple_simulations/testimg1.fits')"
   ]
  },
  {
   "cell_type": "code",
   "execution_count": null,
   "metadata": {},
   "outputs": [],
   "source": [
    "test_on_spectral_sample('../test_data/simple_simulations/testimg2.fits')"
   ]
  },
  {
   "cell_type": "code",
   "execution_count": null,
   "metadata": {},
   "outputs": [],
   "source": [
    "test_on_spectral_sample('../test_data/simple_simulations/testimg3.fits')"
   ]
  },
  {
   "cell_type": "code",
   "execution_count": null,
   "metadata": {},
   "outputs": [],
   "source": [
    "test_on_spectral_sample('../test_data/simple_simulations/testimg4.fits')"
   ]
  },
  {
   "cell_type": "code",
   "execution_count": null,
   "metadata": {},
   "outputs": [],
   "source": [
    "test_on_spectral_sample('../test_data/simple_simulations/testimg5.fits')"
   ]
  },
  {
   "cell_type": "code",
   "execution_count": null,
   "metadata": {},
   "outputs": [],
   "source": []
  },
  {
   "cell_type": "code",
   "execution_count": null,
   "metadata": {},
   "outputs": [],
   "source": []
  }
 ],
 "metadata": {
  "kernelspec": {
   "display_name": "Python 3",
   "language": "python",
   "name": "python3"
  },
  "language_info": {
   "codemirror_mode": {
    "name": "ipython",
    "version": 3
   },
   "file_extension": ".py",
   "mimetype": "text/x-python",
   "name": "python",
   "nbconvert_exporter": "python",
   "pygments_lexer": "ipython3",
   "version": "3.6.8"
  }
 },
 "nbformat": 4,
 "nbformat_minor": 2
}
