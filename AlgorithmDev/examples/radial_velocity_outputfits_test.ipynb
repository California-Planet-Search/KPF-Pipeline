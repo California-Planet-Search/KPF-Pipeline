{
 "cells": [
  {
   "cell_type": "code",
   "execution_count": null,
   "metadata": {
    "scrolled": true
   },
   "outputs": [],
   "source": [
    "import os\n",
    "import numpy as np\n",
    "import warnings\n",
    "from astropy.coordinates import Angle\n",
    "from astropy.io import fits\n",
    "from astropy.modeling import models, fitting\n",
    "import glob\n",
    "from barycorrpy import get_BC_vel\n",
    "from scipy import interpolate\n",
    "import matplotlib.pyplot as plt\n",
    "import json\n",
    "import glob\n",
    "%matplotlib inline"
   ]
  },
  {
   "cell_type": "code",
   "execution_count": null,
   "metadata": {
    "scrolled": true
   },
   "outputs": [],
   "source": [
    "fit_g = fitting.LevMarLSQFitter()"
   ]
  },
  {
   "cell_type": "code",
   "execution_count": null,
   "metadata": {
    "scrolled": true
   },
   "outputs": [],
   "source": [
    "def plot_gaussian_on_curve(g_curve, curve_x, curve_y, order=None, title=None, harps=None, v_loop=None, harps_f=None, first_label=None, second_label=None):\n",
    "    plt.figure(figsize=(8,8))\n",
    "    \n",
    "    label_curve = \"ccf of \" + str(order) if order is not None else ('all orders from ' + first_label)\n",
    "    plt.plot(curve_x, curve_y, 'ko', label=label_curve)\n",
    "    if harps is not None:\n",
    "        plt.plot(curve_x, harps, 'mo', label=\"ccf \" if second_label is None else ('from '+second_label))\n",
    "    plt.plot(curve_x, g_curve(curve_x), label='1st mean:'+str(\"{0:.6f}\".format(g_curve.mean.value)))\n",
    "    if harps_f is not None:\n",
    "        plt.plot(curve_x, harps_f(curve_x), label = '2nd mean:'+ str(\"{0:.6f}\".format(harps_f.mean.value)))\n",
    "    plt.legend(loc=\"lower right\", prop={'size': 12})\n",
    "    plt.title(title) if title is not None else None"
   ]
  },
  {
   "cell_type": "code",
   "execution_count": null,
   "metadata": {
    "scrolled": true
   },
   "outputs": [],
   "source": [
    "def fit_ccf(velocities, ccf, rv_guess, velocity_cut=100.0):\n",
    "    g_init = models.Gaussian1D(amplitude=-1e7, mean=rv_guess, stddev=5.0)\n",
    "    i_cut = (velocities >= rv_guess - velocity_cut) & (velocities <= rv_guess + velocity_cut)\n",
    "    g_x = velocities[i_cut]\n",
    "    g_y = ccf[i_cut]-np.nanmedian(ccf)\n",
    "    gaussian_fit = fit_g(g_init, g_x, g_y)\n",
    "    rv_result = gaussian_fit.mean.value\n",
    "    return gaussian_fit, rv_result, g_x, g_y\n"
   ]
  },
  {
   "cell_type": "code",
   "execution_count": null,
   "metadata": {},
   "outputs": [],
   "source": [
    "def get_harps_ccf(keystr):\n",
    "    #import pdb; pdb.set_trace()\n",
    "    harps_file =  '../test_data/rv_test/HARPStauceti_baseline/ccf/HARPS'+keystr+'_ccf_G2_A.fits'\n",
    "    harps_ccf, ccf_head = fits.getdata(harps_file, header=True)\n",
    "    return harps_ccf"
   ]
  },
  {
   "cell_type": "markdown",
   "metadata": {},
   "source": [
    "## Compare Arpita output with reference output"
   ]
  },
  {
   "cell_type": "code",
   "execution_count": null,
   "metadata": {
    "scrolled": true
   },
   "outputs": [],
   "source": [
    "rv_output_fits = glob.glob('../test_data/rv_test/output_arpita/*.fits')\n",
    "rv_output_fits.sort()\n",
    "total_fits = len(rv_output_fits)\n",
    "print(total_fits)\n",
    "\n",
    "for n in range(total_fits):\n",
    "    #import pdb; pdb.set_trace()\n",
    "    fits_name = rv_output_fits[n]   \n",
    "    i1 = fits_name.index('ARPITA.20')+6\n",
    "    harps_ccf = get_harps_ccf(fits_name[i1:i1+24])\n",
    "    rv_data, head = fits.getdata(fits_name, header=True)\n",
    "    s = np.shape(rv_data)\n",
    "    v_size = s[0]\n",
    "    vel_sum = rv_data[v_size-1, :]\n",
    "    vel_loop = rv_data[v_size-2, :]\n",
    "    gaussian_fit, rv_result, g_x, g_y = fit_ccf(vel_loop, vel_sum, vel_loop[int(s[1]/2)])\n",
    "    harps_fit, harps_mean, h_x, h_y = fit_ccf(vel_loop, harps_ccf[v_size-1], vel_loop[int(s[1]/2)])\n",
    "    plot_gaussian_on_curve(gaussian_fit, g_x, g_y, title=fits_name[i1:-5]+'-('+str(n)+')', harps_f = harps_fit, harps=h_y, first_label='A', second_label='R')"
   ]
  },
  {
   "cell_type": "markdown",
   "metadata": {},
   "source": [
    "## compare Cindy's output (codes are ported from Arpita's) with Arpita's output"
   ]
  },
  {
   "cell_type": "code",
   "execution_count": null,
   "metadata": {
    "scrolled": true
   },
   "outputs": [],
   "source": [
    "a_output_fits = glob.glob('../test_data/rv_test/output_arpita/*.fits')\n",
    "a_output_fits.sort()\n",
    "total_fits = len(a_output_fits)\n",
    "print(total_fits)\n",
    "\n",
    "c_output_fits = glob.glob('../test_data/rv_test/output_cindy/*.fits')\n",
    "c_output_fits.sort();\n",
    "\n",
    "for n in range(total_fits):\n",
    "    #import pdb; pdb.set_trace()\n",
    "    fits_name = a_output_fits[n]   \n",
    "    i1 = fits_name.index('ARPITA.20')+ 6\n",
    "    #harps_ccf = get_harps_ccf(fits_name[i1:i1+24])\n",
    "    rv_data, head = fits.getdata(fits_name, header=True)\n",
    "    c_ccf, c_ccd_h = fits.getdata(c_output_fits[n], header=True)\n",
    "    s = np.shape(rv_data)\n",
    "    v_size = s[0]\n",
    "    vel_sum = rv_data[v_size-1, :]\n",
    "    vel_loop = rv_data[v_size-2, :]\n",
    "    gaussian_fit, rv_result, g_x, g_y = fit_ccf(vel_loop, vel_sum, vel_loop[int(s[1]/2)])\n",
    "    c_fit, c_mean, h_x, h_y = fit_ccf(vel_loop, c_ccf[v_size-1], vel_loop[int(s[1]/2)])\n",
    "    plot_gaussian_on_curve(gaussian_fit, g_x, g_y, title=fits_name[i1:-5]+'-('+str(n)+')', harps_f = c_fit, harps=h_y, first_label='C', second_label='A')\n",
    "    "
   ]
  },
  {
   "cell_type": "markdown",
   "metadata": {},
   "source": [
    "## compare fixed result with original result "
   ]
  },
  {
   "cell_type": "code",
   "execution_count": null,
   "metadata": {
    "scrolled": true
   },
   "outputs": [],
   "source": [
    "a_output_fits = glob.glob('../test_data/rv_test/output_cindy_fix/*.fits')\n",
    "a_output_fits.sort()\n",
    "total_fits = len(a_output_fits)\n",
    "print(total_fits)\n",
    "\n",
    "#c_output_fits = glob.glob('../test_data/rv_test/output_cindy/*.fits')\n",
    "c_output_fits = glob.glob('../RadialVelocity/output_cindy_1011_fix/*.fits')\n",
    "c_output_fits.sort();\n",
    "\n",
    "for n in range(total_fits):\n",
    "    #import pdb; pdb.set_trace()\n",
    "    fits_name = a_output_fits[n]   \n",
    "    i1 = fits_name.index('Cindy.20')+5\n",
    "    rv_data, head = fits.getdata(fits_name, header=True)\n",
    "    c_ccf, c_ccd_h = fits.getdata(c_output_fits[n], header=True)\n",
    "    s = np.shape(rv_data)\n",
    "    v_size = s[0]\n",
    "    vel_sum = rv_data[v_size-1, :]\n",
    "    vel_loop = rv_data[v_size-2, :]\n",
    "    gaussian_fit, rv_result, g_x, g_y = fit_ccf(vel_loop, vel_sum, vel_loop[int(s[1]/2)])\n",
    "    c_fit, c_mean, h_x, h_y = fit_ccf(vel_loop, c_ccf[v_size-1], vel_loop[int(s[1]/2)])\n",
    "    plot_gaussian_on_curve(gaussian_fit, g_x, g_y, title=fits_name[i1:-5]+'-('+str(n)+')', harps_f = c_fit, harps=h_y, first_label='C1', second_label='C2')\n",
    "    "
   ]
  },
  {
   "cell_type": "code",
   "execution_count": null,
   "metadata": {
    "scrolled": true
   },
   "outputs": [],
   "source": []
  }
 ],
 "metadata": {
  "kernelspec": {
   "display_name": "Python 3",
   "language": "python",
   "name": "python3"
  },
  "language_info": {
   "codemirror_mode": {
    "name": "ipython",
    "version": 3
   },
   "file_extension": ".py",
   "mimetype": "text/x-python",
   "name": "python",
   "nbconvert_exporter": "python",
   "pygments_lexer": "ipython3",
   "version": "3.6.8"
  }
 },
 "nbformat": 4,
 "nbformat_minor": 2
}
