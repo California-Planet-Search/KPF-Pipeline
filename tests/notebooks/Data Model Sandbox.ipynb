{
 "cells": [
  {
   "cell_type": "code",
   "execution_count": 1,
   "id": "c8a6e697",
   "metadata": {},
   "outputs": [],
   "source": [
    "%load_ext autoreload\n",
    "%autoreload 2\n",
    "\n",
    "import pandas as pd\n",
    "from kpfpipe.models import level0, level1, level2\n",
    "from astropy.io import fits"
   ]
  },
  {
   "cell_type": "code",
   "execution_count": 2,
   "id": "a117ae00",
   "metadata": {},
   "outputs": [
    {
     "name": "stdout",
     "output_type": "stream",
     "text": [
      "2020-12-20T01:41:48.123\n",
      "1\n",
      "2 2020-12-20T01:41:48.123\n"
     ]
    }
   ],
   "source": [
    "l0 = level0.KPF0.from_fits('/data/L0/20220520/KP.20220520.67167.36.fits')\n",
    "print(l0.header['PRIMARY']['DATE-OBS'])\n",
    "l1 = level1.KPF1.from_l0(l0)\n",
    "print(l1.header['PRIMARY']['DATALVL'])\n",
    "l2 = level2.KPF2.from_l1(l1)\n",
    "print(l2.header['PRIMARY']['DATALVL'], l2.header['PRIMARY']['DATE-OBS'])"
   ]
  },
  {
   "cell_type": "code",
   "execution_count": 7,
   "id": "036fea40",
   "metadata": {},
   "outputs": [
    {
     "name": "stdout",
     "output_type": "stream",
     "text": [
      "Empty KPF2 Data product\n",
      "|Header Name          |# Cards              \n",
      "================================================================================\n",
      "|PRIMARY              |                 113 \n",
      "|RECEIPT              |                   0 \n",
      "|CONFIG               |                   0 \n",
      "|GREEN_CCF            |                   0 \n",
      "|RED_CCF              |                   0 \n",
      "|RV                   |                   0 \n",
      "|ACTIVITY             |                   0 \n",
      "\n",
      "|Extension Name       |Data Type            |Data Dimension       \n",
      "================================================================================\n",
      "|RECEIPT              |table                |0                   \n",
      "|CONFIG               |table                |0                   \n",
      "|GREEN_CCF            |image                |(0,)                \n",
      "|RED_CCF              |image                |(0,)                \n",
      "|RV                   |table                |0                   \n",
      "|ACTIVITY             |table                |0                   \n",
      "\n"
     ]
    }
   ],
   "source": [
    "l2.info()"
   ]
  },
  {
   "cell_type": "code",
   "execution_count": 55,
   "id": "b33a59d0",
   "metadata": {},
   "outputs": [
    {
     "data": {
      "text/plain": [
       "[<astropy.io.fits.hdu.image.PrimaryHDU object at 0x7f4678eea048>, <astropy.io.fits.hdu.table.BinTableHDU object at 0x7f467912c550>, <astropy.io.fits.hdu.table.BinTableHDU object at 0x7f467909dcf8>, <astropy.io.fits.hdu.image.ImageHDU object at 0x7f467909d048>, <astropy.io.fits.hdu.image.ImageHDU object at 0x7f46790b1be0>, <astropy.io.fits.hdu.image.ImageHDU object at 0x7f467907ab38>, <astropy.io.fits.hdu.image.ImageHDU object at 0x7f4679080c88>, <astropy.io.fits.hdu.image.ImageHDU object at 0x7f4678edb4a8>, <astropy.io.fits.hdu.image.ImageHDU object at 0x7f4678edbb38>, <astropy.io.fits.hdu.image.ImageHDU object at 0x7f4678edbfd0>, <astropy.io.fits.hdu.image.ImageHDU object at 0x7f46790bbd68>, <astropy.io.fits.hdu.image.ImageHDU object at 0x7f46790b14a8>, <astropy.io.fits.hdu.image.ImageHDU object at 0x7f46790b1b38>, <astropy.io.fits.hdu.image.ImageHDU object at 0x7f467909da20>, <astropy.io.fits.hdu.image.ImageHDU object at 0x7f467909df60>, <astropy.io.fits.hdu.image.ImageHDU object at 0x7f4679142828>, <astropy.io.fits.hdu.image.ImageHDU object at 0x7f4679155668>, <astropy.io.fits.hdu.image.ImageHDU object at 0x7f4678ed4978>, <astropy.io.fits.hdu.table.BinTableHDU object at 0x7f4678eeab38>]"
      ]
     },
     "execution_count": 55,
     "metadata": {},
     "output_type": "execute_result"
    }
   ],
   "source": [
    "hdu_list = fits.open('tmp.fits')\n",
    "hdu_list"
   ]
  },
  {
   "cell_type": "code",
   "execution_count": 11,
   "id": "3f0b8cfd",
   "metadata": {},
   "outputs": [],
   "source": [
    "l0 = level0.KPF0.from_fits('tmp.fits', data_type='KPF')"
   ]
  },
  {
   "cell_type": "code",
   "execution_count": 12,
   "id": "594577fc",
   "metadata": {},
   "outputs": [
    {
     "name": "stdout",
     "output_type": "stream",
     "text": [
      "File name: tmp.fits\n",
      "|Header Name          |# Cards              \n",
      "================================================================================\n",
      "|PRIMARY              |                  57 \n",
      "|RECEIPT              |                  29 \n",
      "|CONFIG               |                  13 \n",
      "|GREEN_AMP1           |                   7 \n",
      "|GREEN_AMP2           |                   7 \n",
      "|GREEN_AMP3           |                   7 \n",
      "|GREEN_AMP4           |                   7 \n",
      "|GREEN_CCD            |                   7 \n",
      "|GREEN_VAR            |                   7 \n",
      "|RED_AMP1             |                   7 \n",
      "|RED_AMP2             |                   7 \n",
      "|RED_AMP3             |                   7 \n",
      "|RED_AMP4             |                   7 \n",
      "|RED_CCD              |                   7 \n",
      "|RED_VAR              |                   7 \n",
      "|CA_HK                |                   7 \n",
      "|EXPMETER             |                   7 \n",
      "|GUIDECAM             |                   7 \n",
      "|SOLAR_IRRADIANCE     |                   9 \n",
      "\n",
      "|Extension Name       |Data Type            |Data Dimension       \n",
      "================================================================================\n",
      "|RECEIPT              |table                |1                   \n",
      "|CONFIG               |table                |0                   \n",
      "|GREEN_AMP1           |image                |(0,)                \n",
      "|GREEN_AMP2           |image                |(0,)                \n",
      "|GREEN_AMP3           |image                |(0,)                \n",
      "|GREEN_AMP4           |image                |(0,)                \n",
      "|GREEN_CCD            |image                |(0,)                \n",
      "|GREEN_VAR            |image                |(0,)                \n",
      "|RED_AMP1             |image                |(0,)                \n",
      "|RED_AMP2             |image                |(0,)                \n",
      "|RED_AMP3             |image                |(0,)                \n",
      "|RED_AMP4             |image                |(0,)                \n",
      "|RED_CCD              |image                |(0,)                \n",
      "|RED_VAR              |image                |(0,)                \n",
      "|CA_HK                |image                |(0,)                \n",
      "|EXPMETER             |image                |(0,)                \n",
      "|GUIDECAM             |image                |(0,)                \n",
      "|SOLAR_IRRADIANCE     |table                |0                   \n",
      "\n"
     ]
    }
   ],
   "source": [
    "l0.info()"
   ]
  },
  {
   "cell_type": "code",
   "execution_count": null,
   "id": "cae6d799",
   "metadata": {},
   "outputs": [],
   "source": []
  }
 ],
 "metadata": {
  "kernelspec": {
   "display_name": "Python 3",
   "language": "python",
   "name": "python3"
  },
  "language_info": {
   "codemirror_mode": {
    "name": "ipython",
    "version": 3
   },
   "file_extension": ".py",
   "mimetype": "text/x-python",
   "name": "python",
   "nbconvert_exporter": "python",
   "pygments_lexer": "ipython3",
   "version": "3.6.12"
  }
 },
 "nbformat": 4,
 "nbformat_minor": 5
}
