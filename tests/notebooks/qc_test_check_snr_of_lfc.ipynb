{
 "cells": [
  {
   "cell_type": "markdown",
   "metadata": {},
   "source": [
    "## Develop a notebook that identifies SNR levels that exceed a specified limit.\n",
    "### Start with LFC frames."
   ]
  },
  {
   "cell_type": "code",
   "execution_count": 4,
   "metadata": {},
   "outputs": [],
   "source": [
    "from modules.Utils.kpf_parse import get_datecode\n",
    "from kpfpipe.models.level1 import KPF1"
   ]
  },
  {
   "cell_type": "code",
   "execution_count": 16,
   "metadata": {},
   "outputs": [],
   "source": [
    "def L1_check_snr_flc(L1, data_products=['auto']):\n",
    "    \"\"\"\n",
    "    This Quality Control function checks checks the SNR of\n",
    "    LFC frames, marking satured frames as failing the test.\n",
    "    \n",
    "    Args:\n",
    "         L1 - an L1 object\n",
    "         data_products - L1 data_products to check (list)\n",
    "         \n",
    "         This file should pass: KP.20240711.11549.10_L1.fits\n",
    "         This file should fail: KP.20240506.33962.36_L1.fits\n",
    "     Returns:\n",
    "         QC_pass - a boolean signifying that the QC passed for failed\n",
    "    \"\"\"\n",
    "\n",
    "    # Check L1 header\n",
    "    # SNR_452 = L1.header['PRIMARY']['SNRSC452'] # Not used for LFC\n",
    "    SNR_548 = L1.header['PRIMARY']['SNRSC548'] # \n",
    "    # SNR_652 = L1.header['PRIMARY']['SNRSC652'] # # Not used for LFC\n",
    "    SNR_747 = L1.header['PRIMARY']['SNRSC747'] # \n",
    "\n",
    "    object = L1.header['PRIMARY']['OBJECT']\n",
    "    if object like 'autocal-lfc' \n",
    "        SNR_limit = 2800 # Optimistic limit. Could be lower.\n",
    "        if (SNR_548 >= SNR_limit) | (SNR_747 >= SNR_limit):\n",
    "            QC_pass = False\n",
    "        else:\n",
    "            QC_pass = True\n",
    "    else:\n",
    "        QC_pass = True\n",
    "        \n",
    "    return QC_pass\n"
   ]
  },
  {
   "cell_type": "code",
   "execution_count": 32,
   "metadata": {},
   "outputs": [
    {
     "name": "stdout",
     "output_type": "stream",
     "text": [
      "/data/L1/20241023/KP.20241023.50299.76_L1.fits\n",
      "SNR at 452nm:  199.1\n",
      "SNR at 548nm:  442.8\n",
      "SNR at 652nm:  507.4\n",
      "SNR at 747nm:  525.4\n",
      "KP.20241023.50299.76 True\n"
     ]
    }
   ],
   "source": [
    "# ObsID = \"KP.20240711.11549.10\" # should pass.\n",
    "ObsID = \"KP.20240506.33962.36\" # Saturated file. should fail\n",
    "ObsID = \"KP.20241023.50299.76\" # Not an lfc, should not be checked.\n",
    "L1_filename = '/data/L1/' + get_datecode(ObsID) + '/' + ObsID + '_L1.fits'\n",
    "L1a = KPF1.from_fits(L1_filename)\n",
    "print(L1_filename)\n",
    "\n",
    "\n",
    "SNR_452 = L1a.header['PRIMARY']['SNRSC452'] # \n",
    "SNR_548 = L1a.header['PRIMARY']['SNRSC548'] # \n",
    "SNR_652 = L1a.header['PRIMARY']['SNRSC652'] # \n",
    "SNR_747 = L1a.header['PRIMARY']['SNRSC747'] # \n",
    "\n",
    "print('SNR at 452nm: ',SNR_452)\n",
    "print('SNR at 548nm: ',SNR_548)\n",
    "print('SNR at 652nm: ',SNR_652)\n",
    "print('SNR at 747nm: ',SNR_747)\n",
    "\n",
    "SNR_limit = 2800\n",
    "object = L1a.header['PRIMARY']['OBJECT']\n",
    "if object in ('autocal-lfc'):\n",
    "    SNR_limit = 2800 # Optimistic limit. Could be lower.\n",
    "    if (SNR_548 >= SNR_limit) | (SNR_747 >= SNR_limit):\n",
    "        QC_pass = False\n",
    "    else:\n",
    "        QC_pass = True\n",
    "else:\n",
    "    QC_pass = True\n",
    "print(ObsID, QC_pass)"
   ]
  },
  {
   "cell_type": "code",
   "execution_count": 33,
   "metadata": {},
   "outputs": [
    {
     "data": {
      "text/plain": [
       "True"
      ]
     },
     "execution_count": 33,
     "metadata": {},
     "output_type": "execute_result"
    }
   ],
   "source": [
    "L1_check_snr_flc(L1a)"
   ]
  },
  {
   "cell_type": "code",
   "execution_count": null,
   "metadata": {},
   "outputs": [],
   "source": []
  },
  {
   "cell_type": "code",
   "execution_count": null,
   "metadata": {},
   "outputs": [],
   "source": []
  }
 ],
 "metadata": {
  "kernelspec": {
   "display_name": "Python 3",
   "language": "python",
   "name": "python3"
  },
  "language_info": {
   "codemirror_mode": {
    "name": "ipython",
    "version": 3
   },
   "file_extension": ".py",
   "mimetype": "text/x-python",
   "name": "python",
   "nbconvert_exporter": "python",
   "pygments_lexer": "ipython3",
   "version": "3.6.12"
  }
 },
 "nbformat": 4,
 "nbformat_minor": 2
}
