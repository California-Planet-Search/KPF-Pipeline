{
 "cells": [
  {
   "cell_type": "markdown",
   "metadata": {},
   "source": [
    "# Develop notebook that checks header keywords that identify a bad/smeared readout.\n",
    "\n",
    "Exposures with aborted/smeared readouts typically have elapsed \n",
    "expsoure times that are different from desired exposure times. \n",
    "Elapsed times are between 6-7 seconds regardless of what the \n",
    "desired exposure time is. These are easy to visually identify \n",
    "for etalon and LFC, but more challenging for dark/thar and \n",
    "other calibrations. "
   ]
  },
  {
   "cell_type": "markdown",
   "metadata": {},
   "source": []
  },
  {
   "cell_type": "code",
   "execution_count": 2,
   "metadata": {},
   "outputs": [],
   "source": [
    "from modules.Utils.kpf_parse import get_datecode\n",
    "from kpfpipe.models.level0 import KPF0"
   ]
  },
  {
   "cell_type": "code",
   "execution_count": 54,
   "metadata": {},
   "outputs": [],
   "source": [
    "def L0_bad_readout_check(L0, data_products=['auto'], debug=False):\n",
    "    \"\"\"\n",
    "    This Quality Control function checks if desired readout time\n",
    "    matches the expected readout time (within some limit). This \n",
    "    mismatch idetifies a 'smeared' readout scenario that we want to junk.\n",
    "    Bad readout states can also have no value for Greed/Red elapsed time.\n",
    "    Bad readouts have elapsed time between 6 and 7 seconds.\n",
    "    This occurs a few times per day.\n",
    "    \n",
    "    Args:\n",
    "         L0 - an L0 object\n",
    "         data_products - L0 data_products to check (list)\n",
    "                         possible elements = 'auto', 'all',\n",
    "                                             'Green', 'Red', 'CaHK', 'ExpMeter',\n",
    "                                             'Guider', 'Telemetry', 'Pyrheliometer'\n",
    "                                             (note that 'all' should be used rarely since good data\n",
    "                                              could be missing some extensions, e.g. CaHK, Pyrheliometer)\n",
    "         debug - an optional flag.  If True, missing data products are noted.\n",
    "\n",
    "         Did not catch this case: KP.20240926.17416.90, where no data shows up on qlp, but QC tests pass.\n",
    "     Returns:\n",
    "         QC_pass - a boolean signifying that the QC passed for failed\n",
    "    \"\"\"\n",
    "\n",
    "    # Check primary header\n",
    "    Texp_desired = L0.header['PRIMARY']['EXPTIME'] # desired exptime\n",
    "    Texp_actual  = L0.header['PRIMARY']['ELAPSED'] # actual exposure time\n",
    "    # print('Desired exposure time: ', Texp_desired)\n",
    "    # print('Actual exposure time:  ', Texp_actual)\n",
    "\n",
    "    if (Texp_desired >= 7) and ((Texp_actual > 6.0) & (Texp_actual <= 6.6)):\n",
    "        QC_pass = False\n",
    "    else:\n",
    "        QC_pass = True\n",
    "\n",
    "    return QC_pass"
   ]
  },
  {
   "cell_type": "code",
   "execution_count": 55,
   "metadata": {},
   "outputs": [],
   "source": [
    "###  We checked if the green and red elapsed times needed checked, but they are consistent with 'elapsed'\n",
    "\n",
    "    # # Check primary header, green elapsed time\n",
    "    # Texp_desired = L0.header['PRIMARY']['GRELAPS'] # desired exptime\n",
    "    # Texp_actual  = L0.header['PRIMARY']['GRELAPS'] # actual exposure time\n",
    "    # print('Desired exposure time: ', Texp_desired)\n",
    "    # print('Actual exposure time:  ', Texp_actual)\n",
    "\n",
    "    # if (Texp_desired > 7) & (Texp_actual < 7):\n",
    "    # # if (Texp_actual < 7):        \n",
    "    #     QC_pass = False\n",
    "    # else:\n",
    "    #     QC_pass = True\n",
    "\n",
    "\n",
    "    # # Check primary header, green elapsed time\n",
    "    # Texp_desired = L0.header['PRIMARY']['RDELAPS'] # desired exptime\n",
    "    # Texp_actual  = L0.header['PRIMARY']['RDELAPS'] # actual exposure time\n",
    "    # print('Desired exposure time: ', Texp_desired)\n",
    "    # print('Actual exposure time:  ', Texp_actual)\n",
    "\n",
    "    # if (Texp_desired > 7) & (Texp_actual < 7):\n",
    "    # # if (Texp_actual < 7):        \n",
    "    #     QC_pass = False\n",
    "    # else:\n",
    "    #     QC_pass = True\n"
   ]
  },
  {
   "cell_type": "code",
   "execution_count": 56,
   "metadata": {},
   "outputs": [
    {
     "name": "stdout",
     "output_type": "stream",
     "text": [
      "/data/L0/20241008/KP.20241008.31459.57.fits\n",
      "/data/L0/20241008/KP.20241008.25014.55.fits\n",
      "For bad example\n",
      "Desired exposure time:  60.0\n",
      "Actual exposure time:   6.464\n",
      "For good example\n",
      "Desired exposure time:  60.0\n",
      "Actual exposure time:   60.018\n"
     ]
    }
   ],
   "source": [
    "# Use the from_fits method from the KPF DRP (not astropy.fits) to read in L0 files\n",
    "\n",
    "ObsID = 'KP.20241008.31459.57' # Bad Readout etalon file.\n",
    "L0_filename = '/data/L0/' + get_datecode(ObsID) + '/' + ObsID + '.fits'\n",
    "L0a = KPF0.from_fits(L0_filename)\n",
    "print(L0_filename)\n",
    "\n",
    "ObsID = 'KP.20241008.25014.55' # good KPF file\n",
    "L0_filename = '/data/L0/' + get_datecode(ObsID) + '/' + ObsID + '.fits'\n",
    "L0b = KPF0.from_fits(L0_filename)\n",
    "print(L0_filename)\n",
    "\n",
    "Texp_desired_a = L0a.header['PRIMARY']['EXPTIME'] # desired exptime\n",
    "Texp_actual_a  = L0a.header['PRIMARY']['ELAPSED'] # actual exposure time\n",
    "\n",
    "print(\"For bad example\")\n",
    "print('Desired exposure time: ', Texp_desired_a)\n",
    "print('Actual exposure time:  ', Texp_actual_a)\n",
    "\n",
    "\n",
    "Texp_desired_b = L0b.header['PRIMARY']['EXPTIME'] # desired exptime\n",
    "Texp_actual_b  = L0b.header['PRIMARY']['ELAPSED'] # actual exposure time\n",
    "\n",
    "print(\"For good example\")\n",
    "print('Desired exposure time: ', Texp_desired_b)\n",
    "print('Actual exposure time:  ', Texp_actual_b)\n"
   ]
  },
  {
   "cell_type": "code",
   "execution_count": 58,
   "metadata": {},
   "outputs": [
    {
     "name": "stdout",
     "output_type": "stream",
     "text": [
      "Desired exposure time:  60.0\n",
      "Actual exposure time:   6.464\n",
      "Pass/Fail 1 (should fail): False\n",
      "Desired exposure time:  60.0\n",
      "Actual exposure time:   60.018\n",
      "Pass/Fail 2 (Should pass): True\n"
     ]
    }
   ],
   "source": [
    "passfail_1 = L0_bad_readout_check(L0a, data_products=['auto'], debug=False)\n",
    "print(\"Pass/Fail 1 (should fail):\",passfail_1)\n",
    "# print(L0a)\n",
    "\n",
    "passfail_2 = L0_bad_readout_check(L0b, data_products=['auto'], debug=False)\n",
    "print(\"Pass/Fail 2 (Should pass):\",passfail_2)\n",
    "# print(L0b)"
   ]
  },
  {
   "cell_type": "code",
   "execution_count": null,
   "metadata": {},
   "outputs": [],
   "source": []
  },
  {
   "cell_type": "code",
   "execution_count": null,
   "metadata": {},
   "outputs": [],
   "source": []
  },
  {
   "cell_type": "code",
   "execution_count": null,
   "metadata": {},
   "outputs": [],
   "source": []
  }
 ],
 "metadata": {
  "kernelspec": {
   "display_name": "Python 3",
   "language": "python",
   "name": "python3"
  },
  "language_info": {
   "codemirror_mode": {
    "name": "ipython",
    "version": 3
   },
   "file_extension": ".py",
   "mimetype": "text/x-python",
   "name": "python",
   "nbconvert_exporter": "python",
   "pygments_lexer": "ipython3",
   "version": "3.6.12"
  }
 },
 "nbformat": 4,
 "nbformat_minor": 2
}
