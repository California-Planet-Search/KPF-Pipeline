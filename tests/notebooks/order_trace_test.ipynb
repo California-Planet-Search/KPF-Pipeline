{
 "cells": [
  {
   "cell_type": "code",
   "execution_count": 1,
   "metadata": {},
   "outputs": [],
   "source": [
    "import numpy as np\n",
    "import os, sys\n",
    "import math\n",
    "from scipy import ndimage, misc\n",
    "from astropy.coordinates import Angle\n",
    "from astropy.io import fits\n",
    "import matplotlib.pyplot as plt\n",
    "from scipy import linalg\n",
    "import csv\n",
    "import pickle\n",
    "from matplotlib.colors import LogNorm\n",
    "from matplotlib import colors\n",
    "import configparser\n",
    "import json\n",
    "from dotenv import load_dotenv, find_dotenv\n",
    "import pandas as pd\n",
    "import logging\n",
    "%matplotlib inline\n",
    "power = 3\n",
    "power_dir = \"output_neid_order_trace\"\n",
    "# power_dir = \"output_paras_order_trace\""
   ]
  },
  {
   "cell_type": "code",
   "execution_count": 2,
   "metadata": {},
   "outputs": [
    {
     "name": "stdout",
     "output_type": "stream",
     "text": [
      "/Users/cwang/documents/KPF/ownCloud/KPF-Pipeline-TestData/\n"
     ]
    }
   ],
   "source": [
    "from modules.order_trace.src.alg import OrderTraceAlg\n",
    "from kpfpipe.models.level0 import KPF0\n",
    "load_dotenv()\n",
    "KPF_TESTDATA = os.getenv('KPFPIPE_TEST_DATA') + '/'\n",
    "print(KPF_TESTDATA)\n",
    "MODULE_DIR = '../../modules/order_trace/'"
   ]
  },
  {
   "cell_type": "code",
   "execution_count": null,
   "metadata": {},
   "outputs": [],
   "source": [
    "from tests.regression import test_order_trace\n",
    "# add __init__.py tentatively for testing the following functions.\n",
    "test_order_trace.test_init_exceptions()"
   ]
  },
  {
   "cell_type": "code",
   "execution_count": null,
   "metadata": {
    "scrolled": false
   },
   "outputs": [],
   "source": [
    "\n",
    "test_order_trace.test_locate_clusters_paras()\n",
    "test_order_trace.test_form_clusters_paras()\n",
    "test_order_trace.test_advanced_cluster_cleaning_paras()\n",
    "test_order_trace.test_clean_clusters_on_borders_paras()\n",
    "test_order_trace.test_merge_clusters_and_clean_paras()\n",
    "test_order_trace.test_find_widths_paras()\n"
   ]
  },
  {
   "cell_type": "code",
   "execution_count": null,
   "metadata": {},
   "outputs": [],
   "source": [
    "# input: spectral fits is from dropbox KPF-Pipeline-TestData/order_trace_test\n",
    "spectral_fits=  KPF_TESTDATA + 'polygon_clipping_test/paras_data/paras.flatA.fits'\n",
    "output_dir = MODULE_DIR + 'results/result_data'\n",
    "output_img_dir = MODULE_DIR + 'results/result_img'\n",
    "\n",
    "# output\n",
    "cluster_info_xy_csv = output_dir +'/cluster_xy_info_paras.csv'\n",
    "\n",
    "cluster_clean_fits = output_img_dir+'/cluster_form_paras.fits'\n",
    "cluster_info_clean_csv = output_dir + '/cluster_form_info_paras.csv'\n",
    "\n",
    "cluster_after_removal_fits = output_img_dir + '/cluster_clean_paras.fits'\n",
    "cluster_info_after_removal_csv = output_dir + '/cluster_clean_info_paras.csv'\n",
    "\n",
    "cluster_border_fits = output_img_dir +'/cluster_clean_border_paras.fits'\n",
    "cluster_info_border_csv = output_dir + '/cluster_clean_border_info_paras.csv'\n",
    "\n",
    "cluster_merge_fitting = output_img_dir+'/cluster_merge_paras.fits'\n",
    "cluster_info_merge_fitting_csv = output_dir+'/cluster_merge_info_paras.csv'\n",
    "\n",
    "result_csv = output_dir + '/cluster_curve_paras.csv'"
   ]
  },
  {
   "cell_type": "code",
   "execution_count": null,
   "metadata": {},
   "outputs": [],
   "source": [
    "# input: spectral fits is from dropbox KPF-Pipeline-TestData/NEIData/FLAT\n",
    "# simulated_nobias = '../../test_results/kpf/nobias_tester_sim.fits'\n",
    "# simulated_final = '../../test_results/kpf/finalbias_tester_sim.fits'\n",
    "spectral_fits= KPF_TESTDATA + '/NEIDdata/FLAT/stacked_2fiber_flat.fits'\n",
    "output_dir = MODULE_DIR + 'results/result_data'\n",
    "output_img_dir = MODULE_DIR + 'results/result_img'\n",
    "png = 'neid_flat_'\n",
    "\n",
    "# output\n",
    "cluster_info_xy_csv = output_dir +'/cluster_xy_info_neid.csv'\n",
    "\n",
    "cluster_clean_fits = output_img_dir+'/cluster_form_neid.fits'\n",
    "cluster_info_clean_csv = output_dir + '/cluster_form_info_neid.csv'\n",
    "\n",
    "cluster_after_removal_fits = output_img_dir + '/cluster_clean_neid.fits'\n",
    "cluster_info_after_removal_csv = output_dir + '/cluster_clean_info_neid.csv'\n",
    "\n",
    "cluster_border_fits = output_img_dir +'/cluster_clean_border_neid.fits'\n",
    "cluster_info_border_csv = output_dir + '/cluster_clean_border_info_neid.csv'\n",
    "\n",
    "cluster_merge_fitting = output_img_dir+'/cluster_merge_neid.fits'\n",
    "cluster_info_merge_fitting_csv = output_dir+'/cluster_merge_info_neid.csv'\n",
    "\n",
    "result_csv = output_dir + '/cluster_curve_neid.csv'"
   ]
  },
  {
   "cell_type": "code",
   "execution_count": 3,
   "metadata": {},
   "outputs": [
    {
     "name": "stdout",
     "output_type": "stream",
     "text": [
      "/Users/cwang/documents/KPF/KPF-Pipeline/test_data/kpf/2D/20220518/KP.20220518.17215.78.fits\n"
     ]
    }
   ],
   "source": [
    "# spectral_fits= KPF_TESTDATA + '/KPF-Pipeline-TestData/KPF_Simulated_Data/flat/' + \n",
    "#                'KPF_rays-1.0E+05_orders- 71-103_cal-incandescent_sci-incandescent_sky-incandescent_normalized_159_Red.fits'\n",
    "# spectral_fits = KPF_TESTDATA + 'KPF_Simulated_Data/test_biasflats/kpf_green_red_flat.fits'\n",
    "# spectral_fits = '/Users/cwang/documents/KPF/KPF-Pipeline/test_data/kpf/220316/assembled_KPF_220316_153200_L0.fits'\n",
    "# spectral_fits = '/Users/cwang/documents/KPF/KPF-Pipeline/test_data/kpf/220411/lev0/KPF_220411_193700_L0.fits'\n",
    "# spectral_fits = '/Users/cwang/documents/KPF/KPF-Pipeline/test_data/kpf/L0/20220505/'\n",
    "#spectral_fits = '/Users/cwang/documents/KPF/KPF-Pipeline/test_data/kpf/ait/red/20220413/L0/KP.20220413.22310.00_2D_bkgsub.fits'\n",
    "#spectral_fits = '/Users/cwang/documents/KPF/KPF-Pipeline/test_data/kpf/ait/green/20220415/L0/KP.20220415.23260.00_2D_bkgsub.fits'\n",
    "#spectral_fits = '/Users/cwang/documents/KPF/KPF-Pipeline/test_data/kpf/2D/20220510/KP.20220510.04445.31_2D.fits'\n",
    "#spectral_fits = '/Users/cwang/documents/KPF/KPF-Pipeline/test_data/kpf/2D/20220516_log/KP.20220516.54179.83.fits'\n",
    "spectral_fits = '/Users/cwang/documents/KPF/KPF-Pipeline/test_data/kpf/2D/20220518/KP.20220518.17215.78.fits'\n",
    "print(spectral_fits)\n",
    "# spectral_fits = '/Users/cwang/documents/KPF/KPF-Pipeline/test_results/kpf/data/kpf_green_red_flat.fits'\n",
    "output_dir = MODULE_DIR + 'results/result_data'\n",
    "output_img_dir = MODULE_DIR + 'results/result_img'\n",
    "\n",
    "# spectral_fits= KPF_TESTDATA + '/KPF-Pipeline-TestData/KPF_Simulated_Data/flat/kpf_green_L0_20210426T000000.fits'\n",
    "png = 'kpf_flat_'\n",
    "\n",
    "# output\n",
    "cluster_info_xy_csv = output_dir +'/cluster_xy_info_kpf.csv'\n",
    "\n",
    "cluster_clean_fits = output_img_dir+'/cluster_form_kpf.fits'\n",
    "cluster_info_clean_csv = output_dir + '/cluster_form_info_kpf.csv'\n",
    "\n",
    "cluster_after_removal_fits = output_img_dir + '/cluster_clean_kpf.fits'\n",
    "cluster_info_after_removal_csv = output_dir + '/cluster_clean_info_kpf.csv'\n",
    "\n",
    "cluster_border_fits = output_img_dir +'/cluster_clean_border_kpf.fits'\n",
    "cluster_info_border_csv = output_dir + '/cluster_clean_border_info_kpf.csv'\n",
    "\n",
    "cluster_merge_fitting = output_img_dir+'/cluster_merge_kpf.fits'\n",
    "cluster_info_merge_fitting_csv = output_dir+'/cluster_merge_info_kpf.csv'\n",
    "\n",
    "result_csv = output_dir + '/cluster_curve_kpf.csv'"
   ]
  },
  {
   "cell_type": "code",
   "execution_count": 4,
   "metadata": {},
   "outputs": [],
   "source": [
    "# copy of start_logger from logger.py\n",
    "def get_level(lvl:str) -> int:\n",
    "    if lvl == 'debug': return logging.DEBUG\n",
    "    elif lvl == 'info': return logging.INFO\n",
    "    elif lvl == 'warning': return logging.WARNING\n",
    "    elif lvl == 'error': return logging.ERROR\n",
    "    elif lvl == 'critical': return logging.CRITICAL\n",
    "    else: return logging.NOTSET\n",
    "\n",
    "def start_logger(logger_name: str, config: str):\n",
    "    if config is None: \n",
    "        # a config file is not provided, so don't start logger\n",
    "        print('[{}] missing log configuration...not starting a new logger'.format(\n",
    "            logger_name))\n",
    "        return None\n",
    "    config_obj = configparser.ConfigParser()\n",
    "    res = config_obj.read(config)\n",
    "    if res == []:\n",
    "        return None\n",
    "\n",
    "    log_cfg = config_obj['LOGGER']\n",
    "\n",
    "    log_start = log_cfg.get('start_log', False)\n",
    "    log_path = log_cfg.get('log_path', 'log')\n",
    "    log_lvl = log_cfg.get('log_level', logging.WARNING)\n",
    "    log_verbose = log_cfg.getboolean('log_verbose', True)\n",
    "    # logger.setLevel(get_level(log_lvl))\n",
    "        \n",
    "    # if log_start:\n",
    "    #     # setup a log format\n",
    "    #     formatter = logging.Formatter('[%(name)s][%(levelname)s]:%(message)s')\n",
    "    #     # setup a log file\n",
    "    #     f_handle = logging.FileHandler(log_path, mode='w') # logging to file\n",
    "    #     f_handle.setLevel(get_level(log_lvl))\n",
    "    #     f_handle.setFormatter(formatter)\n",
    "    #     logger.addHandler(f_handle)\n",
    "\n",
    "    #     if log_verbose: \n",
    "    #         # also print to terminal \n",
    "    #         s_handle = logging.StreamHandler()\n",
    "    #         s_handle.setLevel(get_level(log_lvl))\n",
    "    #         s_handle.setFormatter(formatter)\n",
    "    #         logger.addHandler(s_handle)\n",
    "    # return logger\n",
    "\n",
    "\n",
    "    logger = logging.getLogger(logger_name)\n",
    "    logger.setLevel(get_level(log_lvl))\n",
    "    logger.propagate = False\n",
    "\n",
    "    formatter = logging.Formatter('[%(name)s][%(levelname)s]:%(message)s')\n",
    "    s_handle = logging.StreamHandler()\n",
    "    s_handle.setLevel(get_level(log_lvl))\n",
    "    s_handle.setFormatter(formatter)\n",
    "    logger.addHandler(s_handle)\n",
    "    return logger\n"
   ]
  },
  {
   "cell_type": "code",
   "execution_count": 5,
   "metadata": {},
   "outputs": [],
   "source": [
    "def plot_imshow(img):\n",
    "    if (np.nanmax(img) == 1) and (np.nanmin(img) == 0):\n",
    "        print('is bw image')\n",
    "        im = plt.imshow(img * -1, cmap='gray')\n",
    "    else:    # in case there is '0.0' for LogNorm\n",
    "        im = plt.imshow(img, cmap='gray', interpolation='nearest', norm=LogNorm())\n",
    "    return im    "
   ]
  },
  {
   "cell_type": "code",
   "execution_count": 6,
   "metadata": {},
   "outputs": [],
   "source": [
    "# plot image from fits by setting area xmin, xmax, ymin, ymax\n",
    "def plot_img(img, ymin, ymax, p_w=20, p_h=20, xmin=None, xmax=None, title=\"\", aspect=None, save=''):\n",
    "    #if is_bw is True:\n",
    "    #    img = convert_to_bw(img)\n",
    "\n",
    "    plt.figure(figsize=(p_w, p_h), frameon=False)\n",
    "    plt.subplot(1, 1, 1)\n",
    "    if xmin is None:\n",
    "        xmin = 0\n",
    "    if xmax is None:\n",
    "        h, w = np.shape(img)\n",
    "        xmax = w-1\n",
    "    s_img = img[:, :]\n",
    "    im = plot_imshow(s_img)\n",
    "\n",
    "    #im = plt.imshow(s_img, cmap='gray')\n",
    "    plt.ylim(ymin, ymax)\n",
    "    plt.xlim(xmin, xmax)\n",
    "    plt.title(title)\n",
    "    if aspect is not None:\n",
    "        plt.axes().set_aspect(aspect)\n",
    "    plt.show()\n",
    "    if save:\n",
    "        plt.savefig(MODULE_DIR+'results/result_img/'+save+'.png')"
   ]
  },
  {
   "cell_type": "code",
   "execution_count": 7,
   "metadata": {},
   "outputs": [],
   "source": [
    "def make_fits(data, output_fits):\n",
    "    hdu = fits.PrimaryHDU(data)\n",
    "    hdu.writeto(output_fits, overwrite=True)"
   ]
  },
  {
   "cell_type": "code",
   "execution_count": 8,
   "metadata": {},
   "outputs": [],
   "source": [
    "# make image data in 2D based on selected clusters\n",
    "def make_2D_data(index, x, y, nx, ny, selected_clusters=None):\n",
    "    imm = np.zeros((ny, nx), dtype=np.uint8)\n",
    "    \n",
    "    if selected_clusters is None:\n",
    "        selected_clusters = np.arange(1, np.amax(index)+1, dtype=int)\n",
    "\n",
    "    for idx in selected_clusters:\n",
    "        crt_idx = np.where(index == idx)[0]\n",
    "        imm[y[crt_idx], x[crt_idx]] = 1\n",
    "        \n",
    "    return imm"
   ]
  },
  {
   "cell_type": "code",
   "execution_count": 9,
   "metadata": {},
   "outputs": [],
   "source": [
    "# make fits on 2D of all clusters\n",
    "def make_cluster_fits(index, x, y, nx, ny, fits_path=None):\n",
    "    imm = make_2D_data(index, x, y,  nx, ny)\n",
    "    if fits_path is not None:\n",
    "        make_fits(imm, fits_path)\n",
    "        ind_max = np.amax(index)\n",
    "        print('there are '+str(ind_max)+' clusters in total in fits, '+fits_path)\n",
    "    return imm"
   ]
  },
  {
   "cell_type": "code",
   "execution_count": 10,
   "metadata": {},
   "outputs": [],
   "source": [
    "# make fits on cluster info (index, x, y)\n",
    "def make_cluster_info_fits(file_path, nx, ny, x_idx, y_idx, index=None):\n",
    "    size = x_idx.size\n",
    "    cluster_data = np.zeros((2, size), dtype=int) if index is None else np.zeros((3, size), dtype=int)\n",
    "    cluster_data[0, :] = x_idx\n",
    "    cluster_data[1, :] = y_idx\n",
    "    if index is not None:\n",
    "        cluster_data[2, :] = index\n",
    "    hdu = fits.PrimaryHDU(cluster_data)\n",
    "    hdu.header['indexmax'] = np.amax(index) if index is not None else 0\n",
    "    hdu.header['width'] = nx\n",
    "    hdu.header['height'] = ny\n",
    "    hdu.writeto(file_path, overwrite=True)\n",
    "    \n",
    "def get_cluster_info_fits(file_path: str):\n",
    "    cluster_info, cluster_info_head = fits.getdata(file_path, header=True)\n",
    "    x = cluster_info[0, :].astype(int)\n",
    "    y = cluster_info[1, :].astype(int)\n",
    "    index_list = None\n",
    "    if cluster_info_head['indexmax'] != 0:\n",
    "        index_list = cluster_info[2, :].astype(int)\n",
    "\n",
    "    return x, y, index_list\n",
    "    "
   ]
  },
  {
   "cell_type": "code",
   "execution_count": 11,
   "metadata": {},
   "outputs": [],
   "source": [
    "# make fits on cluster info (index, x, y)\n",
    "def make_cluster_info_csv(file_path, nx, ny, x_idx, y_idx, index=None):\n",
    "    size = x_idx.size\n",
    "    cluster_data = np.zeros((size, 2), dtype=int) if index is None else np.zeros((size, 3), dtype=int)\n",
    "    cluster_data[:, 0] = x_idx\n",
    "    cluster_data[:, 1] = y_idx\n",
    "    if index is not None:\n",
    "        cluster_data[:, 2] = index\n",
    "    df = pd.DataFrame(cluster_data)\n",
    "    df.to_csv(file_path, header=False, index=False)     \n",
    "    \n",
    "def get_cluster_info_csv(file_path: str):\n",
    "    x = None\n",
    "    y = None\n",
    "    index = None\n",
    "    if os.path.isfile(file_path):\n",
    "        df = pd.read_csv(file_path, header=None, index_col=None)\n",
    "        row, col = np.shape(df.values)\n",
    "        x = df.values[:, 0].astype(int) if col >= 1 else None\n",
    "        y = df.values[:, 1].astype(int) if col >= 2 else None\n",
    "        index = df.values[:, 2].astype(int) if col >= 3 else None\n",
    "    return x, y, index"
   ]
  },
  {
   "cell_type": "code",
   "execution_count": 12,
   "metadata": {},
   "outputs": [],
   "source": [
    "# plot polynomial fitting curve on top of given 2D image\n",
    "# the cluster orders is settable by order_set\n",
    "def plot_poly_trace(imm, total_order, coeffs_orders, max_x, max_y, size=20, order_set=None, \\\n",
    "                    title=None, background=False, widths=None, aspect=None, \\\n",
    "                    xmin=None, xmax=None, ymin=None, ymax=None, origin=None, save='', shift=0):\n",
    "    plt.figure(figsize=(size,size))\n",
    "    plt.subplot(1, 1, 1)\n",
    "    im = plot_imshow(imm)\n",
    "    #im = plt.imshow(imm, cmap='gray', norm=LogNorm())\n",
    "    \n",
    "    if order_set is None:\n",
    "        orders = list(range(1, total_order+1))\n",
    "    else:\n",
    "        orders = order_set\n",
    "        \n",
    "    x_dist = max_x//20    \n",
    "    \n",
    "    o_x, o_y = [origin[0], origin[1]] if origin is not None else [0, 0]\n",
    "                   \n",
    "    for o_idx, order in enumerate(orders):\n",
    "        if (background is not False):\n",
    "            x_val = np.arange(0, max_x)\n",
    "            # y value on x range\n",
    "            y_val = np.polyval(coeffs_orders[order, 0:power+1], x_val) \n",
    "            plt.plot(x_val+o_x, y_val+o_y, 'b--')\n",
    "        #print(\"x range: \", coeffs_orders[order, power+1], coeffs_orders[order, power+2])    \n",
    "        # x range\n",
    "        x_val = np.arange(coeffs_orders[order, power+1], coeffs_orders[order, power+2]+1)\n",
    "        # y value on x range\n",
    "        y_val = np.polyval(coeffs_orders[order, 0:power+1], x_val)\n",
    "        plt.plot(x_val+o_x+shift, y_val+o_y, 'r--')\n",
    "        \n",
    "        if widths is not None:\n",
    "            y_val_bottom = y_val-widths[o_idx][0]\n",
    "            plt.plot(x_val+o_x, y_val_bottom+o_y, 'g--')\n",
    "            y_val_top = y_val+widths[o_idx][1]\n",
    "            plt.plot(x_val+o_x, y_val_top+o_y, 'g--')\n",
    "        \n",
    "        # show number of cluster\n",
    "        s = ((order%15)+1)*x_dist\n",
    "        if s >= x_val.size:\n",
    "            dem = int((coeffs_orders[order, power+2] - coeffs_orders[order, power+1])//5)\n",
    "            s = dem*((order%4)+1)\n",
    "            #s = x_val.size//2\n",
    "        plt.text(x_val[s]+o_x, y_val[s]+o_y, str(order), fontsize=12, color='b', fontweight='bold', horizontalalignment='center', verticalalignment='center')\n",
    "        \n",
    "    if title is not None:\n",
    "        plt.title(title, fontsize=12)\n",
    "    x1 = 0 if xmin is None else xmin\n",
    "    x2 = max_x if xmax is None else xmax\n",
    "    y1 = 0 if ymin is None else ymin\n",
    "    y2 = max_y if ymax is None else ymax\n",
    "    \n",
    "    plt.ylim(y1, y2)\n",
    "    plt.xlim(x1, x2)\n",
    "    if aspect is not None:\n",
    "        plt.axes().set_aspect(aspect)\n",
    "    \n",
    "    plt.show()\n",
    "    if save:\n",
    "        plt.savefig(MODULE_DIR+'results/result_img/'+save+'.png')\n",
    "    #plt.colorbar(im, fraction=0.046, pad=0.04)"
   ]
  },
  {
   "cell_type": "code",
   "execution_count": 13,
   "metadata": {},
   "outputs": [],
   "source": [
    "def to_str(afloat):\n",
    "    new_str = f\"{afloat:.4f}\"\n",
    "    return new_str"
   ]
  },
  {
   "cell_type": "code",
   "execution_count": 14,
   "metadata": {},
   "outputs": [],
   "source": [
    "# json save and load\n",
    "def save_obj(obj, filename):\n",
    "    with open(filename, 'wb') as f:\n",
    "        pickle.dump(obj, f, pickle.HIGHEST_PROTOCOL)\n",
    "\n",
    "def load_obj(filename):\n",
    "    with open(filename, 'rb') as f:\n",
    "        return pickle.load(f)"
   ]
  },
  {
   "cell_type": "markdown",
   "metadata": {},
   "source": [
    "## Usage: Using OrderTarceAlg to extract from the given spectral fits (for NEID or PARAS)"
   ]
  },
  {
   "cell_type": "code",
   "execution_count": null,
   "metadata": {
    "scrolled": false
   },
   "outputs": [],
   "source": [
    "fits_header = fits.open(spectral_fits)\n",
    "config_file = MODULE_DIR + 'configs/default_recipe_neid.cfg'\n",
    "logger = start_logger(\"OrderTraceAlg\", config_file)\n",
    "\n",
    "width_p = 3\n",
    "config = configparser.ConfigParser()\n",
    "config.read(config_file)\n",
    "\n",
    "width_app = '_width_'+str(width_p) if width_p > 0 else '' \n",
    "\n",
    "order_t = OrderTraceAlg(fits_header[0].data, config, logger)\n",
    "\n",
    "if 'neid' in power_dir:\n",
    "    csv_file = 'neid_poly_3sigma_gaussian_pixel_' + str(power)+ width_app +'.csv'\n",
    "else:\n",
    "    csv_file = 'paras_poly_3sigma_gaussian_pixel_'+ str(power)+ width_app +'.csv'\n",
    "    \n",
    "imm_spec, nx, ny = order_t.get_spectral_data()\n",
    "cluster_info = order_t.extract_order_trace(power_for_width_estimation = width_p, show_time=True, print_debug='')\n",
    "output_df_to_csv  = result_csv;\n",
    "df = cluster_info['order_trace_result']\n",
    "df.to_csv(index=False, path_or_buf=output_df_to_csv, header=False)\n",
    "#order_t.write_cluster_info_to_csv(cluster_info['widths'], cluster_info['coeffs'], result_poly_width_csv)"
   ]
  },
  {
   "cell_type": "code",
   "execution_count": null,
   "metadata": {},
   "outputs": [],
   "source": [
    "# plot the order result and polynomial fits on top of the identified order\n",
    "new_x = cluster_info['cluster_x']\n",
    "new_y = cluster_info['cluster_y']\n",
    "new_index = cluster_info['cluster_index']\n",
    "_, nx, ny = order_t.get_spectral_data()\n",
    "\n",
    "cluster_imm = order_t.make_2d_data(new_index, new_x, new_y)\n",
    "new_coeffs, errors = order_t.curve_fitting_on_all_clusters(new_index, new_x, new_y)\n",
    "max_index = np.amax(new_index)\n",
    "\n",
    "print(np.shape(new_coeffs))\n",
    "print(max_index)\n",
    "plot_poly_trace(cluster_imm, max_index, new_coeffs, nx, ny)"
   ]
  },
  {
   "cell_type": "markdown",
   "metadata": {},
   "source": [
    "## Extracting order trace step by step\n",
    "### excute the cells from step 1 to step 7 and get visual output for each step"
   ]
  },
  {
   "cell_type": "markdown",
   "metadata": {},
   "source": [
    "## 1. load spectral file"
   ]
  },
  {
   "cell_type": "code",
   "execution_count": 15,
   "metadata": {
    "scrolled": false
   },
   "outputs": [
    {
     "name": "stdout",
     "output_type": "stream",
     "text": [
      "power:  3\n",
      "4080 4080 row:  4080  column:  4080\n",
      "[0, 4079, 0, 4079]\n"
     ]
    }
   ],
   "source": [
    "data_ext = 'GREEN_CCD'\n",
    "fits_header = fits.open(spectral_fits)\n",
    "config = configparser.ConfigParser()\n",
    "config_file = MODULE_DIR + 'configs/default_recipe_kpf.cfg'\n",
    "config.read(config_file)\n",
    "\n",
    "lev0_obj = KPF0.from_fits(spectral_fits, data_type='KPF')\n",
    "\n",
    "flat_data = lev0_obj[data_ext]\n",
    "\n",
    "#flat_data = fits_header[0].data\n",
    "#data_range=[2500, -2500, 2500, -2500]\n",
    "#flat_data = np.where(np.isnan(flat_data), 0.0, flat_data)\n",
    "png = 'KP.20220518.17215.78_' + data_ext\n",
    "data_range = None\n",
    "total_row, total_col = np.shape(flat_data)\n",
    "# order_t = OrderTraceAlg(flat_data, poly_degree=power, expected_traces=140, config=config)\n",
    "order_t = OrderTraceAlg(flat_data, poly_degree=power, config=config)\n",
    "imm_spec, nx, ny = order_t.get_spectral_data()\n",
    "\n",
    "spe_info = {'data': imm_spec, 'nx': nx, 'ny': ny}\n",
    "\n",
    "order_t.add_file_logger(\"\") \n",
    "\n",
    "# plot_img(imm_spec, 0, ny-1, save=png+'spectral')\n",
    "power = order_t.get_poly_degree()\n",
    "print('power: ', power)\n",
    "print(total_row, total_col, 'row: ', spe_info['ny'], ' column: ', spe_info['nx'])\n",
    "\n",
    "order_t.set_data_range(data_range)\n",
    "\n",
    "print(order_t.data_range)"
   ]
  },
  {
   "cell_type": "markdown",
   "metadata": {},
   "source": [
    "## 2. locate_clusters() -- find cluster pixels  and make fits"
   ]
  },
  {
   "cell_type": "code",
   "execution_count": 16,
   "metadata": {
    "scrolled": false
   },
   "outputs": [
    {
     "name": "stdout",
     "output_type": "stream",
     "text": [
      "OrderTraceAlg: rows_to_reset: None\n",
      "OrderTraceAlg: cols to reset: None\n",
      "is bw image\n"
     ]
    },
    {
     "name": "stderr",
     "output_type": "stream",
     "text": [
      "/Users/cwang/Documents/KPF/KPF-Pipeline/venv/lib/python3.7/site-packages/ipykernel_launcher.py:22: UserWarning: Matplotlib is currently using agg, which is a non-GUI backend, so cannot show the figure.\n"
     ]
    }
   ],
   "source": [
    "cluster_xy = order_t.locate_clusters()\n",
    "\n",
    "yy = np.shape(cluster_xy['cluster_image'])[0]\n",
    "plot_img(cluster_xy['cluster_image'], 0, yy-1, save=png+'locate_clusters')"
   ]
  },
  {
   "cell_type": "code",
   "execution_count": 17,
   "metadata": {},
   "outputs": [],
   "source": [
    "make_cluster_info_csv(cluster_info_xy_csv, nx, ny, cluster_xy['x'], cluster_xy['y'])"
   ]
  },
  {
   "cell_type": "markdown",
   "metadata": {},
   "source": [
    "## 3. form_clusters() or collect_clusters() + remove_cluster_by_size() + reorganize_index()"
   ]
  },
  {
   "cell_type": "code",
   "execution_count": 18,
   "metadata": {
    "scrolled": false
   },
   "outputs": [
    {
     "name": "stdout",
     "output_type": "stream",
     "text": [
      "OrderTraceAlg:  0 OrderTraceAlg:  100 OrderTraceAlg:  200 OrderTraceAlg:  300 OrderTraceAlg:  400 OrderTraceAlg:  500 OrderTraceAlg:  600 OrderTraceAlg:  700 OrderTraceAlg:  800 OrderTraceAlg:  900 OrderTraceAlg:  1000 OrderTraceAlg:  1100 OrderTraceAlg:  1200 OrderTraceAlg:  1300 OrderTraceAlg:  1400 OrderTraceAlg:  1500 OrderTraceAlg:  1600 OrderTraceAlg:  1700 OrderTraceAlg:  1800 OrderTraceAlg:  1900 OrderTraceAlg:  2000 OrderTraceAlg:  2100 OrderTraceAlg:  2200 OrderTraceAlg:  2300 OrderTraceAlg:  2400 OrderTraceAlg:  2500 OrderTraceAlg:  2600 OrderTraceAlg:  2700 OrderTraceAlg:  2800 OrderTraceAlg:  2900 OrderTraceAlg:  3000 OrderTraceAlg:  3100 OrderTraceAlg:  3200 OrderTraceAlg:  3300 OrderTraceAlg:  3400 OrderTraceAlg:  3500 OrderTraceAlg:  3600 OrderTraceAlg:  3700 OrderTraceAlg:  3800 OrderTraceAlg:  3900 OrderTraceAlg:  4000 \n",
      "\n"
     ]
    }
   ],
   "source": [
    "#cluster_info, dict\n",
    "#cluster_info = order_t.collect_clusters(list(), list())\n",
    "cluster_info = order_t.collect_clusters(cluster_xy['x'], cluster_xy['y'])"
   ]
  },
  {
   "cell_type": "code",
   "execution_count": 19,
   "metadata": {
    "scrolled": false
   },
   "outputs": [
    {
     "name": "stdout",
     "output_type": "stream",
     "text": [
      "OrderTraceAlg:  there are total  5444146  clusters to test.\n",
      "OrderTraceAlg: cluster  1  total:  841  w, h 534 4\n",
      "OrderTraceAlg: cluster  2  total:  36256  w, h 4080 37\n",
      "OrderTraceAlg: cluster  3  total:  47464  w, h 4080 42\n",
      "OrderTraceAlg: cluster  4  total:  40917  w, h 4080 40\n",
      "OrderTraceAlg: cluster  5  total:  22037  w, h 4080 37\n",
      "OrderTraceAlg: cluster  6  total:  37467  w, h 4080 39\n",
      "OrderTraceAlg: cluster  7  total:  47523  w, h 4080 41\n",
      "OrderTraceAlg: cluster  8  total:  41010  w, h 4080 39\n",
      "OrderTraceAlg: cluster  9  total:  22041  w, h 4080 35\n",
      "OrderTraceAlg: cluster  10  total:  37544  w, h 4080 38\n",
      "OrderTraceAlg: cluster  11  total:  47540  w, h 4080 39\n",
      "OrderTraceAlg: cluster  12  total:  41060  w, h 4080 37\n",
      "OrderTraceAlg: cluster  13  total:  22018  w, h 4080 34\n",
      "OrderTraceAlg: cluster  14  total:  37559  w, h 4080 36\n",
      "OrderTraceAlg: cluster  15  total:  47550  w, h 4080 38\n",
      "OrderTraceAlg: cluster  16  total:  41088  w, h 4080 37\n",
      "OrderTraceAlg: cluster  17  total:  22030  w, h 4080 32\n",
      "OrderTraceAlg: cluster  18  total:  37601  w, h 4080 35\n",
      "OrderTraceAlg: cluster  19  total:  47572  w, h 4080 36\n",
      "OrderTraceAlg: cluster  20  total:  41109  w, h 4080 34\n",
      "OrderTraceAlg: cluster  21  total:  21967  w, h 4080 31\n",
      "OrderTraceAlg: cluster  22  total:  37573  w, h 4080 33\n",
      "OrderTraceAlg: cluster  23  total:  47555  w, h 4080 35\n",
      "OrderTraceAlg: cluster  24  total:  41103  w, h 4080 33\n",
      "OrderTraceAlg: cluster  25  total:  21975  w, h 4080 30\n",
      "OrderTraceAlg: cluster  26  total:  37571  w, h 4080 33\n",
      "OrderTraceAlg: cluster  27  total:  47555  w, h 4080 34\n",
      "OrderTraceAlg: cluster  28  total:  41106  w, h 4080 32\n",
      "OrderTraceAlg: cluster  29  total:  21951  w, h 4080 28\n",
      "OrderTraceAlg: cluster  30  total:  37606  w, h 4080 31\n",
      "OrderTraceAlg: cluster  31  total:  47581  w, h 4080 32\n",
      "OrderTraceAlg: cluster  32  total:  41123  w, h 4080 30\n",
      "OrderTraceAlg: cluster  33  total:  21913  w, h 4080 26\n",
      "OrderTraceAlg: cluster  34  total:  37607  w, h 4080 29\n",
      "OrderTraceAlg: cluster  35  total:  47621  w, h 4080 31\n",
      "OrderTraceAlg: cluster  36  total:  41086  w, h 4080 29\n",
      "OrderTraceAlg: cluster  37  total:  21917  w, h 4080 25\n",
      "OrderTraceAlg: cluster  38  total:  37594  w, h 4080 28\n",
      "OrderTraceAlg: cluster  39  total:  47604  w, h 4080 30\n",
      "OrderTraceAlg: cluster  40  total:  41128  w, h 4080 28\n",
      "OrderTraceAlg: cluster  41  total:  21913  w, h 4080 24\n",
      "OrderTraceAlg: cluster  42  total:  37610  w, h 4080 26\n",
      "OrderTraceAlg: cluster  43  total:  47638  w, h 4080 29\n",
      "OrderTraceAlg: cluster  44  total:  41131  w, h 4080 27\n",
      "OrderTraceAlg: cluster  45  total:  21892  w, h 4080 23\n",
      "OrderTraceAlg: cluster  46  total:  37614  w, h 4080 26\n",
      "OrderTraceAlg: cluster  47  total:  47692  w, h 4080 27\n",
      "OrderTraceAlg: cluster  48  total:  41163  w, h 4080 25\n",
      "OrderTraceAlg: cluster  49  total:  21880  w, h 4080 21\n",
      "OrderTraceAlg: cluster  50  total:  37678  w, h 4080 24\n",
      "OrderTraceAlg: cluster  51  total:  47773  w, h 4080 25\n",
      "OrderTraceAlg: cluster  52  total:  41232  w, h 4080 23\n",
      "OrderTraceAlg: cluster  53  total:  21855  w, h 4080 19\n",
      "OrderTraceAlg: cluster  54  total:  37704  w, h 4080 22\n",
      "OrderTraceAlg: cluster  55  total:  47789  w, h 4080 24\n",
      "OrderTraceAlg: cluster  56  total:  41206  w, h 4080 22\n",
      "OrderTraceAlg: cluster  57  total:  21920  w, h 4080 18\n",
      "OrderTraceAlg: cluster  58  total:  37798  w, h 4080 21\n",
      "OrderTraceAlg: cluster  59  total:  47823  w, h 4080 23\n",
      "OrderTraceAlg: cluster  60  total:  41229  w, h 4080 20\n",
      "OrderTraceAlg: cluster  61  total:  21920  w, h 4080 17\n",
      "OrderTraceAlg: cluster  62  total:  37882  w, h 4080 19\n",
      "OrderTraceAlg: cluster  63  total:  47968  w, h 4080 21\n",
      "OrderTraceAlg: cluster  64  total:  41242  w, h 4080 19\n",
      "OrderTraceAlg: cluster  65  total:  21926  w, h 4080 15\n",
      "OrderTraceAlg: cluster  66  total:  37699  w, h 4080 18\n",
      "OrderTraceAlg: cluster  67  total:  47872  w, h 4080 19\n",
      "OrderTraceAlg: cluster  68  total:  41203  w, h 4080 18\n",
      "OrderTraceAlg: cluster  69  total:  21754  w, h 4080 14\n",
      "OrderTraceAlg: cluster  70  total:  38292  w, h 4080 17\n",
      "OrderTraceAlg: cluster  71  total:  48082  w, h 4080 18\n",
      "OrderTraceAlg: cluster  72  total:  41259  w, h 4080 16\n",
      "OrderTraceAlg: cluster  73  total:  22236  w, h 4080 12\n",
      "OrderTraceAlg: cluster  74  total:  37358  w, h 4080 16\n",
      "OrderTraceAlg: cluster  75  total:  47648  w, h 4080 17\n",
      "OrderTraceAlg: cluster  76  total:  41248  w, h 4080 15\n",
      "OrderTraceAlg: cluster  77  total:  22542  w, h 4080 11\n",
      "OrderTraceAlg: cluster  78  total:  37513  w, h 4080 14\n",
      "OrderTraceAlg: cluster  79  total:  47692  w, h 4080 17\n",
      "OrderTraceAlg: cluster  80  total:  41208  w, h 4080 14\n",
      "OrderTraceAlg: cluster  81  total:  22743  w, h 4080 10\n",
      "OrderTraceAlg: cluster  82  total:  37528  w, h 4080 14\n",
      "OrderTraceAlg: cluster  83  total:  47998  w, h 4080 16\n",
      "OrderTraceAlg: cluster  84  total:  41158  w, h 4080 14\n",
      "OrderTraceAlg: cluster  85  total:  22068  w, h 4080 10\n",
      "OrderTraceAlg: cluster  86  total:  38138  w, h 4080 13\n",
      "OrderTraceAlg: cluster  87  total:  48117  w, h 4080 15\n",
      "OrderTraceAlg: cluster  88  total:  41099  w, h 4080 13\n",
      "OrderTraceAlg: cluster  89  total:  21900  w, h 4080 9\n",
      "OrderTraceAlg: cluster  90  total:  38370  w, h 4080 14\n",
      "OrderTraceAlg: cluster  91  total:  48062  w, h 4080 16\n",
      "OrderTraceAlg: cluster  92  total:  41016  w, h 4080 14\n",
      "OrderTraceAlg: cluster  93  total:  21978  w, h 4080 10\n",
      "OrderTraceAlg: cluster  94  total:  37970  w, h 4080 15\n",
      "OrderTraceAlg: cluster  95  total:  48050  w, h 4080 18\n",
      "OrderTraceAlg: cluster  96  total:  41056  w, h 4080 16\n",
      "OrderTraceAlg: cluster  97  total:  22068  w, h 4080 11\n",
      "OrderTraceAlg: cluster  98  total:  37826  w, h 4080 16\n",
      "OrderTraceAlg: cluster  99  total:  47932  w, h 4080 19\n",
      "OrderTraceAlg: cluster  100  total:  41305  w, h 4080 17\n",
      "OrderTraceAlg: cluster  101  total:  22325  w, h 4080 13\n",
      "OrderTraceAlg: cluster  102  total:  38125  w, h 4080 18\n",
      "OrderTraceAlg: cluster  103  total:  48044  w, h 4080 20\n",
      "OrderTraceAlg: cluster  104  total:  41011  w, h 4080 18\n",
      "OrderTraceAlg: cluster  105  total:  22113  w, h 4080 14\n",
      "OrderTraceAlg: cluster  106  total:  37735  w, h 4080 20\n",
      "OrderTraceAlg: cluster  107  total:  48093  w, h 4080 22\n",
      "OrderTraceAlg: cluster  108  total:  41140  w, h 4080 20\n",
      "OrderTraceAlg: cluster  109  total:  22065  w, h 4080 16\n",
      "OrderTraceAlg: cluster  110  total:  38036  w, h 4080 21\n",
      "OrderTraceAlg: cluster  111  total:  47758  w, h 4080 23\n",
      "OrderTraceAlg: cluster  112  total:  41897  w, h 4080 22\n",
      "OrderTraceAlg: cluster  113  total:  22166  w, h 4080 18\n",
      "OrderTraceAlg: cluster  114  total:  370  w, h 67 23\n",
      "OrderTraceAlg: cluster  115  total:  225  w, h 55 22\n",
      "OrderTraceAlg: cluster  116  total:  38135  w, h 4080 22\n",
      "OrderTraceAlg: cluster  117  total:  48220  w, h 4080 25\n",
      "OrderTraceAlg: cluster  118  total:  41823  w, h 4080 24\n",
      "OrderTraceAlg: cluster  119  total:  21914  w, h 4080 19\n",
      "OrderTraceAlg: cluster  120  total:  254  w, h 53 27\n",
      "OrderTraceAlg: cluster  121  total:  37894  w, h 4080 24\n",
      "OrderTraceAlg: cluster  122  total:  48059  w, h 4080 27\n",
      "OrderTraceAlg: cluster  123  total:  41501  w, h 4080 25\n",
      "OrderTraceAlg: cluster  124  total:  22632  w, h 4080 21\n",
      "OrderTraceAlg: cluster  125  total:  199  w, h 44 18\n",
      "OrderTraceAlg: cluster  126  total:  274  w, h 54 24\n",
      "OrderTraceAlg: cluster  127  total:  333  w, h 55 23\n",
      "OrderTraceAlg: cluster  128  total:  251  w, h 55 24\n",
      "OrderTraceAlg: cluster  129  total:  378  w, h 69 24\n",
      "OrderTraceAlg: cluster  130  total:  267  w, h 41 28\n",
      "OrderTraceAlg: cluster  131  total:  38335  w, h 4080 26\n",
      "OrderTraceAlg: cluster  132  total:  48293  w, h 4080 28\n",
      "OrderTraceAlg: cluster  133  total:  41276  w, h 4080 27\n",
      "OrderTraceAlg: cluster  134  total:  22561  w, h 4080 22\n",
      "OrderTraceAlg: cluster  135  total:  292  w, h 64 23\n",
      "OrderTraceAlg: cluster  136  total:  235  w, h 51 19\n",
      "OrderTraceAlg: cluster  137  total:  454  w, h 93 23\n",
      "OrderTraceAlg: cluster  138  total:  364  w, h 68 24\n",
      "OrderTraceAlg: cluster  139  total:  271  w, h 53 25\n",
      "OrderTraceAlg: cluster  140  total:  356  w, h 53 25\n",
      "OrderTraceAlg: cluster  141  total:  363  w, h 65 28\n",
      "OrderTraceAlg: cluster  142  total:  230  w, h 32 28  => remove\n",
      "OrderTraceAlg: cluster  143  total:  494  w, h 78 29\n",
      "OrderTraceAlg: cluster  144  total:  37883  w, h 4080 27\n",
      "OrderTraceAlg: cluster  145  total:  48243  w, h 4080 31\n",
      "OrderTraceAlg: cluster  146  total:  41446  w, h 4080 29\n",
      "OrderTraceAlg: cluster  147  total:  23434  w, h 4080 24\n",
      "OrderTraceAlg: cluster  148  total:  265  w, h 57 18\n",
      "OrderTraceAlg: cluster  149  total:  219  w, h 43 21\n",
      "OrderTraceAlg: cluster  150  total:  209  w, h 45 18\n",
      "OrderTraceAlg: cluster  151  total:  337  w, h 57 26\n",
      "OrderTraceAlg: cluster  152  total:  801  w, h 110 29\n"
     ]
    },
    {
     "name": "stdout",
     "output_type": "stream",
     "text": [
      "OrderTraceAlg: cluster  153  total:  1124  w, h 187 29\n",
      "OrderTraceAlg: cluster  154  total:  677  w, h 80 32\n",
      "OrderTraceAlg: cluster  155  total:  37961  w, h 4080 29\n",
      "OrderTraceAlg: cluster  156  total:  48061  w, h 4080 33\n",
      "OrderTraceAlg: cluster  157  total:  41668  w, h 4080 31\n",
      "OrderTraceAlg: cluster  158  total:  23867  w, h 4080 26\n",
      "OrderTraceAlg: cluster  159  total:  388  w, h 66 24\n",
      "OrderTraceAlg: cluster  160  total:  265  w, h 48 20\n",
      "OrderTraceAlg: cluster  161  total:  230  w, h 51 19\n",
      "OrderTraceAlg: cluster  162  total:  301  w, h 53 19\n",
      "OrderTraceAlg: cluster  163  total:  220  w, h 49 22\n",
      "OrderTraceAlg: cluster  164  total:  484  w, h 77 25\n",
      "OrderTraceAlg: cluster  165  total:  533  w, h 97 26\n",
      "OrderTraceAlg: cluster  166  total:  242  w, h 44 27\n",
      "OrderTraceAlg: cluster  167  total:  257  w, h 38 25  => remove\n",
      "OrderTraceAlg: cluster  168  total:  973  w, h 141 28\n",
      "OrderTraceAlg: cluster  169  total:  216  w, h 39 25  => remove\n",
      "OrderTraceAlg: cluster  170  total:  658  w, h 94 30\n",
      "OrderTraceAlg: cluster  171  total:  431  w, h 64 27\n",
      "OrderTraceAlg: cluster  172  total:  1394  w, h 146 35\n",
      "OrderTraceAlg: cluster  173  total:  38164  w, h 4080 31\n",
      "OrderTraceAlg: cluster  174  total:  48570  w, h 4080 34\n",
      "OrderTraceAlg: cluster  175  total:  41977  w, h 4080 33\n",
      "OrderTraceAlg: cluster  176  total:  24476  w, h 4080 29\n",
      "OrderTraceAlg: cluster  177  total:  238  w, h 49 20\n",
      "OrderTraceAlg: cluster  178  total:  326  w, h 75 22\n",
      "OrderTraceAlg: cluster  179  total:  253  w, h 45 26\n",
      "OrderTraceAlg: cluster  180  total:  235  w, h 39 21  => remove\n",
      "OrderTraceAlg: cluster  181  total:  216  w, h 50 22\n",
      "OrderTraceAlg: cluster  182  total:  212  w, h 43 24\n",
      "OrderTraceAlg: cluster  183  total:  319  w, h 68 25\n",
      "OrderTraceAlg: cluster  184  total:  422  w, h 88 23\n",
      "OrderTraceAlg: cluster  185  total:  267  w, h 42 26\n",
      "OrderTraceAlg: cluster  186  total:  545  w, h 83 27\n",
      "OrderTraceAlg: cluster  187  total:  242  w, h 43 25\n",
      "OrderTraceAlg: cluster  188  total:  307  w, h 48 28\n",
      "OrderTraceAlg: cluster  189  total:  234  w, h 38 30  => remove\n",
      "OrderTraceAlg: cluster  190  total:  2066  w, h 270 34\n",
      "OrderTraceAlg: cluster  191  total:  1014  w, h 123 33\n",
      "OrderTraceAlg: cluster  192  total:  662  w, h 87 33\n",
      "OrderTraceAlg: cluster  193  total:  1180  w, h 131 34\n",
      "OrderTraceAlg: cluster  194  total:  1440  w, h 170 36\n",
      "OrderTraceAlg: cluster  195  total:  37844  w, h 4080 33\n",
      "OrderTraceAlg: cluster  196  total:  48435  w, h 4080 36\n",
      "OrderTraceAlg: cluster  197  total:  41685  w, h 4080 34\n",
      "OrderTraceAlg: cluster  198  total:  24443  w, h 4080 31\n"
     ]
    }
   ],
   "source": [
    "# assign index value to cluster_info['index'], where cluster_info['index'] is the same size as cluster_xy['x']\n",
    "cluster_info = order_t.remove_cluster_by_size(cluster_info, cluster_xy['x'], cluster_xy['y'])"
   ]
  },
  {
   "cell_type": "code",
   "execution_count": 20,
   "metadata": {},
   "outputs": [
    {
     "name": "stdout",
     "output_type": "stream",
     "text": [
      "is bw image\n"
     ]
    },
    {
     "name": "stderr",
     "output_type": "stream",
     "text": [
      "/Users/cwang/Documents/KPF/KPF-Pipeline/venv/lib/python3.7/site-packages/ipykernel_launcher.py:22: UserWarning: Matplotlib is currently using agg, which is a non-GUI backend, so cannot show the figure.\n"
     ]
    }
   ],
   "source": [
    "# remove unassigned index\n",
    "x, y, index_r = order_t.reorganize_index(cluster_info['index'], cluster_xy['x'], cluster_xy['y'])\n",
    "imm = order_t.make_2d_data(index_r, x, y)   # show image  and make fits and info fits \n",
    "plot_img(imm, 0, np.shape(imm)[0]-1, save=png+'first_clean')"
   ]
  },
  {
   "cell_type": "markdown",
   "metadata": {},
   "source": [
    "### save data from the result of 3 (optional)"
   ]
  },
  {
   "cell_type": "code",
   "execution_count": null,
   "metadata": {},
   "outputs": [],
   "source": [
    "imm=make_cluster_fits(index_r, x, y, nx, ny, cluster_clean_fits)\n",
    "make_cluster_info_csv(cluster_info_clean_csv, nx, ny, x, y, index_r)\n",
    "plot_img(imm, 0, np.shape(imm)[0]-1)"
   ]
  },
  {
   "cell_type": "markdown",
   "metadata": {},
   "source": [
    "### reload clean fits and info fits of step 3. (optional)"
   ]
  },
  {
   "cell_type": "code",
   "execution_count": null,
   "metadata": {},
   "outputs": [],
   "source": [
    "# (optional) reload saved fits \n",
    "imm, hdr = fits.getdata(cluster_clean_fits, header=True)\n",
    "ny, nx = np.shape(imm)\n",
    "x, y, index_r = get_cluster_info_csv(cluster_info_clean_csv)\n",
    "plot_img(imm, 0, np.shape(imm)[0]-1)"
   ]
  },
  {
   "cell_type": "markdown",
   "metadata": {},
   "source": [
    "## 4. advanced_cluster_cleaning_handler() -- cluster cleaning to remove noisy clusters"
   ]
  },
  {
   "cell_type": "code",
   "execution_count": 21,
   "metadata": {
    "scrolled": false
   },
   "outputs": [
    {
     "name": "stdout",
     "output_type": "stream",
     "text": [
      "OrderTraceAlg: idx:  1  status:  {'msg': 'same', 'cluster_id': 1, 'poly_fitting': {1: {'errors': 0.4961088520741995, 'coeffs': array([-2.67163632e-08,  3.10278671e-04, -1.19920733e+00,  1.54276349e+03,\n",
      "        3.54600000e+03,  4.07900000e+03,  0.00000000e+00,  3.00000000e+00]), 'area': [3546, 4079, 0, 3]}}}\n",
      "OrderTraceAlg: idx:  2  status:  {'msg': 'same', 'cluster_id': 2, 'poly_fitting': {2: {'errors': 2.5829773898579647, 'coeffs': array([-8.88372699e-11, -4.21526700e-09,  8.76771056e-03,  1.78252834e+00,\n",
      "        0.00000000e+00,  4.07900000e+03,  0.00000000e+00,  3.60000000e+01]), 'area': [0, 4079, 0, 36]}}}\n",
      "OrderTraceAlg: idx:  3  status:  {'msg': 'same', 'cluster_id': 3, 'poly_fitting': {3: {'errors': 3.361592269270169, 'coeffs': array([-4.12557474e-12, -6.29106664e-07,  1.00397418e-02,  1.99219223e+01,\n",
      "        0.00000000e+00,  4.07900000e+03,  1.40000000e+01,  5.50000000e+01]), 'area': [0, 4079, 14, 55]}}}\n",
      "OrderTraceAlg: idx:  4  status:  {'msg': 'same', 'cluster_id': 4, 'poly_fitting': {4: {'errors': 2.898243831275455, 'coeffs': array([-2.82776487e-12, -6.57493170e-07,  1.00537941e-02,  3.89277001e+01,\n",
      "        0.00000000e+00,  4.07900000e+03,  3.40000000e+01,  7.30000000e+01]), 'area': [0, 4079, 34, 73]}}}\n",
      "OrderTraceAlg: idx:  5  status:  {'msg': 'same', 'cluster_id': 5, 'poly_fitting': {5: {'errors': 1.5697582714716745, 'coeffs': array([-2.02244164e-11, -4.96907439e-07,  9.71002495e-03,  5.37411264e+01,\n",
      "        0.00000000e+00,  4.07900000e+03,  5.10000000e+01,  8.70000000e+01]), 'area': [0, 4079, 51, 87]}}}\n",
      "OrderTraceAlg: idx:  6  status:  {'msg': 'same', 'cluster_id': 6, 'poly_fitting': {6: {'errors': 2.653091511446174, 'coeffs': array([-8.36692395e-12, -5.44852445e-07,  9.56245041e-03,  8.97094882e+01,\n",
      "        0.00000000e+00,  4.07900000e+03,  8.50000000e+01,  1.23000000e+02]), 'area': [0, 4079, 85, 123]}}}\n",
      "OrderTraceAlg: idx:  7  status:  {'msg': 'same', 'cluster_id': 7, 'poly_fitting': {7: {'errors': 3.365256803250723, 'coeffs': array([-1.91710210e-11, -4.92818915e-07,  9.36471619e-03,  1.08794434e+02,\n",
      "        0.00000000e+00,  4.07900000e+03,  1.03000000e+02,  1.43000000e+02]), 'area': [0, 4079, 103, 143]}}}\n",
      "OrderTraceAlg: idx:  8  status:  {'msg': 'same', 'cluster_id': 8, 'poly_fitting': {8: {'errors': 2.905274732487551, 'coeffs': array([-1.60332748e-11, -5.12755833e-07,  9.32588548e-03,  1.27833672e+02,\n",
      "        0.00000000e+00,  4.07900000e+03,  1.23000000e+02,  1.61000000e+02]), 'area': [0, 4079, 123, 161]}}}\n",
      "OrderTraceAlg: idx:  9  status:  {'msg': 'same', 'cluster_id': 9, 'poly_fitting': {9: {'errors': 1.5717747559853628, 'coeffs': array([-2.80252267e-11, -3.97757287e-07,  9.09243108e-03,  1.42570541e+02,\n",
      "        0.00000000e+00,  4.07900000e+03,  1.40000000e+02,  1.74000000e+02]), 'area': [0, 4079, 140, 174]}}}\n",
      "OrderTraceAlg: idx:  10  status:  {'msg': 'same', 'cluster_id': 10, 'poly_fitting': {10: {'errors': 2.658821221604216, 'coeffs': array([-1.68832556e-11, -4.33798677e-07,  8.90513531e-03,  1.79942020e+02,\n",
      "        0.00000000e+00,  4.07900000e+03,  1.75000000e+02,  2.12000000e+02]), 'area': [0, 4079, 175, 212]}}}\n",
      "OrderTraceAlg: idx:  11  status:  {'msg': 'same', 'cluster_id': 11, 'poly_fitting': {11: {'errors': 3.365865779561606, 'coeffs': array([-2.90864705e-11, -3.69459955e-07,  8.67856935e-03,  1.99038774e+02,\n",
      "        0.00000000e+00,  4.07900000e+03,  1.93000000e+02,  2.31000000e+02]), 'area': [0, 4079, 193, 231]}}}\n",
      "OrderTraceAlg: idx:  12  status:  {'msg': 'same', 'cluster_id': 12, 'poly_fitting': {12: {'errors': 2.9079466313919915, 'coeffs': array([-2.64262266e-11, -3.87542620e-07,  8.64209621e-03,  2.18061930e+02,\n",
      "        0.00000000e+00,  4.07900000e+03,  2.13000000e+02,  2.49000000e+02]), 'area': [0, 4079, 213, 249]}}}\n",
      "OrderTraceAlg: idx:  13  status:  {'msg': 'same', 'cluster_id': 13, 'poly_fitting': {13: {'errors': 1.569735974637559, 'coeffs': array([-3.27864923e-11, -3.07087243e-07,  8.46814627e-03,  2.32768490e+02,\n",
      "        0.00000000e+00,  4.07900000e+03,  2.30000000e+02,  2.63000000e+02]), 'area': [0, 4079, 230, 263]}}}\n",
      "OrderTraceAlg: idx:  14  status:  {'msg': 'same', 'cluster_id': 14, 'poly_fitting': {14: {'errors': 2.6588579943109134, 'coeffs': array([-2.18692077e-11, -3.42611137e-07,  8.27876834e-03,  2.71539463e+02,\n",
      "        0.00000000e+00,  4.07900000e+03,  2.67000000e+02,  3.02000000e+02]), 'area': [0, 4079, 267, 302]}}}\n",
      "OrderTraceAlg: idx:  15  status:  {'msg': 'same', 'cluster_id': 15, 'poly_fitting': {15: {'errors': 3.366667617951967, 'coeffs': array([-3.22278786e-11, -3.00087169e-07,  8.11593440e-03,  2.90585560e+02,\n",
      "        0.00000000e+00,  4.07900000e+03,  2.85000000e+02,  3.22000000e+02]), 'area': [0, 4079, 285, 322]}}}\n",
      "OrderTraceAlg: idx:  16  status:  {'msg': 'same', 'cluster_id': 16, 'poly_fitting': {16: {'errors': 2.909978820764069, 'coeffs': array([-3.05225045e-11, -3.05675835e-07,  8.04917177e-03,  3.09617408e+02,\n",
      "        0.00000000e+00,  4.07900000e+03,  3.04000000e+02,  3.40000000e+02]), 'area': [0, 4079, 304, 340]}}}\n",
      "OrderTraceAlg: idx:  17  status:  {'msg': 'same', 'cluster_id': 17, 'poly_fitting': {17: {'errors': 1.5711963349837503, 'coeffs': array([-3.58768491e-11, -2.33562571e-07,  7.88810575e-03,  3.24322289e+02,\n",
      "        0.00000000e+00,  4.07900000e+03,  3.22000000e+02,  3.53000000e+02]), 'area': [0, 4079, 322, 353]}}}\n",
      "OrderTraceAlg: idx:  18  status:  {'msg': 'same', 'cluster_id': 18, 'poly_fitting': {18: {'errors': 2.661681981708381, 'coeffs': array([-3.16751581e-11, -2.24084173e-07,  7.61768446e-03,  3.64542944e+02,\n",
      "        0.00000000e+00,  4.07900000e+03,  3.60000000e+02,  3.94000000e+02]), 'area': [0, 4079, 360, 394]}}}\n",
      "OrderTraceAlg: idx:  19  status:  {'msg': 'same', 'cluster_id': 19, 'poly_fitting': {19: {'errors': 3.367590350207388, 'coeffs': array([-2.79335911e-11, -2.57244866e-07,  7.55878735e-03,  3.83562670e+02,\n",
      "        0.00000000e+00,  4.07900000e+03,  3.78000000e+02,  4.13000000e+02]), 'area': [0, 4079, 378, 413]}}}\n",
      "OrderTraceAlg: idx:  20  status:  {'msg': 'same', 'cluster_id': 20, 'poly_fitting': {20: {'errors': 2.9111050139758357, 'coeffs': array([-3.25187996e-11, -2.24196718e-07,  7.42915051e-03,  4.02613051e+02,\n",
      "        0.00000000e+00,  4.07900000e+03,  3.98000000e+02,  4.31000000e+02]), 'area': [0, 4079, 398, 431]}}}\n",
      "OrderTraceAlg: idx:  21  status:  {'msg': 'same', 'cluster_id': 21, 'poly_fitting': {21: {'errors': 1.5649759420924807, 'coeffs': array([-3.20800760e-11, -1.93214952e-07,  7.35544908e-03,  4.17262958e+02,\n",
      "        0.00000000e+00,  4.07900000e+03,  4.15000000e+02,  4.45000000e+02]), 'area': [0, 4079, 415, 445]}}}\n",
      "OrderTraceAlg: idx:  22  status:  {'msg': 'same', 'cluster_id': 22, 'poly_fitting': {22: {'errors': 2.6596269742278666, 'coeffs': array([-3.23639010e-11, -1.49525416e-07,  7.00452253e-03,  4.58984126e+02,\n",
      "        0.00000000e+00,  4.07900000e+03,  4.55000000e+02,  4.87000000e+02]), 'area': [0, 4079, 455, 487]}}}\n",
      "OrderTraceAlg: idx:  23  status:  {'msg': 'same', 'cluster_id': 23, 'poly_fitting': {23: {'errors': 3.3666833174854123, 'coeffs': array([-4.01683985e-11, -1.14396567e-07,  6.83292536e-03,  4.78048293e+02,\n",
      "        0.00000000e+00,  4.07900000e+03,  4.72000000e+02,  5.06000000e+02]), 'area': [0, 4079, 472, 506]}}}\n",
      "OrderTraceAlg: idx:  24  status:  {'msg': 'same', 'cluster_id': 24, 'poly_fitting': {24: {'errors': 2.9106423486786075, 'coeffs': array([-4.25492059e-11, -9.58539031e-08,  6.73509247e-03,  4.97071113e+02,\n",
      "        0.00000000e+00,  4.07900000e+03,  4.92000000e+02,  5.24000000e+02]), 'area': [0, 4079, 492, 524]}}}\n",
      "OrderTraceAlg: idx:  25  status:  {'msg': 'same', 'cluster_id': 25, 'poly_fitting': {25: {'errors': 1.5666695068077912, 'coeffs': array([-3.12957382e-11, -1.33043210e-07,  6.77558575e-03,  5.11680346e+02,\n",
      "        0.00000000e+00,  4.07900000e+03,  5.09000000e+02,  5.38000000e+02]), 'area': [0, 4079, 509, 538]}}}\n",
      "OrderTraceAlg: idx:  26  status:  {'msg': 'same', 'cluster_id': 26, 'poly_fitting': {26: {'errors': 2.658866570443006, 'coeffs': array([-4.58608410e-11, -4.21185171e-09,  6.28094229e-03,  5.54938930e+02,\n",
      "        0.00000000e+00,  4.07900000e+03,  5.50000000e+02,  5.82000000e+02]), 'area': [0, 4079, 550, 582]}}}\n",
      "OrderTraceAlg: idx:  27  status:  {'msg': 'same', 'cluster_id': 27, 'poly_fitting': {27: {'errors': 3.3673058874331474, 'coeffs': array([-3.32886030e-11, -8.97094140e-08,  6.30914346e-03,  5.73921721e+02,\n",
      "        0.00000000e+00,  4.07900000e+03,  5.68000000e+02,  6.01000000e+02]), 'area': [0, 4079, 568, 601]}}}\n",
      "OrderTraceAlg: idx:  28  status:  {'msg': 'same', 'cluster_id': 28, 'poly_fitting': {28: {'errors': 2.9105459872223833, 'coeffs': array([-4.31953859e-11, -3.07908018e-08,  6.15325328e-03,  5.92956480e+02,\n",
      "        0.00000000e+00,  4.07900000e+03,  5.88000000e+02,  6.19000000e+02]), 'area': [0, 4079, 588, 619]}}}\n",
      "OrderTraceAlg: idx:  29  status:  {'msg': 'same', 'cluster_id': 29, 'poly_fitting': {29: {'errors': 1.5644609524102484, 'coeffs': array([-3.14734665e-11, -7.08867086e-08,  6.19977658e-03,  6.07557756e+02,\n",
      "        0.00000000e+00,  4.07900000e+03,  6.05000000e+02,  6.32000000e+02]), 'area': [0, 4079, 605, 632]}}}\n",
      "OrderTraceAlg: idx:  30  status:  {'msg': 'same', 'cluster_id': 30, 'poly_fitting': {30: {'errors': 2.66137223103513, 'coeffs': array([-4.64482931e-11,  6.28730347e-08,  5.69001018e-03,  6.52331088e+02,\n",
      "        0.00000000e+00,  4.07900000e+03,  6.48000000e+02,  6.78000000e+02]), 'area': [0, 4079, 648, 678]}}}\n",
      "OrderTraceAlg: idx:  31  status:  {'msg': 'same', 'cluster_id': 31, 'poly_fitting': {31: {'errors': 3.368232431893455, 'coeffs': array([-2.89771514e-11, -5.42596468e-08,  5.77559589e-03,  6.71288989e+02,\n",
      "        0.00000000e+00,  4.07900000e+03,  6.66000000e+02,  6.97000000e+02]), 'area': [0, 4079, 666, 697]}}}\n",
      "OrderTraceAlg: idx:  32  status:  {'msg': 'same', 'cluster_id': 32, 'poly_fitting': {32: {'errors': 2.9113318550145584, 'coeffs': array([-4.07524763e-11,  1.40491927e-08,  5.60717799e-03,  6.90328731e+02,\n",
      "        0.00000000e+00,  4.07900000e+03,  6.86000000e+02,  7.15000000e+02]), 'area': [0, 4079, 686, 715]}}}\n",
      "OrderTraceAlg: idx:  33  status:  {'msg': 'same', 'cluster_id': 33, 'poly_fitting': {33: {'errors': 1.5607292780537685, 'coeffs': array([-2.90533498e-11, -2.41190961e-08,  5.64252646e-03,  7.04939614e+02,\n",
      "        0.00000000e+00,  4.07900000e+03,  7.03000000e+02,  7.28000000e+02]), 'area': [0, 4079, 703, 728]}}}\n",
      "OrderTraceAlg: idx:  34  status:  {'msg': 'same', 'cluster_id': 34, 'poly_fitting': {34: {'errors': 2.661314354656407, 'coeffs': array([-3.84887387e-11,  9.01449160e-08,  5.13025243e-03,  7.51277839e+02,\n",
      "        0.00000000e+00,  4.07900000e+03,  7.47000000e+02,  7.75000000e+02]), 'area': [0, 4079, 747, 775]}}}\n",
      "OrderTraceAlg: idx:  35  status:  {'msg': 'same', 'cluster_id': 35, 'poly_fitting': {35: {'errors': 3.3707859000699476, 'coeffs': array([-4.25354066e-11,  8.92702056e-08,  5.05338530e-03,  7.70280980e+02,\n",
      "        0.00000000e+00,  4.07900000e+03,  7.65000000e+02,  7.95000000e+02]), 'area': [0, 4079, 765, 795]}}}\n",
      "OrderTraceAlg: idx:  36  status:  {'msg': 'same', 'cluster_id': 36, 'poly_fitting': {36: {'errors': 2.909171221821207, 'coeffs': array([-4.18796661e-11,  8.73032713e-08,  4.99613952e-03,  7.89274614e+02,\n",
      "        0.00000000e+00,  4.07900000e+03,  7.85000000e+02,  8.13000000e+02]), 'area': [0, 4079, 785, 813]}}}\n",
      "OrderTraceAlg: idx:  37  status:  {'msg': 'same', 'cluster_id': 37, 'poly_fitting': {37: {'errors': 1.5620091374040612, 'coeffs': array([-3.08376285e-11,  5.12810187e-08,  5.02891261e-03,  8.03886685e+02,\n",
      "        0.00000000e+00,  4.07900000e+03,  8.02000000e+02,  8.26000000e+02]), 'area': [0, 4079, 802, 826]}}}\n",
      "OrderTraceAlg: idx:  38  status:  {'msg': 'same', 'cluster_id': 38, 'poly_fitting': {38: {'errors': 2.660147923823718, 'coeffs': array([-4.22373164e-11,  1.78904162e-07,  4.49089848e-03,  8.51811431e+02,\n",
      "        0.00000000e+00,  4.07900000e+03,  8.47000000e+02,  8.74000000e+02]), 'area': [0, 4079, 847, 874]}}}\n",
      "OrderTraceAlg: idx:  39  status:  {'msg': 'same', 'cluster_id': 39, 'poly_fitting': {39: {'errors': 3.3698949733404207, 'coeffs': array([-4.08945150e-11,  1.53386529e-07,  4.43642610e-03,  8.70822823e+02,\n",
      "        0.00000000e+00,  4.07900000e+03,  8.65000000e+02,  8.94000000e+02]), 'area': [0, 4079, 865, 894]}}}\n"
     ]
    },
    {
     "name": "stdout",
     "output_type": "stream",
     "text": [
      "OrderTraceAlg: idx:  40  status:  {'msg': 'same', 'cluster_id': 40, 'poly_fitting': {40: {'errors': 2.912217151868988, 'coeffs': array([-4.63302130e-11,  1.88023636e-07,  4.31916013e-03,  8.89835761e+02,\n",
      "        0.00000000e+00,  4.07900000e+03,  8.85000000e+02,  9.12000000e+02]), 'area': [0, 4079, 885, 912]}}}\n",
      "OrderTraceAlg: idx:  41  status:  {'msg': 'same', 'cluster_id': 41, 'poly_fitting': {41: {'errors': 1.560437417956987, 'coeffs': array([-3.36350277e-11,  1.40294020e-07,  4.36610962e-03,  9.04453024e+02,\n",
      "        0.00000000e+00,  4.07900000e+03,  9.02000000e+02,  9.25000000e+02]), 'area': [0, 4079, 902, 925]}}}\n",
      "OrderTraceAlg: idx:  42  status:  {'msg': 'same', 'cluster_id': 42, 'poly_fitting': {42: {'errors': 2.6613677466613472, 'coeffs': array([-3.54240825e-11,  2.04477739e-07,  3.95057401e-03,  9.53915470e+02,\n",
      "        0.00000000e+00,  4.07900000e+03,  9.50000000e+02,  9.75000000e+02]), 'area': [0, 4079, 950, 975]}}}\n",
      "OrderTraceAlg: idx:  43  status:  {'msg': 'same', 'cluster_id': 43, 'poly_fitting': {43: {'errors': 3.3720943332287834, 'coeffs': array([-4.89934265e-11,  2.63121900e-07,  3.76746987e-03,  9.72979430e+02,\n",
      "        0.00000000e+00,  4.07900000e+03,  9.67000000e+02,  9.95000000e+02]), 'area': [0, 4079, 967, 995]}}}\n",
      "OrderTraceAlg: idx:  44  status:  {'msg': 'same', 'cluster_id': 44, 'poly_fitting': {44: {'errors': 2.9124220649338146, 'coeffs': array([-4.90883809e-11,  2.66598563e-07,  3.70203543e-03,  9.91970769e+02,\n",
      "        0.00000000e+00,  4.07900000e+03,  9.87000000e+02,  1.01300000e+03]), 'area': [0, 4079, 987, 1013]}}}\n",
      "OrderTraceAlg: idx:  45  status:  {'msg': 'same', 'cluster_id': 45, 'poly_fitting': {45: {'errors': 1.5578866060117935, 'coeffs': array([-3.35770643e-11,  2.04600928e-07,  3.77017298e-03,  1.00657314e+03,\n",
      "        0.00000000e+00,  4.07900000e+03,  1.00400000e+03,  1.02600000e+03]), 'area': [0, 4079, 1004, 1026]}}}\n",
      "OrderTraceAlg: idx:  46  status:  {'msg': 'same', 'cluster_id': 46, 'poly_fitting': {46: {'errors': 2.661465175119126, 'coeffs': array([-4.36527859e-11,  3.14405960e-07,  3.28110097e-03,  1.05771445e+03,\n",
      "        0.00000000e+00,  4.07900000e+03,  1.05300000e+03,  1.07800000e+03]), 'area': [0, 4079, 1053, 1078]}}}\n",
      "OrderTraceAlg: idx:  47  status:  {'msg': 'same', 'cluster_id': 47, 'poly_fitting': {47: {'errors': 3.375744892155919, 'coeffs': array([-3.15229121e-11,  2.34490703e-07,  3.29248840e-03,  1.07673121e+03,\n",
      "        0.00000000e+00,  4.07900000e+03,  1.07100000e+03,  1.09700000e+03]), 'area': [0, 4079, 1071, 1097]}}}\n",
      "OrderTraceAlg: idx:  48  status:  {'msg': 'same', 'cluster_id': 48, 'poly_fitting': {48: {'errors': 2.9141529955923255, 'coeffs': array([-3.52102923e-11,  2.47411268e-07,  3.23990894e-03,  1.09569770e+03,\n",
      "        0.00000000e+00,  4.07900000e+03,  1.09100000e+03,  1.11500000e+03]), 'area': [0, 4079, 1091, 1115]}}}\n",
      "OrderTraceAlg: idx:  49  status:  {'msg': 'same', 'cluster_id': 49, 'poly_fitting': {49: {'errors': 1.5555589059209778, 'coeffs': array([-2.51545693e-11,  2.31695278e-07,  3.18890649e-03,  1.11038174e+03,\n",
      "        0.00000000e+00,  4.07900000e+03,  1.10800000e+03,  1.12800000e+03]), 'area': [0, 4079, 1108, 1128]}}}\n",
      "OrderTraceAlg: idx:  50  status:  {'msg': 'same', 'cluster_id': 50, 'poly_fitting': {50: {'errors': 2.6664794013580964, 'coeffs': array([-4.12172465e-11,  3.70438700e-07,  2.66774898e-03,  1.16320888e+03,\n",
      "        0.00000000e+00,  4.07900000e+03,  1.15900000e+03,  1.18200000e+03]), 'area': [0, 4079, 1159, 1182]}}}\n",
      "OrderTraceAlg: idx:  51  status:  {'msg': 'same', 'cluster_id': 51, 'poly_fitting': {51: {'errors': 3.3821292416755697, 'coeffs': array([-3.17929501e-11,  3.04371076e-07,  2.66640862e-03,  1.18222557e+03,\n",
      "        0.00000000e+00,  4.07900000e+03,  1.17700000e+03,  1.20100000e+03]), 'area': [0, 4079, 1177, 1201]}}}\n",
      "OrderTraceAlg: idx:  52  status:  {'msg': 'same', 'cluster_id': 52, 'poly_fitting': {52: {'errors': 2.9181731525991053, 'coeffs': array([-3.72956534e-11,  3.23063647e-07,  2.61909004e-03,  1.20117954e+03,\n",
      "        0.00000000e+00,  4.07900000e+03,  1.19700000e+03,  1.21900000e+03]), 'area': [0, 4079, 1197, 1219]}}}\n",
      "OrderTraceAlg: idx:  53  status:  {'msg': 'same', 'cluster_id': 53, 'poly_fitting': {53: {'errors': 1.5524408183144869, 'coeffs': array([-1.92509613e-11,  2.58636129e-07,  2.64663904e-03,  1.21583806e+03,\n",
      "        0.00000000e+00,  4.07900000e+03,  1.21400000e+03,  1.23200000e+03]), 'area': [0, 4079, 1214, 1232]}}}\n",
      "OrderTraceAlg: idx:  54  status:  {'msg': 'same', 'cluster_id': 54, 'poly_fitting': {54: {'errors': 2.667939332180653, 'coeffs': array([-4.62239957e-11,  4.81895190e-07,  1.93319007e-03,  1.27049555e+03,\n",
      "        0.00000000e+00,  4.07900000e+03,  1.26600000e+03,  1.28700000e+03]), 'area': [0, 4079, 1266, 1287]}}}\n",
      "OrderTraceAlg: idx:  55  status:  {'msg': 'same', 'cluster_id': 55, 'poly_fitting': {55: {'errors': 3.382435854253243, 'coeffs': array([-2.25030807e-11,  3.09654496e-07,  2.15577900e-03,  1.28940677e+03,\n",
      "        0.00000000e+00,  4.07900000e+03,  1.28400000e+03,  1.30700000e+03]), 'area': [0, 4079, 1284, 1307]}}}\n",
      "OrderTraceAlg: idx:  56  status:  {'msg': 'same', 'cluster_id': 56, 'poly_fitting': {56: {'errors': 2.9165067554293485, 'coeffs': array([-2.17481952e-11,  2.90754419e-07,  2.17749629e-03,  1.30831860e+03,\n",
      "        0.00000000e+00,  4.07900000e+03,  1.30400000e+03,  1.32500000e+03]), 'area': [0, 4079, 1304, 1325]}}}\n",
      "OrderTraceAlg: idx:  57  status:  {'msg': 'same', 'cluster_id': 57, 'poly_fitting': {57: {'errors': 1.5571609504141322, 'coeffs': array([-1.44360613e-11,  2.90914322e-07,  2.08435939e-03,  1.32304712e+03,\n",
      "        0.00000000e+00,  4.07900000e+03,  1.32100000e+03,  1.33800000e+03]), 'area': [0, 4079, 1321, 1338]}}}\n",
      "OrderTraceAlg: idx:  58  status:  {'msg': 'same', 'cluster_id': 58, 'poly_fitting': {58: {'errors': 2.6749625094955354, 'coeffs': array([-3.52285047e-11,  4.89850634e-07,  1.38309666e-03,  1.37948459e+03,\n",
      "        0.00000000e+00,  4.07900000e+03,  1.37500000e+03,  1.39500000e+03]), 'area': [0, 4079, 1375, 1395]}}}\n",
      "OrderTraceAlg: idx:  59  status:  {'msg': 'same', 'cluster_id': 59, 'poly_fitting': {59: {'errors': 3.3849835452114307, 'coeffs': array([-2.89437652e-11,  4.06930161e-07,  1.49177371e-03,  1.39842866e+03,\n",
      "        0.00000000e+00,  4.07900000e+03,  1.39300000e+03,  1.41500000e+03]), 'area': [0, 4079, 1393, 1415]}}}\n",
      "OrderTraceAlg: idx:  60  status:  {'msg': 'same', 'cluster_id': 60, 'poly_fitting': {60: {'errors': 2.918166524713177, 'coeffs': array([-2.48272761e-11,  3.72954225e-07,  1.53084774e-03,  1.41733371e+03,\n",
      "        0.00000000e+00,  4.07900000e+03,  1.41300000e+03,  1.43200000e+03]), 'area': [0, 4079, 1413, 1432]}}}\n",
      "OrderTraceAlg: idx:  61  status:  {'msg': 'same', 'cluster_id': 61, 'poly_fitting': {61: {'errors': 1.5555635712788618, 'coeffs': array([-2.36156081e-11,  4.10498548e-07,  1.36818042e-03,  1.43210511e+03,\n",
      "        0.00000000e+00,  4.07900000e+03,  1.43000000e+03,  1.44600000e+03]), 'area': [0, 4079, 1430, 1446]}}}\n",
      "OrderTraceAlg: idx:  62  status:  {'msg': 'same', 'cluster_id': 62, 'poly_fitting': {62: {'errors': 2.681081881859265, 'coeffs': array([-2.18121733e-11,  4.52112501e-07,  9.87260111e-04,  1.49016752e+03,\n",
      "        0.00000000e+00,  4.07900000e+03,  1.48600000e+03,  1.50400000e+03]), 'area': [0, 4079, 1486, 1504]}}}\n",
      "OrderTraceAlg: idx:  63  status:  {'msg': 'same', 'cluster_id': 63, 'poly_fitting': {63: {'errors': 3.3941575745058237, 'coeffs': array([-3.12044297e-11,  5.02635500e-07,  7.81349516e-04,  1.50930675e+03,\n",
      "        0.00000000e+00,  4.07900000e+03,  1.50400000e+03,  1.52400000e+03]), 'area': [0, 4079, 1504, 1524]}}}\n",
      "OrderTraceAlg: idx:  64  status:  {'msg': 'same', 'cluster_id': 64, 'poly_fitting': {64: {'errors': 2.918291473725655, 'coeffs': array([-3.98062950e-11,  5.47674420e-07,  6.73150697e-04,  1.52829360e+03,\n",
      "        0.00000000e+00,  4.07900000e+03,  1.52400000e+03,  1.54200000e+03]), 'area': [0, 4079, 1524, 1542]}}}\n",
      "OrderTraceAlg: idx:  65  status:  {'msg': 'same', 'cluster_id': 65, 'poly_fitting': {65: {'errors': 1.5564266391932409, 'coeffs': array([-1.36426490e-11,  4.25431096e-07,  7.98802162e-04,  1.54293560e+03,\n",
      "        0.00000000e+00,  4.07900000e+03,  1.54100000e+03,  1.55500000e+03]), 'area': [0, 4079, 1541, 1555]}}}\n",
      "OrderTraceAlg: idx:  66  status:  {'msg': 'same', 'cluster_id': 66, 'poly_fitting': {66: {'errors': 2.666712576260302, 'coeffs': array([-3.21854644e-11,  5.83381850e-07,  2.42174668e-04,  1.60289662e+03,\n",
      "        0.00000000e+00,  4.07900000e+03,  1.59900000e+03,  1.61600000e+03]), 'area': [0, 4079, 1599, 1616]}}}\n",
      "OrderTraceAlg: idx:  67  status:  {'msg': 'same', 'cluster_id': 67, 'poly_fitting': {67: {'errors': 3.3878112156906863, 'coeffs': array([-3.32447873e-11,  6.00756470e-07,  1.85679595e-05,  1.62215254e+03,\n",
      "        0.00000000e+00,  4.07900000e+03,  1.61700000e+03,  1.63500000e+03]), 'area': [0, 4079, 1617, 1635]}}}\n",
      "OrderTraceAlg: idx:  68  status:  {'msg': 'same', 'cluster_id': 68, 'poly_fitting': {68: {'errors': 2.915858977085925, 'coeffs': array([-5.55061204e-11,  7.61262254e-07, -3.80672421e-04,  1.64135245e+03,\n",
      "        0.00000000e+00,  4.07900000e+03,  1.63600000e+03,  1.65300000e+03]), 'area': [0, 4079, 1636, 1653]}}}\n",
      "OrderTraceAlg: idx:  69  status:  {'msg': 'same', 'cluster_id': 69, 'poly_fitting': {69: {'errors': 1.5426490002519004, 'coeffs': array([-4.52644780e-12,  4.41329040e-07,  2.34702354e-04,  1.65562599e+03,\n",
      "        0.00000000e+00,  4.07900000e+03,  1.65300000e+03,  1.66600000e+03]), 'area': [0, 4079, 1653, 1666]}}}\n",
      "OrderTraceAlg: idx:  70  status:  {'msg': 'same', 'cluster_id': 70, 'poly_fitting': {70: {'errors': 2.710629505979288, 'coeffs': array([-3.23074418e-11,  6.60308528e-07, -4.52847716e-04,  1.71757912e+03,\n",
      "        0.00000000e+00,  4.07900000e+03,  1.71300000e+03,  1.72900000e+03]), 'area': [0, 4079, 1713, 1729]}}}\n",
      "OrderTraceAlg: idx:  71  status:  {'msg': 'same', 'cluster_id': 71, 'poly_fitting': {71: {'errors': 3.4007886188210388, 'coeffs': array([-2.38089561e-11,  5.83778299e-07, -3.63308376e-04,  1.73651418e+03,\n",
      "        0.00000000e+00,  4.07900000e+03,  1.73100000e+03,  1.74800000e+03]), 'area': [0, 4079, 1731, 1748]}}}\n",
      "OrderTraceAlg: idx:  72  status:  {'msg': 'same', 'cluster_id': 72, 'poly_fitting': {72: {'errors': 2.9168870369528257, 'coeffs': array([-4.28940010e-11,  6.97749586e-07, -6.04154138e-04,  1.75557018e+03,\n",
      "        0.00000000e+00,  4.07900000e+03,  1.75100000e+03,  1.76600000e+03]), 'area': [0, 4079, 1751, 1766]}}}\n",
      "OrderTraceAlg: idx:  73  status:  {'msg': 'same', 'cluster_id': 73, 'poly_fitting': {73: {'errors': 1.5781462063094294, 'coeffs': array([-2.79265961e-11,  6.86673160e-07, -8.20986412e-04,  1.77054406e+03,\n",
      "        0.00000000e+00,  4.07900000e+03,  1.76800000e+03,  1.77900000e+03]), 'area': [0, 4079, 1768, 1779]}}}\n",
      "OrderTraceAlg: idx:  74  status:  {'msg': 'same', 'cluster_id': 74, 'poly_fitting': {74: {'errors': 2.6396281249078, 'coeffs': array([ 6.48224901e-12,  5.10896840e-07, -8.32158403e-04,  1.83420647e+03,\n",
      "        0.00000000e+00,  4.07900000e+03,  1.82900000e+03,  1.84400000e+03]), 'area': [0, 4079, 1829, 1844]}}}\n",
      "OrderTraceAlg: idx:  75  status:  {'msg': 'same', 'cluster_id': 75, 'poly_fitting': {75: {'errors': 3.3735125323980273, 'coeffs': array([-7.52696714e-11,  1.00660444e-06, -1.71731135e-03,  1.85346674e+03,\n",
      "        0.00000000e+00,  4.07900000e+03,  1.84700000e+03,  1.86300000e+03]), 'area': [0, 4079, 1847, 1863]}}}\n",
      "OrderTraceAlg: idx:  76  status:  {'msg': 'same', 'cluster_id': 76, 'poly_fitting': {76: {'errors': 2.9188605162634476, 'coeffs': array([-1.01503511e-10,  1.15677443e-06, -1.96672751e-03,  1.87242990e+03,\n",
      "        0.00000000e+00,  4.07900000e+03,  1.86700000e+03,  1.88100000e+03]), 'area': [0, 4079, 1867, 1881]}}}\n",
      "OrderTraceAlg: idx:  77  status:  {'msg': 'same', 'cluster_id': 77, 'poly_fitting': {77: {'errors': 1.5971018486316464, 'coeffs': array([ 8.35641903e-13,  5.45452371e-07, -1.03504407e-03,  1.88691997e+03,\n",
      "        0.00000000e+00,  4.07900000e+03,  1.88400000e+03,  1.89400000e+03]), 'area': [0, 4079, 1884, 1894]}}}\n"
     ]
    },
    {
     "name": "stdout",
     "output_type": "stream",
     "text": [
      "OrderTraceAlg: idx:  78  status:  {'msg': 'same', 'cluster_id': 78, 'poly_fitting': {78: {'errors': 2.6520686584557605, 'coeffs': array([ 3.33792425e-12,  5.97548314e-07, -1.50721398e-03,  1.95281173e+03,\n",
      "        0.00000000e+00,  4.07900000e+03,  1.94800000e+03,  1.96100000e+03]), 'area': [0, 4079, 1948, 1961]}}}\n",
      "OrderTraceAlg: idx:  79  status:  {'msg': 'same', 'cluster_id': 79, 'poly_fitting': {79: {'errors': 3.376537282278121, 'coeffs': array([-5.85316757e-11,  9.83889988e-07, -2.26333904e-03,  1.97208643e+03,\n",
      "        0.00000000e+00,  4.07900000e+03,  1.96500000e+03,  1.98100000e+03]), 'area': [0, 4079, 1965, 1981]}}}\n",
      "OrderTraceAlg: idx:  80  status:  {'msg': 'same', 'cluster_id': 80, 'poly_fitting': {80: {'errors': 2.9160395655374374, 'coeffs': array([-6.96289174e-11,  1.04033034e-06, -2.35269394e-03,  1.99098441e+03,\n",
      "        0.00000000e+00,  4.07900000e+03,  1.98500000e+03,  1.99800000e+03]), 'area': [0, 4079, 1985, 1998]}}}\n",
      "OrderTraceAlg: idx:  81  status:  {'msg': 'same', 'cluster_id': 81, 'poly_fitting': {81: {'errors': 1.610506076452339, 'coeffs': array([-1.22448978e-11,  6.89957017e-07, -1.82407159e-03,  2.00564142e+03,\n",
      "        0.00000000e+00,  4.07900000e+03,  2.00200000e+03,  2.01100000e+03]), 'area': [0, 4079, 2002, 2011]}}}\n",
      "OrderTraceAlg: idx:  82  status:  {'msg': 'same', 'cluster_id': 82, 'poly_fitting': {82: {'errors': 2.6533568890187937, 'coeffs': array([ 1.88019841e-11,  5.53152603e-07, -1.94072318e-03,  2.07343689e+03,\n",
      "        0.00000000e+00,  4.07900000e+03,  2.06700000e+03,  2.08000000e+03]), 'area': [0, 4079, 2067, 2080]}}}\n",
      "OrderTraceAlg: idx:  83  status:  {'msg': 'same', 'cluster_id': 83, 'poly_fitting': {83: {'errors': 3.395864527683582, 'coeffs': array([-3.74861832e-11,  9.65635848e-07, -2.90183200e-03,  2.09287093e+03,\n",
      "        0.00000000e+00,  4.07900000e+03,  2.08500000e+03,  2.10000000e+03]), 'area': [0, 4079, 2085, 2100]}}}\n",
      "OrderTraceAlg: idx:  84  status:  {'msg': 'same', 'cluster_id': 84, 'poly_fitting': {84: {'errors': 2.9108712624086897, 'coeffs': array([-5.05118278e-11,  1.02661556e-06, -3.00263536e-03,  2.11183740e+03,\n",
      "        0.00000000e+00,  4.07900000e+03,  2.10500000e+03,  2.11800000e+03]), 'area': [0, 4079, 2105, 2118]}}}\n",
      "OrderTraceAlg: idx:  85  status:  {'msg': 'same', 'cluster_id': 85, 'poly_fitting': {85: {'errors': 1.5656401685085874, 'coeffs': array([-3.77591204e-11,  9.82764495e-07, -3.01448990e-03,  2.12656763e+03,\n",
      "        0.00000000e+00,  4.07900000e+03,  2.12200000e+03,  2.13100000e+03]), 'area': [0, 4079, 2122, 2131]}}}\n",
      "OrderTraceAlg: idx:  86  status:  {'msg': 'same', 'cluster_id': 86, 'poly_fitting': {86: {'errors': 2.6994649056099362, 'coeffs': array([-1.98107039e-11,  8.97833777e-07, -3.15101065e-03,  2.19646328e+03,\n",
      "        0.00000000e+00,  4.07900000e+03,  2.18900000e+03,  2.20100000e+03]), 'area': [0, 4079, 2189, 2201]}}}\n",
      "OrderTraceAlg: idx:  87  status:  {'msg': 'same', 'cluster_id': 87, 'poly_fitting': {87: {'errors': 3.4029312482668534, 'coeffs': array([-2.18892261e-11,  9.34290533e-07, -3.42502814e-03,  2.21573320e+03,\n",
      "        0.00000000e+00,  4.07900000e+03,  2.20700000e+03,  2.22100000e+03]), 'area': [0, 4079, 2207, 2221]}}}\n",
      "OrderTraceAlg: idx:  88  status:  {'msg': 'same', 'cluster_id': 88, 'poly_fitting': {88: {'errors': 2.9054732680607493, 'coeffs': array([-2.65524565e-11,  9.41223235e-07, -3.41791504e-03,  2.23465493e+03,\n",
      "        0.00000000e+00,  4.07900000e+03,  2.22700000e+03,  2.23900000e+03]), 'area': [0, 4079, 2227, 2239]}}}\n",
      "OrderTraceAlg: idx:  89  status:  {'msg': 'same', 'cluster_id': 89, 'poly_fitting': {89: {'errors': 1.550743293757789, 'coeffs': array([-6.23095648e-12,  8.70774275e-07, -3.42412386e-03,  2.24937460e+03,\n",
      "        0.00000000e+00,  4.07900000e+03,  2.24400000e+03,  2.25200000e+03]), 'area': [0, 4079, 2244, 2252]}}}\n",
      "OrderTraceAlg: idx:  90  status:  {'msg': 'same', 'cluster_id': 90, 'poly_fitting': {90: {'errors': 2.7159651846553974, 'coeffs': array([-2.68664923e-11,  1.02071635e-06, -3.94796179e-03,  2.32156867e+03,\n",
      "        0.00000000e+00,  4.07900000e+03,  2.31300000e+03,  2.32600000e+03]), 'area': [0, 4079, 2313, 2326]}}}\n",
      "OrderTraceAlg: idx:  91  status:  {'msg': 'same', 'cluster_id': 91, 'poly_fitting': {91: {'errors': 3.3992600929308727, 'coeffs': array([-1.00064739e-11,  9.24074904e-07, -3.96612557e-03,  2.34076240e+03,\n",
      "        0.00000000e+00,  4.07900000e+03,  2.33100000e+03,  2.34600000e+03]), 'area': [0, 4079, 2331, 2346]}}}\n",
      "OrderTraceAlg: idx:  92  status:  {'msg': 'same', 'cluster_id': 92, 'poly_fitting': {92: {'errors': 2.8993660582015686, 'coeffs': array([-3.95564385e-11,  1.06900822e-06, -4.15202937e-03,  2.35973223e+03,\n",
      "        0.00000000e+00,  4.07900000e+03,  2.35100000e+03,  2.36400000e+03]), 'area': [0, 4079, 2351, 2364]}}}\n",
      "OrderTraceAlg: idx:  93  status:  {'msg': 'same', 'cluster_id': 93, 'poly_fitting': {93: {'errors': 1.5558962165294334, 'coeffs': array([-1.41374829e-11,  9.80421115e-07, -4.16672223e-03,  2.37448690e+03,\n",
      "        0.00000000e+00,  4.07900000e+03,  2.36800000e+03,  2.37700000e+03]), 'area': [0, 4079, 2368, 2377]}}}\n",
      "OrderTraceAlg: idx:  94  status:  {'msg': 'same', 'cluster_id': 94, 'poly_fitting': {94: {'errors': 2.6872473265872396, 'coeffs': array([-3.73151572e-11,  1.15066017e-06, -4.72793301e-03,  2.44891768e+03,\n",
      "        0.00000000e+00,  4.07900000e+03,  2.43900000e+03,  2.45300000e+03]), 'area': [0, 4079, 2439, 2453]}}}\n",
      "OrderTraceAlg: idx:  95  status:  {'msg': 'same', 'cluster_id': 95, 'poly_fitting': {95: {'errors': 3.3984095108339423, 'coeffs': array([ 8.59074121e-12,  9.04166890e-07, -4.57777680e-03,  2.46809800e+03,\n",
      "        0.00000000e+00,  4.07900000e+03,  2.45700000e+03,  2.47400000e+03]), 'area': [0, 4079, 2457, 2474]}}}\n",
      "OrderTraceAlg: idx:  96  status:  {'msg': 'same', 'cluster_id': 96, 'poly_fitting': {96: {'errors': 2.902641910435355, 'coeffs': array([-1.84617814e-11,  1.04161359e-06, -4.75773798e-03,  2.48705018e+03,\n",
      "        0.00000000e+00,  4.07900000e+03,  2.47700000e+03,  2.49200000e+03]), 'area': [0, 4079, 2477, 2492]}}}\n",
      "OrderTraceAlg: idx:  97  status:  {'msg': 'same', 'cluster_id': 97, 'poly_fitting': {97: {'errors': 1.5623812467125089, 'coeffs': array([ 1.17183815e-11,  9.17941978e-07, -4.70618559e-03,  2.50179349e+03,\n",
      "        0.00000000e+00,  4.07900000e+03,  2.49400000e+03,  2.50400000e+03]), 'area': [0, 4079, 2494, 2504]}}}\n",
      "OrderTraceAlg: idx:  98  status:  {'msg': 'same', 'cluster_id': 98, 'poly_fitting': {98: {'errors': 2.6749303796187887, 'coeffs': array([-1.75588828e-11,  1.14643984e-06, -5.43397540e-03,  2.57860661e+03,\n",
      "        0.00000000e+00,  4.07900000e+03,  2.56800000e+03,  2.58300000e+03]), 'area': [0, 4079, 2568, 2583]}}}\n",
      "OrderTraceAlg: idx:  99  status:  {'msg': 'same', 'cluster_id': 99, 'poly_fitting': {99: {'errors': 3.392999032619319, 'coeffs': array([ 2.71937344e-11,  8.80930862e-07, -5.18572701e-03,  2.59776113e+03,\n",
      "        0.00000000e+00,  4.07900000e+03,  2.58500000e+03,  2.60300000e+03]), 'area': [0, 4079, 2585, 2603]}}}\n",
      "OrderTraceAlg: idx:  100  status:  {'msg': 'same', 'cluster_id': 100, 'poly_fitting': {100: {'errors': 2.9235960963337173, 'coeffs': array([ 3.51548572e-12,  1.01791304e-06, -5.42477651e-03,  2.61675826e+03,\n",
      "        0.00000000e+00,  4.07900000e+03,  2.60500000e+03,  2.62100000e+03]), 'area': [0, 4079, 2605, 2621]}}}\n",
      "OrderTraceAlg: idx:  101  status:  {'msg': 'same', 'cluster_id': 101, 'poly_fitting': {101: {'errors': 1.5847864173531376, 'coeffs': array([ 1.48408683e-11,  9.87030503e-07, -5.45437057e-03,  2.63151146e+03,\n",
      "        0.00000000e+00,  4.07900000e+03,  2.62200000e+03,  2.63400000e+03]), 'area': [0, 4079, 2622, 2634]}}}\n",
      "OrderTraceAlg: idx:  102  status:  {'msg': 'same', 'cluster_id': 102, 'poly_fitting': {102: {'errors': 2.69869854062558, 'coeffs': array([-3.67293945e-11,  1.32554985e-06, -6.28298780e-03,  2.71067942e+03,\n",
      "        0.00000000e+00,  4.07900000e+03,  2.69800000e+03,  2.71500000e+03]), 'area': [0, 4079, 2698, 2715]}}}\n",
      "OrderTraceAlg: idx:  103  status:  {'msg': 'same', 'cluster_id': 103, 'poly_fitting': {103: {'errors': 3.4000971951352095, 'coeffs': array([ 5.32966218e-12,  1.08155637e-06, -6.09675342e-03,  2.72987854e+03,\n",
      "        0.00000000e+00,  4.07900000e+03,  2.71600000e+03,  2.73500000e+03]), 'area': [0, 4079, 2716, 2735]}}}\n",
      "OrderTraceAlg: idx:  104  status:  {'msg': 'same', 'cluster_id': 104, 'poly_fitting': {104: {'errors': 2.899402403707827, 'coeffs': array([-3.93004393e-11,  1.32318288e-06, -6.44034029e-03,  2.74888473e+03,\n",
      "        0.00000000e+00,  4.07900000e+03,  2.73600000e+03,  2.75300000e+03]), 'area': [0, 4079, 2736, 2753]}}}\n",
      "OrderTraceAlg: idx:  105  status:  {'msg': 'same', 'cluster_id': 105, 'poly_fitting': {105: {'errors': 1.5661265835726559, 'coeffs': array([-5.70425477e-12,  1.17905803e-06, -6.36254666e-03,  2.76364199e+03,\n",
      "        0.00000000e+00,  4.07900000e+03,  2.75300000e+03,  2.76600000e+03]), 'area': [0, 4079, 2753, 2766]}}}\n",
      "OrderTraceAlg: idx:  106  status:  {'msg': 'same', 'cluster_id': 106, 'poly_fitting': {106: {'errors': 2.6688138273301196, 'coeffs': array([-7.17727260e-11,  1.61223460e-06, -7.34733166e-03,  2.84531676e+03,\n",
      "        0.00000000e+00,  4.07900000e+03,  2.83100000e+03,  2.85000000e+03]), 'area': [0, 4079, 2831, 2850]}}}\n",
      "OrderTraceAlg: idx:  107  status:  {'msg': 'same', 'cluster_id': 107, 'poly_fitting': {107: {'errors': 3.4016843312949026, 'coeffs': array([ 6.46052638e-12,  1.17083301e-06, -6.91810387e-03,  2.86447928e+03,\n",
      "        0.00000000e+00,  4.07900000e+03,  2.84900000e+03,  2.87000000e+03]), 'area': [0, 4079, 2849, 2870]}}}\n",
      "OrderTraceAlg: idx:  108  status:  {'msg': 'same', 'cluster_id': 108, 'poly_fitting': {108: {'errors': 2.9084888414485994, 'coeffs': array([-3.91989253e-11,  1.42420567e-06, -7.29215781e-03,  2.88350254e+03,\n",
      "        0.00000000e+00,  4.07900000e+03,  2.86900000e+03,  2.88800000e+03]), 'area': [0, 4079, 2869, 2888]}}}\n",
      "OrderTraceAlg: idx:  109  status:  {'msg': 'same', 'cluster_id': 109, 'poly_fitting': {109: {'errors': 1.5622803215444971, 'coeffs': array([ 9.08719572e-12,  1.18758955e-06, -7.04627115e-03,  2.89818876e+03,\n",
      "        0.00000000e+00,  4.07900000e+03,  2.88600000e+03,  2.90100000e+03]), 'area': [0, 4079, 2886, 2901]}}}\n",
      "OrderTraceAlg: idx:  110  status:  {'msg': 'same', 'cluster_id': 110, 'poly_fitting': {110: {'errors': 2.691767400099574, 'coeffs': array([ 1.35648631e-11,  1.23034975e-06, -7.54516113e-03,  2.98227464e+03,\n",
      "        0.00000000e+00,  4.07900000e+03,  2.96700000e+03,  2.98700000e+03]), 'area': [0, 4079, 2967, 2987]}}}\n",
      "OrderTraceAlg: idx:  111  status:  {'msg': 'same', 'cluster_id': 111, 'poly_fitting': {111: {'errors': 3.380116848161053, 'coeffs': array([-3.37151607e-11,  1.49918195e-06, -8.05385882e-03,  3.00167107e+03,\n",
      "        0.00000000e+00,  4.07900000e+03,  2.98500000e+03,  3.00700000e+03]), 'area': [0, 4079, 2985, 3007]}}}\n",
      "OrderTraceAlg: idx:  112  status:  {'msg': 'same', 'cluster_id': 112, 'poly_fitting': {112: {'errors': 2.967458012464787, 'coeffs': array([-4.51535960e-11,  1.56157556e-06, -8.17497210e-03,  3.02063439e+03,\n",
      "        0.00000000e+00,  4.07900000e+03,  3.00400000e+03,  3.02500000e+03]), 'area': [0, 4079, 3004, 3025]}}}\n",
      "OrderTraceAlg: idx:  113  status:  {'msg': 'same', 'cluster_id': 113, 'poly_fitting': {113: {'errors': 1.571717463829771, 'coeffs': array([-4.01517328e-11,  1.56177161e-06, -8.23938798e-03,  3.03541044e+03,\n",
      "        0.00000000e+00,  4.07900000e+03,  3.02100000e+03,  3.03800000e+03]), 'area': [0, 4079, 3021, 3038]}}}\n"
     ]
    },
    {
     "name": "stdout",
     "output_type": "stream",
     "text": [
      "OrderTraceAlg: idx:  114  status:  {'cluster_id': 114, 'poly_fitting': {}, 'cluster_added': [], 'msg': 'delete'}\n",
      "OrderTraceAlg: idx:  115  status:  {'cluster_id': 115, 'poly_fitting': {}, 'cluster_added': [], 'msg': 'delete'}\n",
      "OrderTraceAlg: idx:  116  status:  {'msg': 'same', 'cluster_id': 116, 'poly_fitting': {116: {'errors': 2.6997480476219318, 'coeffs': array([ 4.16042929e-12,  1.37806782e-06, -8.45352229e-03,  3.12203434e+03,\n",
      "        0.00000000e+00,  4.07900000e+03,  3.10500000e+03,  3.12600000e+03]), 'area': [0, 4079, 3105, 3126]}}}\n",
      "OrderTraceAlg: idx:  117  status:  {'msg': 'same', 'cluster_id': 117, 'poly_fitting': {117: {'errors': 3.4114356711781344, 'coeffs': array([-6.08691076e-11,  1.75804912e-06, -9.12394673e-03,  3.14146987e+03,\n",
      "        0.00000000e+00,  4.07900000e+03,  3.12300000e+03,  3.14700000e+03]), 'area': [0, 4079, 3123, 3147]}}}\n",
      "OrderTraceAlg: idx:  118  status:  {'msg': 'same', 'cluster_id': 118, 'poly_fitting': {118: {'errors': 2.961762828674279, 'coeffs': array([-4.13114880e-11,  1.63285609e-06, -8.97708530e-03,  3.16037096e+03,\n",
      "        0.00000000e+00,  4.07900000e+03,  3.14200000e+03,  3.16500000e+03]), 'area': [0, 4079, 3142, 3165]}}}\n",
      "OrderTraceAlg: idx:  119  status:  {'msg': 'same', 'cluster_id': 119, 'poly_fitting': {119: {'errors': 1.5529063005250023, 'coeffs': array([-4.90018136e-11,  1.70797943e-06, -9.14582462e-03,  3.17517600e+03,\n",
      "        0.00000000e+00,  4.07900000e+03,  3.15900000e+03,  3.17700000e+03]), 'area': [0, 4079, 3159, 3177]}}}\n",
      "OrderTraceAlg: idx:  120  status:  {'msg': 'same', 'cluster_id': 120, 'poly_fitting': {120: {'errors': 3.8055417440799952, 'coeffs': array([-1.36157518e-04,  1.20520292e-02, -5.06205624e-01,  3.22949036e+03,\n",
      "        0.00000000e+00,  5.20000000e+01,  3.20800000e+03,  3.23400000e+03]), 'area': [0, 52, 3208, 3234]}}}\n",
      "OrderTraceAlg: idx:  121  status:  {'msg': 'same', 'cluster_id': 121, 'poly_fitting': {121: {'errors': 2.6801844605749365, 'coeffs': array([-9.00060657e-12,  1.54481925e-06, -9.39047097e-03,  3.26449428e+03,\n",
      "        0.00000000e+00,  4.07900000e+03,  3.24600000e+03,  3.26900000e+03]), 'area': [0, 4079, 3246, 3269]}}}\n",
      "OrderTraceAlg: idx:  122  status:  {'msg': 'same', 'cluster_id': 122, 'poly_fitting': {122: {'errors': 3.4019605031646067, 'coeffs': array([ 2.33448211e-11,  1.36015898e-06, -9.27292903e-03,  3.28371702e+03,\n",
      "        0.00000000e+00,  4.07900000e+03,  3.26300000e+03,  3.28900000e+03]), 'area': [0, 4079, 3263, 3289]}}}\n",
      "OrderTraceAlg: idx:  123  status:  {'msg': 'same', 'cluster_id': 123, 'poly_fitting': {123: {'errors': 2.936837716639649, 'coeffs': array([-9.16343645e-14,  1.48385028e-06, -9.46952644e-03,  3.30272035e+03,\n",
      "        0.00000000e+00,  4.07900000e+03,  3.28300000e+03,  3.30700000e+03]), 'area': [0, 4079, 3283, 3307]}}}\n",
      "OrderTraceAlg: idx:  124  status:  {'msg': 'same', 'cluster_id': 124, 'poly_fitting': {124: {'errors': 1.6017410562570338, 'coeffs': array([-5.67105320e-12,  1.57509523e-06, -9.71314860e-03,  3.31758125e+03,\n",
      "        0.00000000e+00,  4.07900000e+03,  3.30000000e+03,  3.32000000e+03]), 'area': [0, 4079, 3300, 3320]}}}\n",
      "OrderTraceAlg: idx:  125  status:  {'msg': 'same', 'cluster_id': 125, 'poly_fitting': {125: {'errors': 3.446663692822083, 'coeffs': array([-1.61673174e-04,  1.36704781e-01, -3.83444559e+01,  6.92496052e+03,\n",
      "        2.73000000e+02,  3.16000000e+02,  3.35100000e+03,  3.36800000e+03]), 'area': [273, 316, 3351, 3368]}}}\n",
      "OrderTraceAlg: idx:  126  status:  {'cluster_id': 126, 'poly_fitting': {}, 'cluster_added': [], 'msg': 'delete'}\n",
      "OrderTraceAlg: idx:  127  status:  {'cluster_id': 127, 'poly_fitting': {}, 'cluster_added': [], 'msg': 'delete'}\n",
      "OrderTraceAlg: idx:  128  status:  {'cluster_id': 128, 'poly_fitting': {}, 'cluster_added': [], 'msg': 'delete'}\n",
      "OrderTraceAlg: idx:  129  status:  {'cluster_id': 129, 'poly_fitting': {}, 'cluster_added': [], 'msg': 'delete'}\n",
      "OrderTraceAlg: idx:  130  status:  {'cluster_id': 130, 'poly_fitting': {}, 'cluster_added': [], 'msg': 'delete'}\n",
      "OrderTraceAlg: idx:  131  status:  {'msg': 'same', 'cluster_id': 131, 'poly_fitting': {131: {'errors': 2.7131175124180777, 'coeffs': array([-3.56891361e-11,  1.80865764e-06, -1.04959859e-02,  3.40978939e+03,\n",
      "        0.00000000e+00,  4.07900000e+03,  3.38900000e+03,  3.41400000e+03]), 'area': [0, 4079, 3389, 3414]}}}\n",
      "OrderTraceAlg: idx:  132  status:  {'msg': 'same', 'cluster_id': 132, 'poly_fitting': {132: {'errors': 3.4159659739161916, 'coeffs': array([-1.82858734e-11,  1.70789203e-06, -1.05012744e-02,  3.42904460e+03,\n",
      "        0.00000000e+00,  4.07900000e+03,  3.40700000e+03,  3.43400000e+03]), 'area': [0, 4079, 3407, 3434]}}}\n",
      "OrderTraceAlg: idx:  133  status:  {'msg': 'same', 'cluster_id': 133, 'poly_fitting': {133: {'errors': 2.9195761195381857, 'coeffs': array([-6.37421246e-11,  1.96634836e-06, -1.08948870e-02,  3.44812263e+03,\n",
      "        0.00000000e+00,  4.07900000e+03,  3.42700000e+03,  3.45300000e+03]), 'area': [0, 4079, 3427, 3453]}}}\n",
      "OrderTraceAlg: idx:  134  status:  {'msg': 'same', 'cluster_id': 134, 'poly_fitting': {134: {'errors': 1.5992755671192218, 'coeffs': array([-4.72329708e-11,  1.89528539e-06, -1.08531084e-02,  3.46289357e+03,\n",
      "        0.00000000e+00,  4.07900000e+03,  3.44400000e+03,  3.46500000e+03]), 'area': [0, 4079, 3444, 3465]}}}\n",
      "OrderTraceAlg: idx:  135  status:  {'cluster_id': 135, 'poly_fitting': {}, 'cluster_added': [], 'msg': 'delete'}\n",
      "OrderTraceAlg: idx:  136  status:  {'msg': 'same', 'cluster_id': 136, 'poly_fitting': {136: {'errors': 3.3631686071191127, 'coeffs': array([-1.08579763e-04,  2.17876167e-01, -1.45668553e+02,  3.59536492e+04,\n",
      "        6.36000000e+02,  6.86000000e+02,  3.49500000e+03,  3.51300000e+03]), 'area': [636, 686, 3495, 3513]}}}\n",
      "OrderTraceAlg: idx:  137  status:  {'cluster_id': 137, 'poly_fitting': {}, 'cluster_added': [], 'msg': 'delete'}\n",
      "OrderTraceAlg: idx:  138  status:  {'cluster_id': 138, 'poly_fitting': {}, 'cluster_added': [], 'msg': 'delete'}\n",
      "OrderTraceAlg: idx:  139  status:  {'cluster_id': 139, 'poly_fitting': {}, 'cluster_added': [], 'msg': 'delete'}\n",
      "OrderTraceAlg: idx:  140  status:  {'cluster_id': 140, 'poly_fitting': {}, 'cluster_added': [], 'msg': 'delete'}\n",
      "OrderTraceAlg: idx:  141  status:  {'cluster_id': 141, 'poly_fitting': {}, 'cluster_added': [], 'msg': 'delete'}\n",
      "OrderTraceAlg: idx:  142  status:  {'cluster_id': 142, 'poly_fitting': {}, 'cluster_added': [], 'msg': 'delete'}\n",
      "OrderTraceAlg: idx:  143  status:  {'msg': 'same', 'cluster_id': 143, 'poly_fitting': {143: {'errors': 2.6793157232341547, 'coeffs': array([-2.69684866e-11,  1.86114781e-06, -1.13178782e-02,  3.55790250e+03,\n",
      "        0.00000000e+00,  4.07900000e+03,  3.53600000e+03,  3.56200000e+03]), 'area': [0, 4079, 3536, 3562]}}}\n",
      "OrderTraceAlg: idx:  144  status:  {'msg': 'same', 'cluster_id': 144, 'poly_fitting': {144: {'errors': 3.4130962113097683, 'coeffs': array([ 1.43458325e-11,  1.60963575e-06, -1.11004387e-02,  3.57709381e+03,\n",
      "        0.00000000e+00,  4.07900000e+03,  3.55300000e+03,  3.58300000e+03]), 'area': [0, 4079, 3553, 3583]}}}\n",
      "OrderTraceAlg: idx:  145  status:  {'msg': 'same', 'cluster_id': 145, 'poly_fitting': {145: {'errors': 2.931946683670824, 'coeffs': array([-1.09969398e-11,  1.75263194e-06, -1.13334575e-02,  3.59614257e+03,\n",
      "        0.00000000e+00,  4.07900000e+03,  3.57300000e+03,  3.60100000e+03]), 'area': [0, 4079, 3573, 3601]}}}\n",
      "OrderTraceAlg: idx:  146  status:  {'msg': 'same', 'cluster_id': 146, 'poly_fitting': {146: {'errors': 1.6623047010674359, 'coeffs': array([-2.47259522e-11,  1.88512966e-06, -1.16140105e-02,  3.61102074e+03,\n",
      "        0.00000000e+00,  4.07900000e+03,  3.59000000e+03,  3.61300000e+03]), 'area': [0, 4079, 3590, 3613]}}}\n",
      "OrderTraceAlg: idx:  147  status:  {'msg': 'same', 'cluster_id': 147, 'poly_fitting': {147: {'errors': 3.621372580454711, 'coeffs': array([ 2.79643806e-04, -6.95922220e-01,  5.77157206e+02, -1.55865066e+05,\n",
      "        8.05000000e+02,  8.61000000e+02,  3.64200000e+03,  3.65900000e+03]), 'area': [805, 861, 3642, 3659]}}}\n",
      "OrderTraceAlg: idx:  148  status:  {'cluster_id': 148, 'poly_fitting': {}, 'cluster_added': [], 'msg': 'delete'}\n",
      "OrderTraceAlg: idx:  149  status:  {'msg': 'same', 'cluster_id': 149, 'poly_fitting': {149: {'errors': 3.5485037613867485, 'coeffs': array([-5.67920057e-04,  1.22563397e+00, -8.81573391e+02,  2.14992449e+05,\n",
      "        6.94000000e+02,  7.38000000e+02,  3.64500000e+03,  3.66200000e+03]), 'area': [694, 738, 3645, 3662]}}}\n"
     ]
    },
    {
     "name": "stdout",
     "output_type": "stream",
     "text": [
      "OrderTraceAlg: idx:  150  status:  {'cluster_id': 150, 'poly_fitting': {}, 'cluster_added': [], 'msg': 'delete'}\n",
      "OrderTraceAlg: idx:  151  status:  {'cluster_id': 151, 'poly_fitting': {}, 'cluster_added': [], 'msg': 'delete'}\n",
      "OrderTraceAlg: idx:  152  status:  {'cluster_id': 152, 'poly_fitting': {}, 'cluster_added': [], 'msg': 'delete'}\n",
      "OrderTraceAlg: idx:  153  status:  {'cluster_id': 153, 'poly_fitting': {}, 'cluster_added': [], 'msg': 'delete'}\n",
      "OrderTraceAlg: idx:  154  status:  {'msg': 'same', 'cluster_id': 154, 'poly_fitting': {154: {'errors': 2.685406090547926, 'coeffs': array([-4.34247556e-12,  1.82844007e-06, -1.20377803e-02,  3.70896973e+03,\n",
      "        0.00000000e+00,  4.07900000e+03,  3.68500000e+03,  3.71300000e+03]), 'area': [0, 4079, 3685, 3713]}}}\n",
      "OrderTraceAlg: idx:  155  status:  {'msg': 'same', 'cluster_id': 155, 'poly_fitting': {155: {'errors': 3.4025656021322797, 'coeffs': array([-1.58680724e-11,  1.90441116e-06, -1.23049684e-02,  3.72827568e+03,\n",
      "        0.00000000e+00,  4.07900000e+03,  3.70200000e+03,  3.73400000e+03]), 'area': [0, 4079, 3702, 3734]}}}\n",
      "OrderTraceAlg: idx:  156  status:  {'msg': 'same', 'cluster_id': 156, 'poly_fitting': {156: {'errors': 2.9494749728546643, 'coeffs': array([-1.68199589e-12,  1.80717563e-06, -1.21850801e-02,  3.74724784e+03,\n",
      "        0.00000000e+00,  4.07900000e+03,  3.72200000e+03,  3.75200000e+03]), 'area': [0, 4079, 3722, 3752]}}}\n",
      "OrderTraceAlg: idx:  157  status:  {'msg': 'same', 'cluster_id': 157, 'poly_fitting': {157: {'errors': 1.7049094032712828, 'coeffs': array([-5.24303713e-12,  1.87309288e-06, -1.23492862e-02,  3.76208716e+03,\n",
      "        0.00000000e+00,  4.07900000e+03,  3.73900000e+03,  3.76400000e+03]), 'area': [0, 4079, 3739, 3764]}}}\n",
      "OrderTraceAlg: idx:  158  status:  {'cluster_id': 158, 'poly_fitting': {}, 'cluster_added': [], 'msg': 'delete'}\n",
      "OrderTraceAlg: idx:  159  status:  {'cluster_id': 159, 'poly_fitting': {}, 'cluster_added': [], 'msg': 'delete'}\n",
      "OrderTraceAlg: idx:  160  status:  {'cluster_id': 160, 'poly_fitting': {}, 'cluster_added': [], 'msg': 'delete'}\n",
      "OrderTraceAlg: idx:  161  status:  {'cluster_id': 161, 'poly_fitting': {}, 'cluster_added': [], 'msg': 'delete'}\n",
      "OrderTraceAlg: idx:  162  status:  {'cluster_id': 162, 'poly_fitting': {}, 'cluster_added': [], 'msg': 'delete'}\n",
      "OrderTraceAlg: idx:  163  status:  {'cluster_id': 163, 'poly_fitting': {}, 'cluster_added': [], 'msg': 'delete'}\n",
      "OrderTraceAlg: idx:  164  status:  {'cluster_id': 164, 'poly_fitting': {}, 'cluster_added': [], 'msg': 'delete'}\n",
      "OrderTraceAlg: idx:  165  status:  {'cluster_id': 165, 'poly_fitting': {}, 'cluster_added': [], 'msg': 'delete'}\n",
      "OrderTraceAlg: idx:  166  status:  {'cluster_id': 166, 'poly_fitting': {}, 'cluster_added': [], 'msg': 'delete'}\n",
      "OrderTraceAlg: idx:  167  status:  {'cluster_id': 167, 'poly_fitting': {}, 'cluster_added': [], 'msg': 'delete'}\n",
      "OrderTraceAlg: idx:  168  status:  {'cluster_id': 168, 'poly_fitting': {}, 'cluster_added': [], 'msg': 'delete'}\n",
      "OrderTraceAlg: idx:  169  status:  {'cluster_id': 169, 'poly_fitting': {}, 'cluster_added': [], 'msg': 'delete'}\n",
      "OrderTraceAlg: idx:  170  status:  {'msg': 'same', 'cluster_id': 170, 'poly_fitting': {170: {'errors': 2.701750162735253, 'coeffs': array([-1.13745869e-11,  1.98617093e-06, -1.30496585e-02,  3.86317544e+03,\n",
      "        0.00000000e+00,  4.07900000e+03,  3.83700000e+03,  3.86700000e+03]), 'area': [0, 4079, 3837, 3867]}}}\n",
      "OrderTraceAlg: idx:  171  status:  {'msg': 'same', 'cluster_id': 171, 'poly_fitting': {171: {'errors': 3.4358526745482383, 'coeffs': array([-3.55727167e-11,  2.16212641e-06, -1.34922891e-02,  3.88252495e+03,\n",
      "        0.00000000e+00,  4.07900000e+03,  3.85500000e+03,  3.88800000e+03]), 'area': [0, 4079, 3855, 3888]}}}\n",
      "OrderTraceAlg: idx:  172  status:  {'msg': 'same', 'cluster_id': 172, 'poly_fitting': {172: {'errors': 2.9707309748525663, 'coeffs': array([-3.04968958e-11,  2.11919098e-06, -1.34506956e-02,  3.90153746e+03,\n",
      "        0.00000000e+00,  4.07900000e+03,  3.87400000e+03,  3.90600000e+03]), 'area': [0, 4079, 3874, 3906]}}}\n",
      "OrderTraceAlg: idx:  173  status:  {'msg': 'same', 'cluster_id': 173, 'poly_fitting': {173: {'errors': 1.7640423456821792, 'coeffs': array([-1.37764038e-11,  2.04910169e-06, -1.34084184e-02,  3.91633398e+03,\n",
      "        0.00000000e+00,  4.07900000e+03,  3.89100000e+03,  3.91900000e+03]), 'area': [0, 4079, 3891, 3919]}}}\n",
      "OrderTraceAlg: idx:  174  status:  {'cluster_id': 174, 'poly_fitting': {}, 'cluster_added': [], 'msg': 'delete'}\n",
      "OrderTraceAlg: idx:  175  status:  {'cluster_id': 175, 'poly_fitting': {}, 'cluster_added': [], 'msg': 'delete'}\n",
      "OrderTraceAlg: idx:  176  status:  {'cluster_id': 176, 'poly_fitting': {}, 'cluster_added': [], 'msg': 'delete'}\n",
      "OrderTraceAlg: idx:  177  status:  {'msg': 'same', 'cluster_id': 177, 'poly_fitting': {177: {'errors': 3.572944586055417, 'coeffs': array([ 4.29400691e-04, -1.72112432e+00,  2.29930523e+03, -1.01984854e+06,\n",
      "        1.31000000e+03,  1.35900000e+03,  3.94300000e+03,  3.96400000e+03]), 'area': [1310, 1359, 3943, 3964]}}}\n",
      "OrderTraceAlg: idx:  178  status:  {'cluster_id': 178, 'poly_fitting': {}, 'cluster_added': [], 'msg': 'delete'}\n",
      "OrderTraceAlg: idx:  179  status:  {'cluster_id': 179, 'poly_fitting': {}, 'cluster_added': [], 'msg': 'delete'}\n",
      "OrderTraceAlg: idx:  180  status:  {'cluster_id': 180, 'poly_fitting': {}, 'cluster_added': [], 'msg': 'delete'}\n",
      "OrderTraceAlg: idx:  181  status:  {'cluster_id': 181, 'poly_fitting': {}, 'cluster_added': [], 'msg': 'delete'}\n",
      "OrderTraceAlg: idx:  182  status:  {'cluster_id': 182, 'poly_fitting': {}, 'cluster_added': [], 'msg': 'delete'}\n",
      "OrderTraceAlg: idx:  183  status:  {'cluster_id': 183, 'poly_fitting': {}, 'cluster_added': [], 'msg': 'delete'}\n",
      "OrderTraceAlg: idx:  184  status:  {'cluster_id': 184, 'poly_fitting': {}, 'cluster_added': [], 'msg': 'delete'}\n",
      "OrderTraceAlg: idx:  185  status:  {'cluster_id': 185, 'poly_fitting': {}, 'cluster_added': [], 'msg': 'delete'}\n",
      "OrderTraceAlg: idx:  186  status:  {'cluster_id': 186, 'poly_fitting': {}, 'cluster_added': [], 'msg': 'delete'}\n",
      "OrderTraceAlg: idx:  187  status:  {'cluster_id': 187, 'poly_fitting': {}, 'cluster_added': [], 'msg': 'delete'}\n",
      "OrderTraceAlg: idx:  188  status:  {'cluster_id': 188, 'poly_fitting': {}, 'cluster_added': [], 'msg': 'delete'}\n",
      "OrderTraceAlg: idx:  189  status:  {'cluster_id': 189, 'poly_fitting': {}, 'cluster_added': [], 'msg': 'delete'}\n",
      "OrderTraceAlg: idx:  190  status:  {'msg': 'same', 'cluster_id': 190, 'poly_fitting': {190: {'errors': 2.676700528104351, 'coeffs': array([-4.29618435e-11,  2.29064663e-06, -1.42942241e-02,  4.02061676e+03,\n",
      "        0.00000000e+00,  4.07900000e+03,  3.99300000e+03,  4.02500000e+03]), 'area': [0, 4079, 3993, 4025]}}}\n",
      "OrderTraceAlg: idx:  191  status:  {'msg': 'same', 'cluster_id': 191, 'poly_fitting': {191: {'errors': 3.4269627733312604, 'coeffs': array([-2.02072128e-11,  2.14799125e-06, -1.42221064e-02,  4.03979351e+03,\n",
      "        0.00000000e+00,  4.07900000e+03,  4.01000000e+03,  4.04500000e+03]), 'area': [0, 4079, 4010, 4045]}}}\n",
      "OrderTraceAlg: idx:  192  status:  {'msg': 'same', 'cluster_id': 192, 'poly_fitting': {192: {'errors': 2.948947058220976, 'coeffs': array([-3.06669684e-11,  2.20147399e-06, -1.43382594e-02,  4.05889606e+03,\n",
      "        0.00000000e+00,  4.07900000e+03,  4.03000000e+03,  4.06300000e+03]), 'area': [0, 4079, 4030, 4063]}}}\n",
      "OrderTraceAlg: idx:  193  status:  {'msg': 'same', 'cluster_id': 193, 'poly_fitting': {193: {'errors': 1.7617798879240514, 'coeffs': array([-3.90841163e-11,  2.28953828e-06, -1.45230790e-02,  4.07375109e+03,\n",
      "        0.00000000e+00,  4.07900000e+03,  4.04600000e+03,  4.07600000e+03]), 'area': [0, 4079, 4046, 4076]}}}\n",
      "is bw image\n"
     ]
    },
    {
     "name": "stderr",
     "output_type": "stream",
     "text": [
      "/Users/cwang/Documents/KPF/KPF-Pipeline/venv/lib/python3.7/site-packages/ipykernel_launcher.py:22: UserWarning: Matplotlib is currently using agg, which is a non-GUI backend, so cannot show the figure.\n"
     ]
    }
   ],
   "source": [
    "new_x, new_y, new_index, all_status = order_t.advanced_cluster_cleaning_handler(index_r, x, y)\n",
    "\n",
    "imm = order_t.make_2d_data(new_index, new_x, new_y)   # show image  and make fits and info fits \n",
    "plot_img(imm, 0, np.shape(imm)[0]-1, save=png+'advance_clean')"
   ]
  },
  {
   "cell_type": "markdown",
   "metadata": {},
   "source": [
    "### save advanced cleaning result of step 4 to fits and info fits (optional)"
   ]
  },
  {
   "cell_type": "code",
   "execution_count": null,
   "metadata": {},
   "outputs": [],
   "source": [
    "plot_img(make_cluster_fits(new_index, new_x, new_y, nx, ny), 0, ny-1)"
   ]
  },
  {
   "cell_type": "code",
   "execution_count": null,
   "metadata": {},
   "outputs": [],
   "source": [
    "imm_advanced = make_cluster_fits(new_index, new_x, new_y, nx, ny, cluster_after_removal_fits)\n",
    "make_cluster_info_csv(cluster_info_after_removal_csv, nx, ny, new_x, new_y, new_index)\n",
    "\n",
    "#plot_img(imm_advanced, 0, np.shape(imm_advanced)[0]-1, save=png+'advance_clean2')"
   ]
  },
  {
   "cell_type": "markdown",
   "metadata": {},
   "source": [
    "### reload advanced cleaning results from result of step 4 (optional)"
   ]
  },
  {
   "cell_type": "code",
   "execution_count": null,
   "metadata": {},
   "outputs": [],
   "source": [
    "new_imm_after_removal, hdr = fits.getdata(cluster_after_removal_fits, header=True)\n",
    "plot_img(new_imm_after_removal, 0, np.shape(new_imm_after_removal)[0]-1)\n",
    "new_x, new_y, new_index = get_cluster_info_csv(cluster_info_after_removal_csv)"
   ]
  },
  {
   "cell_type": "markdown",
   "metadata": {},
   "source": [
    "## 5. clean_clusters_on_borders() or clean_clusters_on_border() for top and bottom border "
   ]
  },
  {
   "cell_type": "code",
   "execution_count": 22,
   "metadata": {},
   "outputs": [
    {
     "name": "stdout",
     "output_type": "stream",
     "text": [
      "5223515\n",
      "5220816\n",
      "5220816\n",
      "5220816\n",
      "is bw image\n"
     ]
    },
    {
     "name": "stderr",
     "output_type": "stream",
     "text": [
      "/Users/cwang/Documents/KPF/KPF-Pipeline/venv/lib/python3.7/site-packages/ipykernel_launcher.py:22: UserWarning: Matplotlib is currently using agg, which is a non-GUI backend, so cannot show the figure.\n"
     ]
    }
   ],
   "source": [
    "x, y, index_b = order_t.clean_clusters_on_border(new_x, new_y, new_index, 0)\n",
    "print(len(new_index))\n",
    "print(len(index_b))\n",
    "\n",
    "new_x, new_y, new_index = order_t.clean_clusters_on_border(x, y, index_b, ny-1)\n",
    "\n",
    "print(len(index_b))\n",
    "print(len(new_index))\n",
    "imm = order_t.make_2d_data(new_index, new_x, new_y)   # show image  and make fits and info fits \n",
    "plot_img(imm, 0, np.shape(imm)[0]-1, save=png+'clean_border')"
   ]
  },
  {
   "cell_type": "markdown",
   "metadata": {},
   "source": [
    "###  saving result of step 5 to fits and info fits (optional)"
   ]
  },
  {
   "cell_type": "code",
   "execution_count": 23,
   "metadata": {},
   "outputs": [
    {
     "name": "stdout",
     "output_type": "stream",
     "text": [
      "there are 147 clusters in total in fits, ../../modules/order_trace/results/result_img/cluster_clean_border_info_KP.20220518.17215.78_GREEN_CCD.fits\n",
      "is bw image\n"
     ]
    },
    {
     "name": "stderr",
     "output_type": "stream",
     "text": [
      "/Users/cwang/Documents/KPF/KPF-Pipeline/venv/lib/python3.7/site-packages/ipykernel_launcher.py:22: UserWarning: Matplotlib is currently using agg, which is a non-GUI backend, so cannot show the figure.\n"
     ]
    }
   ],
   "source": [
    "cluster_border_fits = output_img_dir +'/cluster_clean_border_info_' + png + '.fits'\n",
    "cluster_info_border_csv = output_dir + '/cluster_clean_border_info_'+ png+'.csv'\n",
    "imm_border = make_cluster_fits(new_index, new_x, new_y, nx, ny, cluster_border_fits)\n",
    "make_cluster_info_csv(cluster_info_border_csv, nx, ny, new_x, new_y, new_index)\n",
    "plot_img(imm_border, 0, ny-1)"
   ]
  },
  {
   "cell_type": "markdown",
   "metadata": {},
   "source": [
    "### reload result of step 5 fits and info fits (optional)"
   ]
  },
  {
   "cell_type": "code",
   "execution_count": null,
   "metadata": {},
   "outputs": [],
   "source": [
    "cluster_border_fits = output_img_dir +'/cluster_clean_border_info_' + png + '.fits'\n",
    "cluster_info_border_csv = output_dir + '/cluster_clean_border_info_'+ png+'.csv'\n",
    "imm_border, hdr = fits.getdata(cluster_border_fits, header=True)\n",
    "plot_img(imm_border, 0, np.shape(imm_border)[0]-1)\n",
    "\n",
    "new_x, new_y, new_index = get_cluster_info_csv(cluster_info_border_csv)"
   ]
  },
  {
   "cell_type": "markdown",
   "metadata": {},
   "source": [
    "## plot order trace of step 5"
   ]
  },
  {
   "cell_type": "code",
   "execution_count": null,
   "metadata": {},
   "outputs": [],
   "source": [
    "# prepare for step 6\n",
    "imm_border = make_2D_data(new_index, new_x, new_y, nx, ny)\n",
    "new_coeffs, errors = order_t.curve_fitting_on_all_clusters(new_index, new_x, new_y)\n",
    "max_index = np.amax(new_index)\n",
    "\n",
    "print(np.shape(new_coeffs))\n",
    "print(max_index)\n",
    "plot_poly_trace(imm_border, max_index, new_coeffs, nx, ny, save=png+'before_merge')"
   ]
  },
  {
   "cell_type": "markdown",
   "metadata": {},
   "source": [
    "## 6. merge_cluster() -  Merging clusters"
   ]
  },
  {
   "cell_type": "code",
   "execution_count": 24,
   "metadata": {
    "scrolled": false
   },
   "outputs": [
    {
     "name": "stdout",
     "output_type": "stream",
     "text": [
      "OrderTraceAlg: merge time:  1\n",
      "OrderTraceAlg: remove:  1  from:  1\n",
      "OrderTraceAlg: merge time:  2\n",
      "OrderTraceAlg: remove:  117  from:  117\n",
      "OrderTraceAlg: merge time:  3\n",
      "OrderTraceAlg: remove:  121  from:  121\n",
      "OrderTraceAlg: merge time:  4\n",
      "OrderTraceAlg: remove:  125  from:  125\n",
      "OrderTraceAlg: merge time:  5\n",
      "OrderTraceAlg: merge:  129 130  from:  129 130\n",
      "OrderTraceAlg: merge time:  6\n",
      "OrderTraceAlg: remove:  129  from:  129\n",
      "OrderTraceAlg: merge time:  7\n",
      "OrderTraceAlg: remove:  137  from:  137\n",
      "OrderTraceAlg: merge time:  8\n",
      "cluster  1  case  0\n",
      "is bw image\n"
     ]
    },
    {
     "name": "stderr",
     "output_type": "stream",
     "text": [
      "/Users/cwang/Documents/KPF/KPF-Pipeline/venv/lib/python3.7/site-packages/ipykernel_launcher.py:59: UserWarning: Matplotlib is currently using agg, which is a non-GUI backend, so cannot show the figure.\n"
     ]
    }
   ],
   "source": [
    "new_x, new_y, new_index = order_t.merge_clusters_and_clean(new_index, new_x, new_y)\n",
    "imm = order_t.make_2d_data(new_index, new_x, new_y)   # show image  and make fits and info fits \n",
    "#plot_img(imm, 0, np.shape(imm)[0]-1, save=png+'merge')\n",
    "max_index = np.amax(new_index)\n",
    "new_coeffs, errors = order_t.curve_fitting_on_all_clusters(new_index, new_x, new_y)\n",
    "plot_poly_trace(imm, max_index, new_coeffs, nx, ny, save=png+'after_merge')"
   ]
  },
  {
   "cell_type": "markdown",
   "metadata": {},
   "source": [
    "### save merge results of step 6 to fits and info fits (optional)"
   ]
  },
  {
   "cell_type": "code",
   "execution_count": null,
   "metadata": {},
   "outputs": [],
   "source": [
    "max_index = np.amax(new_index)\n",
    "new_coeffs, errors = order_t.curve_fitting_on_all_clusters(new_index, new_x, new_y)\n",
    "plot_poly_trace(imm, max_index, new_coeffs, nx, ny, save=png+'after_merge')"
   ]
  },
  {
   "cell_type": "code",
   "execution_count": null,
   "metadata": {},
   "outputs": [],
   "source": [
    "# store after merge fits and fits info\n",
    "imm = make_cluster_fits(new_index, new_x, new_y, nx, ny, cluster_merge_fitting)\n",
    "make_cluster_info_csv(cluster_info_merge_fitting_csv, nx, ny, new_x, new_y, new_index)\n",
    "plot_img(imm, 0, np.shape(imm)[0]-1)"
   ]
  },
  {
   "cell_type": "markdown",
   "metadata": {},
   "source": [
    "### reload merge result of step 6  (optional)"
   ]
  },
  {
   "cell_type": "code",
   "execution_count": null,
   "metadata": {},
   "outputs": [],
   "source": [
    "imm, hdr = fits.getdata(cluster_merge_fitting, header=True)\n",
    "plot_img(imm, 0, np.shape(imm)[0]-1)\n",
    "\n",
    "new_x, new_y, new_index = get_cluster_info_csv(cluster_info_merge_fitting_csv)"
   ]
  },
  {
   "cell_type": "markdown",
   "metadata": {},
   "source": [
    "### plot order trace of result of step 6"
   ]
  },
  {
   "cell_type": "code",
   "execution_count": null,
   "metadata": {
    "scrolled": false
   },
   "outputs": [],
   "source": [
    "new_coeffs, errors = order_t.curve_fitting_on_all_clusters(new_index, new_x, new_y)\n",
    "max_index = np.amax(new_index)    \n",
    "plot_poly_trace(imm, max_index, new_coeffs, nx, ny, save=png+'trace')"
   ]
  },
  {
   "cell_type": "markdown",
   "metadata": {},
   "source": [
    "## 7. find_all_cluster_widths() -- find top and bottom widths of the orders"
   ]
  },
  {
   "cell_type": "code",
   "execution_count": null,
   "metadata": {
    "scrolled": false
   },
   "outputs": [],
   "source": [
    "cluster_widths, cluster_coeffs =  order_t.find_all_cluster_widths(new_index, new_x, new_y, power_for_width_estimation=3)"
   ]
  },
  {
   "cell_type": "code",
   "execution_count": null,
   "metadata": {},
   "outputs": [],
   "source": [
    "max_index = np.amax(new_index) \n",
    "\n",
    "df = order_t.write_cluster_info_to_dataframe(cluster_widths, cluster_coeffs)\n",
    "df.to_csv('/Users/cwang/documents/KPF/KPF-Pipeline/test_results/kpf_04132022/output_trace/'+png+'.csv')\n",
    "origin = [df.attrs['STARTCOL'], df.attrs['STARTROW']]\n",
    "widths = [[w['bottom_edge'], w['top_edge']] for w in cluster_widths]\n",
    "# plot_poly_trace(flat_data, max_index, cluster_coeffs, total_col, total_row, origin=origin, save=png+'width_edge')"
   ]
  },
  {
   "cell_type": "code",
   "execution_count": null,
   "metadata": {
    "scrolled": false
   },
   "outputs": [],
   "source": [
    "new_img = np.zeros((total_row, total_col), dtype='int')\n",
    "if data_range is not None:\n",
    "    new_img[data_range[2]:(data_range[3]+1), data_range[0]:(data_range[1]+1)] = imm[:, :]\n",
    "else:\n",
    "    new_img = imm[:, :]\n",
    "plot_poly_trace(imm_spec, max_index, cluster_coeffs, total_col, total_row, origin=origin, save=png+'width_2')"
   ]
  },
  {
   "cell_type": "markdown",
   "metadata": {},
   "source": [
    "### output to Pandas dataframe and then to csv  "
   ]
  },
  {
   "cell_type": "code",
   "execution_count": null,
   "metadata": {},
   "outputs": [],
   "source": [
    "fits_data = ['assembled_KPF_220316_153200_L0.fits', 'socal_30s_bkgremoved.fits', 'KPF_220316_171800_bkgremoved.fits']\n",
    "result_csv = '/Users/cwang/documents/KPF/KPF-Pipeline/test_results/kpf_new_data/output_trace/assembled_KPF_220316_153200_L0_GREEN_CCD.csv'\n",
    "lev0_fits = '/Users/cwang/documents/KPF/KPF-Pipeline/test_data/kpf/220316/lev0/' + fits_data[1]\n",
    "\n",
    "df = pd.read_csv(result_csv, header=0, index_col=0)\n",
    "order_trace_data = np.array(df)\n",
    "order_coeffs = np.flip(order_trace_data[:, 0:(power+1)], axis=1)\n",
    "order_trace_data[:, 0:(power+1)] = order_coeffs\n",
    "order_trace_data[:, (power+1):(power+3)] = order_trace_data[:, (power+3):(power+5)]\n",
    "\n",
    "fits_header = fits.open(lev0_fits)\n",
    "lev0_data = fits_header[0].data\n"
   ]
  },
  {
   "cell_type": "code",
   "execution_count": null,
   "metadata": {
    "scrolled": false
   },
   "outputs": [],
   "source": [
    "max_index = np.shape(order_trace_data)[0]\n",
    "max_col = np.shape(order_trace_data)[1]\n",
    "print(order_trace_data)\n",
    "import pdb;pdb.set_trace()\n",
    "order_trace_data = np.insert(order_trace_data, 0, np.zeros((1, max_col)), axis=0)\n",
    "print(order_trace_data)\n",
    "total_row, total_col = np.shape(lev0_data)\n",
    "origin = [0, 0]\n",
    "print(total_row, total_col)\n",
    "\n",
    "plot_poly_trace(lev0_data, max_index, order_trace_data, total_col, total_row, origin=origin, save='trace_on_lev0', shift=0)"
   ]
  },
  {
   "cell_type": "code",
   "execution_count": null,
   "metadata": {},
   "outputs": [],
   "source": []
  },
  {
   "cell_type": "code",
   "execution_count": null,
   "metadata": {},
   "outputs": [],
   "source": []
  }
 ],
 "metadata": {
  "kernelspec": {
   "display_name": "Python 3",
   "language": "python",
   "name": "python3"
  },
  "language_info": {
   "codemirror_mode": {
    "name": "ipython",
    "version": 3
   },
   "file_extension": ".py",
   "mimetype": "text/x-python",
   "name": "python",
   "nbconvert_exporter": "python",
   "pygments_lexer": "ipython3",
   "version": "3.7.6"
  }
 },
 "nbformat": 4,
 "nbformat_minor": 2
}
