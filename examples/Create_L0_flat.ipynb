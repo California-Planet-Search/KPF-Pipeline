{
 "cells": [
  {
   "cell_type": "markdown",
   "metadata": {},
   "source": [
    "## Create a frame for the blank level 0, KPF data¶\n",
    "\n",
    "Size estimates from this link: https://exoplanets.atlassian.net/wiki/spaces/shrek/pages/2387738641/KPF+File+Size+Estimates\n"
   ]
  },
  {
   "cell_type": "code",
   "execution_count": 1,
   "metadata": {},
   "outputs": [],
   "source": [
    "import numpy as np\n",
    "import astropy\n",
    "import astropy.io.fits as fits\n",
    "from astropy.table import Table\n",
    "import pandas as pd\n",
    "import matplotlib.pyplot as plt\n",
    "\n",
    "header_input = \"KPF_Header_Keywords_L0_primary_v2.csv\"\n",
    "# Generate Primary header, using .csv generated from this google doc:\n",
    "#     https://docs.google.com/spreadsheets/d/1KSnc97G3-a-KX-oOfFaUmeWDBvDIvkW247lQMb6KEsY/edit#gid=1802788034"
   ]
  },
  {
   "cell_type": "code",
   "execution_count": 2,
   "metadata": {},
   "outputs": [
    {
     "name": "stdout",
     "output_type": "stream",
     "text": [
      "XTENSION=                    1                                                  \n",
      "BSCALE  = '1       '           / nan                                            \n",
      "BZERO   = '32768   '           / nan                                            \n",
      "BUNIT   =                    0 / Image data units                               \n",
      "AMPNAME = 'Amplifier 01'       / Amplifier name                                 \n",
      "AMPNUM  = 'Amplifier 01'       / Amplifier number                               \n",
      "AMPROW  = '0       '           / Amplifier row                                  \n",
      "AMPCOL  = '0       '           / Amplifier column                               \n",
      "AMPSEC  = '[1:1250,1:5000]'    / Amplifier section                              \n",
      "DETSEC  = '[1:1152,1:4616]'    / Detector data section                          \n",
      "DATASEC = '[28:1179,1:4616]'   / Image data section                             \n",
      "BIASSEC1= '[1:27,1:5000]'      / Bias section 1                                 \n",
      "BIASSEC2= '[28:1179,4617:5000]' / Bias section 2                                \n",
      "BIASSEC3= '[1180:1250,1:5000]' / Bias section 3                                 \n",
      "CCDGAIN = '1.656   '           / Amplifier gain (e-/DN)                         \n",
      "CCDRN   = '4.28    '           / Amplifier read noise (e-)                      \n",
      "EXTNAME = 'AMPLIFIER 01'       / Extension name                                 \n",
      "CHECKSUM=                    0 / HDU checksum updated 2020-12-20T03:21:00       \n",
      "DATASUM =                    0 / data unit checksum updated 2020-12-20T03:21:00 \n"
     ]
    }
   ],
   "source": [
    "# Setup dimensions of each green and red amplifier and create an HDU that will be the same 8x (2chips, 4 amps)\n",
    "xdim = 2200\n",
    "ydim = 2200\n",
    "im = np.zeros([ydim,xdim],dtype=np.float32)\n",
    "\n",
    "HDU_names = ['GREEN_AMP1','GREEN_AMP2','GREEN_AMP3','GREEN_AMP4',\n",
    "             'RED_AMP1','RED_AMP2','RED_AMP3','RED_AMP4', \n",
    "             'CA_HK','EXPMETER','GUIDECAM']\n",
    "\n",
    "# Header, read in .csv\n",
    "head_amp = pd.read_csv(header_input,usecols= ['Keyword','Value','Description','Keep','HDU'])\n",
    "head_amp = head_amp[ (head_amp['Keep'] == 'y') & (head_amp['HDU'] == '1')]\n",
    "head_amp = head_amp[['Keyword','Value','Description']]\n",
    "head_amp['Value'].fillna(0,inplace=True)\n",
    "\n",
    "hdr_amp = fits.Header()\n",
    "hdr_amp['XTENSION'] = 1\n",
    "\n",
    "tuple_list_amp=tuple(head_amp.itertuples(index=False, name=None))\n",
    "\n",
    "for tup in tuple_list_amp:\n",
    "#    print(tup)\n",
    "    hdr_amp.append(tup)\n",
    "    \n",
    "hdu1 = fits.ImageHDU(im,header = hdr_amp,name = HDU_names[0]) # 8 of these, four green, \n",
    "hdu2 = fits.ImageHDU(im,header = hdr_amp,name = HDU_names[1]) \n",
    "hdu3 = fits.ImageHDU(im,header = hdr_amp,name = HDU_names[2]) \n",
    "hdu4 = fits.ImageHDU(im,header = hdr_amp,name = HDU_names[3]) \n",
    "\n",
    "hdu5 = fits.ImageHDU(im,header = hdr_amp,name = HDU_names[4]) # 8 of these,  four red\n",
    "hdu6 = fits.ImageHDU(im,header = hdr_amp,name = HDU_names[5]) \n",
    "hdu7 = fits.ImageHDU(im,header = hdr_amp,name = HDU_names[6]) \n",
    "hdu8 = fits.ImageHDU(im,header = hdr_amp,name = HDU_names[7]) \n",
    "\n",
    "hdu9 = fits.ImageHDU(im,name=HDU_names[8]) # CA_HK\n",
    "hdu10 =fits.ImageHDU(im,name=HDU_names[9])\n",
    "hdu11 = fits.ImageHDU(im,name=HDU_names[10])\n",
    "print(repr(hdr_amp))"
   ]
  },
  {
   "cell_type": "code",
   "execution_count": 3,
   "metadata": {},
   "outputs": [],
   "source": [
    "# Header for all of the primary header, read in .csv\n",
    "headP_small = pd.read_csv(header_input,usecols= ['Keyword','Value','Description','Keep','HDU'])\n",
    "headP_small = headP_small[ (headP_small['Keep'] == 'y') & (headP_small['HDU'] == '0')]\n",
    "headP_small=headP_small[['Keyword','Value','Description']]\n",
    "headP_small['Value'].fillna(0,inplace=True)\n",
    "\n",
    "hdr_primary = fits.Header()\n",
    "\n",
    "# Create list of tuples to iterate over and append to header\n",
    "tuple_list=tuple(headP_small.itertuples(index=False, name=None))\n",
    "\n",
    "for tup in tuple_list:\n",
    "#    print(tup)\n",
    "    hdr_primary.append(tup)\n",
    "\n",
    "empty_primary = fits.PrimaryHDU(header=hdr_primary) \n",
    "#print(repr(hdr_primary))"
   ]
  },
  {
   "cell_type": "code",
   "execution_count": 32,
   "metadata": {},
   "outputs": [],
   "source": [
    "# FILE Names for simulated data and owncloud location:  FLAT DATA\n",
    "sim_dir = '/Users/hisaacson/ownCloud/KPF-Pipeline-TestData/KPF-Pipeline-TestData/KPF_Simulated_Data/flat/'\n",
    "\n",
    "sim_flat_grn = 'KPF_rays-1.0E+05_orders-103-138_cal-incandescent_sci-incandescent_sky-incandescent_normalized_154_Green_quad.fits'\n",
    "sim_flat_red = \"KPF_rays-1.0E+05_orders- 71-103_cal-incandescent_sci-incandescent_sky-incandescent_normalized_159_Red_quad.fits\"\n",
    "\n",
    "sim_hk = \"../HK/hk_sim_data.fits\""
   ]
  },
  {
   "cell_type": "code",
   "execution_count": 34,
   "metadata": {},
   "outputs": [
    {
     "name": "stdout",
     "output_type": "stream",
     "text": [
      "Filename: /Users/hisaacson/ownCloud/KPF-Pipeline-TestData/KPF-Pipeline-TestData/KPF_Simulated_Data/flat/KPF_rays-1.0E+05_orders-103-138_cal-incandescent_sci-incandescent_sky-incandescent_normalized_154_Green_quad.fits\n",
      "No.    Name      Ver    Type      Cards   Dimensions   Format\n",
      "  0  PRIMARY       1 PrimaryHDU       7   ()      \n",
      "  1  QUAD1         1 ImageHDU         8   (2200, 2200)   float32   \n",
      "  2  QUAD2         1 ImageHDU         8   (2200, 2200)   float32   \n",
      "  3  QUAD3         1 ImageHDU         8   (2200, 2200)   float32   \n",
      "  4  QUAD4         1 ImageHDU         8   (2200, 2200)   float32   \n",
      "  5  FFI           1 ImageHDU         8   (4080, 4080)   float32   \n"
     ]
    }
   ],
   "source": [
    "# Now insert the simulated data into the GREEN ccd HDUs\n",
    "hdu_sim_grn_flt = fits.open(sim_dir+sim_flat_grn)\n",
    "hdu1.data = hdu_sim_grn_flt['QUAD1'].data \n",
    "hdu2.data = hdu_sim_grn_flt['QUAD2'].data\n",
    "hdu3.data = hdu_sim_grn_flt['QUAD3'].data\n",
    "hdu4.data = hdu_sim_grn_flt['QUAD4'].data\n",
    "#fullframe_grn = hdu_sim_grn['GREEN-CCD'].data # Looks empty\n",
    "\n",
    "hdu_sim_grn_flt.info()\n",
    "\n",
    "#print(repr(hdu1.header))\n",
    "\n",
    "#plt.figure(figsize=(20,10))\n",
    "#plt.imshow(hdu4.data)"
   ]
  },
  {
   "cell_type": "code",
   "execution_count": 35,
   "metadata": {},
   "outputs": [
    {
     "name": "stdout",
     "output_type": "stream",
     "text": [
      "Filename: /Users/hisaacson/ownCloud/KPF-Pipeline-TestData/KPF-Pipeline-TestData/KPF_Simulated_Data/flat/KPF_rays-1.0E+05_orders- 71-103_cal-incandescent_sci-incandescent_sky-incandescent_normalized_159_Red_quad.fits\n",
      "No.    Name      Ver    Type      Cards   Dimensions   Format\n",
      "  0  PRIMARY       1 PrimaryHDU       7   ()      \n",
      "  1  QUAD1         1 ImageHDU         8   (2200, 2200)   float32   \n",
      "  2  QUAD2         1 ImageHDU         8   (2200, 2200)   float32   \n",
      "  3  QUAD3         1 ImageHDU         8   (2200, 2200)   float32   \n",
      "  4  QUAD4         1 ImageHDU         8   (2200, 2200)   float32   \n",
      "  5  FFI           1 ImageHDU         8   (4080, 4080)   float32   \n"
     ]
    }
   ],
   "source": [
    "# Now insert the simulated data into the RED ccd HDUs, file has FFI, but not used in L0 creation.\n",
    "hdu_sim_red_flt = fits.open(sim_dir+sim_flat_red)  \n",
    "\n",
    "hdu5.data = hdu_sim_red_flt['QUAD1'].data# data1_sim\n",
    "hdu6.data = hdu_sim_red_flt['QUAD2'].data\n",
    "hdu7.data = hdu_sim_red_flt['QUAD3'].data\n",
    "hdu8.data = hdu_sim_red_flt['QUAD4'].data\n",
    "\n",
    "hdu_sim_red_flt.info()\n",
    "\n",
    "#plt.figure(figsize=(20,10))\n",
    "#plt.imshow(hdu8.data)"
   ]
  },
  {
   "cell_type": "code",
   "execution_count": 36,
   "metadata": {},
   "outputs": [
    {
     "name": "stdout",
     "output_type": "stream",
     "text": [
      "Filename: /Users/hisaacson/ownCloud/KPF-Pipeline-TestData/KPF-Pipeline-TestData/KPF_Simulated_Data/flat/../HK/hk_sim_data.fits\n",
      "No.    Name      Ver    Type      Cards   Dimensions   Format\n",
      "  0  PRIMARY       1 PrimaryHDU       6   (1024, 255)   int16   \n"
     ]
    }
   ],
   "source": [
    "# Fill the CA_HK HDU:\n",
    "hdu_sim_hk = fits.open(sim_dir+sim_hk) # Currently float32. Should be int16?\n",
    "hdu_sim_hk.info()\n",
    "\n",
    "hdu9.data = hdu_sim_hk['PRIMARY'].data\n",
    "\n",
    "#Get header keywords\n",
    "head_hk = pd.read_csv(header_input,usecols= ['Keyword','Value','Description','Keep','HDU'])\n",
    "head_hk = head_hk[ (head_hk['Keep'] == 'y') & (head_hk['HDU'] == '9')]\n",
    "head_hk =head_hk[['Keyword','Value','Description']]\n",
    "head_hk['Value'].fillna(0,inplace=True)\n",
    "\n",
    "hdr_hk = fits.Header()\n",
    "\n",
    "tuple_list_hk=tuple(head_hk.itertuples(index=False, name=None))\n",
    "\n",
    "for tup in tuple_list_hk:\n",
    "#    print(tup)\n",
    "    hdr_hk.append(tup)\n",
    "\n",
    "#plt.figure(figsize=(20,10))\n",
    "#plt.imshow(hdu_sim_hk[0].data,interpolation = 'none',origin = 'lower', vmin=0, vmax=1100)\n",
    "#print(hdu_sim_hk[0].data.max())\n",
    "#hdu9.info()"
   ]
  },
  {
   "cell_type": "code",
   "execution_count": 37,
   "metadata": {},
   "outputs": [],
   "source": [
    "# Setup HDU10 , exposure meter [HDU-10].\n",
    "\n",
    "dim_exp1 = 1024\n",
    "dim_exp2 = 256\n",
    "dim_exp3 = 600 # 10min, 1s cadence\n",
    "im_expm = np.zeros([dim_exp1,dim_exp2,dim_exp3],dtype=np.int16)\n",
    "\n",
    "hdu_expm = fits.ImageHDU(im_expm,name='EXPMETER') # Currently empty header    \n"
   ]
  },
  {
   "cell_type": "code",
   "execution_count": 38,
   "metadata": {},
   "outputs": [],
   "source": [
    "# GUIDECAM (HDU10)\n",
    "\n",
    "dim_g1 = 640\n",
    "dim_g2 = 512\n",
    "\n",
    "im_guider = np.zeros([dim_g1,dim_g2],dtype = np.int16)\n",
    "hdu_gc = fits.ImageHDU(im_guider,name='GUIDECAM') # currently empty header.\n",
    "\n"
   ]
  },
  {
   "cell_type": "code",
   "execution_count": 39,
   "metadata": {},
   "outputs": [],
   "source": [
    "# Create a BinTableHDU for the SOLAR_IRRADIANCE, HDU12\n",
    "#arr = np.zeros(1000)\n",
    "c1 = fits.Column(name='a', array=np.array([1, 20]), format='K')\n",
    "hdu_solar = fits.BinTableHDU.from_columns([c1],name='SOLAR_IRRADIANCE')\n"
   ]
  },
  {
   "cell_type": "code",
   "execution_count": 44,
   "metadata": {},
   "outputs": [
    {
     "name": "stdout",
     "output_type": "stream",
     "text": [
      "Filename: (No file associated with this HDUList)\n",
      "No.    Name      Ver    Type      Cards   Dimensions   Format\n",
      "  0  PRIMARY       1 PrimaryHDU     112   ()      \n",
      "  1  GREEN_AMP1    1 ImageHDU        23   (2200, 2200)   float32   \n",
      "  2  GREEN_AMP2    1 ImageHDU        23   (2200, 2200)   float32   \n",
      "  3  GREEN_AMP3    1 ImageHDU        23   (2200, 2200)   float32   \n",
      "  4  GREEN_AMP4    1 ImageHDU        23   (2200, 2200)   float32   \n",
      "  5  RED_AMP1      1 ImageHDU        23   (2200, 2200)   float32   \n",
      "  6  RED_AMP2      1 ImageHDU        23   (2200, 2200)   float32   \n",
      "  7  RED_AMP3      1 ImageHDU        23   (2200, 2200)   float32   \n",
      "  8  RED_AMP4      1 ImageHDU        23   (2200, 2200)   float32   \n",
      "  9  CA_HK         1 ImageHDU         8   (1024, 255)   int16   \n",
      " 10  EXPMETER      1 ImageHDU         9   (600, 256, 1024)   int16   \n",
      " 11  GUIDECAM      1 ImageHDU         8   (512, 640)   int16   \n",
      " 12  SOLAR_IRRADIANCE    1 BinTableHDU     11   2R x 1C   ['K']   \n"
     ]
    }
   ],
   "source": [
    "hdul_all = fits.HDUList([empty_primary,hdu1,hdu2,hdu3,hdu4,hdu5,hdu6,hdu7,hdu8, hdu9,hdu_expm,hdu_gc,hdu_solar])\n",
    "hdul_all.info()\n",
    "hdul_all.writeto('L0_sim_flat_w_headers_20211013.fits',overwrite=True)\n"
   ]
  },
  {
   "cell_type": "code",
   "execution_count": 45,
   "metadata": {},
   "outputs": [
    {
     "name": "stdout",
     "output_type": "stream",
     "text": [
      "Filename: L0_sim_flat_w_headers_20211013.fits\n",
      "No.    Name      Ver    Type      Cards   Dimensions   Format\n",
      "  0  PRIMARY       1 PrimaryHDU     112   ()      \n",
      "  1  GREEN_AMP1    1 ImageHDU        23   (2200, 2200)   float32   \n",
      "  2  GREEN_AMP2    1 ImageHDU        23   (2200, 2200)   float32   \n",
      "  3  GREEN_AMP3    1 ImageHDU        23   (2200, 2200)   float32   \n",
      "  4  GREEN_AMP4    1 ImageHDU        23   (2200, 2200)   float32   \n",
      "  5  RED_AMP1      1 ImageHDU        23   (2200, 2200)   float32   \n",
      "  6  RED_AMP2      1 ImageHDU        23   (2200, 2200)   float32   \n",
      "  7  RED_AMP3      1 ImageHDU        23   (2200, 2200)   float32   \n",
      "  8  RED_AMP4      1 ImageHDU        23   (2200, 2200)   float32   \n",
      "  9  CA_HK         1 ImageHDU         8   (1024, 255)   int16   \n",
      " 10  EXPMETER      1 ImageHDU         9   (600, 256, 1024)   int16   \n",
      " 11  GUIDECAM      1 ImageHDU         8   (512, 640)   int16   \n",
      " 12  SOLAR_IRRADIANCE    1 BinTableHDU     11   2R x 1C   [K]   \n"
     ]
    }
   ],
   "source": [
    "# Open and check\n",
    "output = fits.open('L0_sim_flat_w_headers_20211013.fits')\n",
    "output.info()"
   ]
  },
  {
   "cell_type": "code",
   "execution_count": null,
   "metadata": {},
   "outputs": [],
   "source": []
  }
 ],
 "metadata": {
  "kernelspec": {
   "display_name": "Python 3",
   "language": "python",
   "name": "python3"
  },
  "language_info": {
   "codemirror_mode": {
    "name": "ipython",
    "version": 3
   },
   "file_extension": ".py",
   "mimetype": "text/x-python",
   "name": "python",
   "nbconvert_exporter": "python",
   "pygments_lexer": "ipython3",
   "version": "3.8.5"
  }
 },
 "nbformat": 4,
 "nbformat_minor": 4
}
