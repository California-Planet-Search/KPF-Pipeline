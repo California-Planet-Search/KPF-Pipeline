{
 "cells": [
  {
   "cell_type": "markdown",
   "metadata": {},
   "source": [
    "## Create a frame for the blank level 0, KPF data\n",
    "Size estimates from this link: https://exoplanets.atlassian.net/wiki/spaces/shrek/pages/2387738641/KPF+File+Size+Estimates"
   ]
  },
  {
   "cell_type": "code",
   "execution_count": 28,
   "metadata": {},
   "outputs": [],
   "source": [
    "import numpy as np\n",
    "import astropy\n",
    "import astropy.io.fits as fits\n",
    "from astropy.table import Table\n",
    "import pandas as pd\n",
    "import matplotlib.pyplot as plt\n",
    "\n",
    "header_input = \"KPF_Header_Keywords_L0_primary_v2.csv\"\n",
    "# Generate Primary header, using .csv generated from this google doc:\n",
    "#     https://docs.google.com/spreadsheets/d/1KSnc97G3-a-KX-oOfFaUmeWDBvDIvkW247lQMb6KEsY/edit#gid=1802788034"
   ]
  },
  {
   "cell_type": "code",
   "execution_count": 29,
   "metadata": {},
   "outputs": [
    {
     "name": "stdout",
     "output_type": "stream",
     "text": [
      "XTENSION=                    1                                                  \n",
      "BSCALE  = '1       '           / nan                                            \n",
      "BZERO   = '32768   '           / nan                                            \n",
      "BUNIT   =                    0 / Image data units                               \n",
      "AMPNAME = 'Amplifier 01'       / Amplifier name                                 \n",
      "AMPNUM  = 'Amplifier 01'       / Amplifier number                               \n",
      "AMPROW  = '0       '           / Amplifier row                                  \n",
      "AMPCOL  = '0       '           / Amplifier column                               \n",
      "AMPSEC  = '[1:1250,1:5000]'    / Amplifier section                              \n",
      "DETSEC  = '[1:1152,1:4616]'    / Detector data section                          \n",
      "DATASEC = '[28:1179,1:4616]'   / Image data section                             \n",
      "BIASSEC1= '[1:27,1:5000]'      / Bias section 1                                 \n",
      "BIASSEC2= '[28:1179,4617:5000]' / Bias section 2                                \n",
      "BIASSEC3= '[1180:1250,1:5000]' / Bias section 3                                 \n",
      "CCDGAIN = '1.656   '           / Amplifier gain (e-/DN)                         \n",
      "CCDRN   = '4.28    '           / Amplifier read noise (e-)                      \n",
      "EXTNAME = 'AMPLIFIER 01'       / Extension name                                 \n",
      "CHECKSUM=                    0 / HDU checksum updated 2020-12-20T03:21:00       \n",
      "DATASUM =                    0 / data unit checksum updated 2020-12-20T03:21:00 \n"
     ]
    }
   ],
   "source": [
    "# Setup dimensions of each green and red amplifier and create an HDU that will be the same 8x (2chips, 4 amps)\n",
    "xdim = 2200\n",
    "ydim = 2200\n",
    "im = np.zeros([ydim,xdim],dtype=np.float32)\n",
    "\n",
    "HDU_names = ['GREEN_AMP1','GREEN_AMP2','GREEN_AMP3','GREEN_AMP4',\n",
    "             'RED_AMP1','RED_AMP2','RED_AMP3','RED_AMP4', \n",
    "             'CA_HK','EXPMETER','GUIDECAM']\n",
    "\n",
    "# Header, read in .csv\n",
    "head_amp = pd.read_csv(header_input,usecols= ['Keyword','Value','Description','Keep','HDU'])\n",
    "head_amp = head_amp[ (head_amp['Keep'] == 'y') & (head_amp['HDU'] == '1')]\n",
    "head_amp = head_amp[['Keyword','Value','Description']]\n",
    "head_amp['Value'].fillna(0,inplace=True)\n",
    "\n",
    "hdr_amp = fits.Header()\n",
    "hdr_amp['XTENSION'] = 1\n",
    "\n",
    "tuple_list_amp=tuple(head_amp.itertuples(index=False, name=None))\n",
    "\n",
    "for tup in tuple_list_amp:\n",
    "#    print(tup)\n",
    "    hdr_amp.append(tup)\n",
    "    \n",
    "hdu1 = fits.ImageHDU(im,header = hdr_amp,name = HDU_names[0]) # 8 of these, four green, \n",
    "hdu2 = fits.ImageHDU(im,header = hdr_amp,name = HDU_names[1]) \n",
    "hdu3 = fits.ImageHDU(im,header = hdr_amp,name = HDU_names[2]) \n",
    "hdu4 = fits.ImageHDU(im,header = hdr_amp,name = HDU_names[3]) \n",
    "\n",
    "hdu5 = fits.ImageHDU(im,header = hdr_amp,name = HDU_names[4]) # 8 of these,  four red\n",
    "hdu6 = fits.ImageHDU(im,header = hdr_amp,name = HDU_names[5]) \n",
    "hdu7 = fits.ImageHDU(im,header = hdr_amp,name = HDU_names[6]) \n",
    "hdu8 = fits.ImageHDU(im,header = hdr_amp,name = HDU_names[7]) \n",
    "\n",
    "hdu9 = fits.ImageHDU(im,name=HDU_names[8]) # CA_HK\n",
    "hdu10 =fits.ImageHDU(im,name=HDU_names[9])\n",
    "hdu11 = fits.ImageHDU(im,name=HDU_names[10])\n",
    "print(repr(hdr_amp))"
   ]
  },
  {
   "cell_type": "code",
   "execution_count": 30,
   "metadata": {},
   "outputs": [],
   "source": [
    "# Header for all of the primary header, read in .csv\n",
    "headP_small = pd.read_csv(header_input,usecols= ['Keyword','Value','Description','Keep','HDU'])\n",
    "headP_small = headP_small[ (headP_small['Keep'] == 'y') & (headP_small['HDU'] == '0')]\n",
    "headP_small=headP_small[['Keyword','Value','Description']]\n",
    "headP_small['Value'].fillna(0,inplace=True)\n",
    "\n",
    "hdr_primary = fits.Header()\n",
    "\n",
    "# Create list of tuples to iterate over and append to header\n",
    "tuple_list=tuple(headP_small.itertuples(index=False, name=None))\n",
    "\n",
    "for tup in tuple_list:\n",
    "#    print(tup)\n",
    "    hdr_primary.append(tup)\n",
    "\n",
    "empty_primary = fits.PrimaryHDU(header=hdr_primary) \n",
    "#print(repr(hdr_primary))"
   ]
  },
  {
   "cell_type": "code",
   "execution_count": 31,
   "metadata": {},
   "outputs": [],
   "source": [
    "# FILE Names for simulated data and owncloud location:\n",
    "sim_dir = '/Users/hisaacson/ownCloud/KPF-Pipeline-TestData/KPF-Pipeline-TestData/KPF_Simulated_Data/'\n",
    "\n",
    "sim_sci_grn = 'KPF_simulated_L0_science.fits'\n",
    "sim_sci_red = \"science/kpf_red_L0_20210525T000000_quad.fits\"\n",
    "\n",
    "sim_hk = \"HK/hk_sim_data.fits\""
   ]
  },
  {
   "cell_type": "code",
   "execution_count": 32,
   "metadata": {},
   "outputs": [
    {
     "name": "stdout",
     "output_type": "stream",
     "text": [
      "Filename: /Users/hisaacson/ownCloud/KPF-Pipeline-TestData/KPF-Pipeline-TestData/KPF_Simulated_Data/KPF_simulated_L0_science.fits\n",
      "No.    Name      Ver    Type      Cards   Dimensions   Format\n",
      "  0  PRIMARY       1 PrimaryHDU       7   ()      \n",
      "  1  GREEN-AMP1    1 ImageHDU         8   (2200, 2200)   float32   \n",
      "  2  GREEN-AMP2    1 ImageHDU         8   (2200, 2200)   float32   \n",
      "  3  GREEN-AMP3    1 ImageHDU         8   (2200, 2200)   float32   \n",
      "  4  GREEN-AMP4    1 ImageHDU         8   (2200, 2200)   float32   \n",
      "  5  GREEN-CCD     1 ImageHDU         8   (4080, 4080)   float32   \n"
     ]
    }
   ],
   "source": [
    "# Now insert the simulated data into the GREEN ccd HDUs\n",
    "hdu_sim_grn = fits.open(sim_dir+sim_sci_grn)\n",
    "hdu1.data = hdu_sim_grn['GREEN-AMP1'].data\n",
    "hdu2.data = hdu_sim_grn['GREEN-AMP2'].data\n",
    "hdu3.data = hdu_sim_grn['GREEN-AMP3'].data\n",
    "hdu4.data = hdu_sim_grn['GREEN-AMP4'].data\n",
    "#fullframe_grn = hdu_sim_grn['GREEN-CCD'].data # Looks empty\n",
    "\n",
    "hdu_sim_grn.info()\n",
    "\n",
    "#print(repr(hdu1.header))\n",
    "\n",
    "#plt.figure(figsize=(20,10))\n",
    "#plt.imshow(hdu1.data)"
   ]
  },
  {
   "cell_type": "code",
   "execution_count": 33,
   "metadata": {},
   "outputs": [
    {
     "name": "stdout",
     "output_type": "stream",
     "text": [
      "Filename: /Users/hisaacson/ownCloud/KPF-Pipeline-TestData/KPF-Pipeline-TestData/KPF_Simulated_Data/science/kpf_red_L0_20210525T000000_quad.fits\n",
      "No.    Name      Ver    Type      Cards   Dimensions   Format\n",
      "  0  PRIMARY       1 PrimaryHDU       7   ()      \n",
      "  1  QUAD1         1 ImageHDU         8   (2200, 2200)   float32   \n",
      "  2  QUAD2         1 ImageHDU         8   (2200, 2200)   float32   \n",
      "  3  QUAD3         1 ImageHDU         8   (2200, 2200)   float32   \n",
      "  4  QUAD4         1 ImageHDU         8   (2200, 2200)   float32   \n",
      "  5  FFI           1 ImageHDU         8   (4080, 4080)   float32   \n"
     ]
    }
   ],
   "source": [
    "# Now insert the simulated data into the RED ccd HDUs, file has FFI, but not used in L0 creation.\n",
    "hdu_sim_red = fits.open(sim_dir+sim_sci_red)  \n",
    "\n",
    "hdu5.data = hdu_sim_red['QUAD1'].data# data1_sim\n",
    "hdu6.data = hdu_sim_red['QUAD2'].data\n",
    "hdu7.data = hdu_sim_red['QUAD3'].data\n",
    "hdu8.data = hdu_sim_red['QUAD4'].data\n",
    "\n",
    "hdu_sim_red.info()\n",
    "\n",
    "#plt.figure(figsize=(20,10))\n",
    "#plt.imshow(hdu_sim)"
   ]
  },
  {
   "cell_type": "code",
   "execution_count": 34,
   "metadata": {},
   "outputs": [],
   "source": [
    "#plt.figure(figsize=(20,10))\n",
    "#plt.autoscale(enable=True,axis='both')\n",
    "#plt.imshow(data2)\n",
    "#plt.imshow(hdu4.data[:,0:],origin = 'lower',aspect = 'auto',vmin=0,interpolation = 'none')\n"
   ]
  },
  {
   "cell_type": "code",
   "execution_count": 35,
   "metadata": {},
   "outputs": [
    {
     "name": "stdout",
     "output_type": "stream",
     "text": [
      "Filename: /Users/hisaacson/ownCloud/KPF-Pipeline-TestData/KPF-Pipeline-TestData/KPF_Simulated_Data/HK/hk_sim_data.fits\n",
      "No.    Name      Ver    Type      Cards   Dimensions   Format\n",
      "  0  PRIMARY       1 PrimaryHDU       6   (1024, 255)   int16   \n"
     ]
    }
   ],
   "source": [
    "# Fill the CA_HK HDU:\n",
    "hdu_sim_hk = fits.open(sim_dir+sim_hk) # Currently float32. Should be int16?\n",
    "hdu_sim_hk.info()\n",
    "\n",
    "hdu9.data = hdu_sim_hk['PRIMARY'].data\n",
    "\n",
    "#Get header keywords\n",
    "head_hk = pd.read_csv(header_input,usecols= ['Keyword','Value','Description','Keep','HDU'])\n",
    "head_hk = head_hk[ (head_hk['Keep'] == 'y') & (head_hk['HDU'] == '9')]\n",
    "head_hk =head_hk[['Keyword','Value','Description']]\n",
    "head_hk['Value'].fillna(0,inplace=True)\n",
    "\n",
    "hdr_hk = fits.Header()\n",
    "\n",
    "tuple_list_hk=tuple(head_hk.itertuples(index=False, name=None))\n",
    "\n",
    "for tup in tuple_list_hk:\n",
    "#    print(tup)\n",
    "    hdr_hk.append(tup)\n",
    "\n",
    "#plt.figure(figsize=(20,10))\n",
    "#plt.imshow(hdu_sim_hk[0].data,interpolation = 'none',origin = 'lower', vmin=0, vmax=1100)\n",
    "#print(hdu_sim_hk[0].data.max())\n",
    "#hdu9.info()"
   ]
  },
  {
   "cell_type": "code",
   "execution_count": 36,
   "metadata": {},
   "outputs": [],
   "source": [
    "# Setup HDU10 , exposure meter [HDU-10].\n",
    "\n",
    "dim_exp1 = 1024\n",
    "dim_exp2 = 256\n",
    "dim_exp3 = 600 # 10min, 1s cadence\n",
    "im_expm = np.zeros([dim_exp1,dim_exp2,dim_exp3],dtype=np.int16)\n",
    "\n",
    "hdu_expm = fits.ImageHDU(im_expm,name='EXPMETER') # Currently empty header    \n"
   ]
  },
  {
   "cell_type": "code",
   "execution_count": 37,
   "metadata": {},
   "outputs": [],
   "source": [
    "# GUIDECAM (HDU10)\n",
    "\n",
    "dim_g1 = 640\n",
    "dim_g2 = 512\n",
    "\n",
    "im_guider = np.zeros([dim_g1,dim_g2],dtype = np.int16)\n",
    "hdu_gc = fits.ImageHDU(im_guider,name='GUIDECAM') # currently empty header.\n",
    "\n"
   ]
  },
  {
   "cell_type": "code",
   "execution_count": 38,
   "metadata": {},
   "outputs": [],
   "source": [
    "# Create a BinTableHDU for the SOLAR_IRRADIANCE, HDU12\n",
    "#arr = np.zeros(1000)\n",
    "c1 = fits.Column(name='a', array=np.array([1, 20]), format='K')\n",
    "hdu_solar = fits.BinTableHDU.from_columns([c1],name='SOLAR_IRRADIANCE')\n"
   ]
  },
  {
   "cell_type": "code",
   "execution_count": 39,
   "metadata": {},
   "outputs": [
    {
     "name": "stdout",
     "output_type": "stream",
     "text": [
      "Filename: (No file associated with this HDUList)\n",
      "No.    Name      Ver    Type      Cards   Dimensions   Format\n",
      "  0  PRIMARY       1 PrimaryHDU     112   ()      \n",
      "  1  GREEN_AMP1    1 ImageHDU        23   (2200, 2200)   float32   \n",
      "  2  GREEN_AMP2    1 ImageHDU        23   (2200, 2200)   float32   \n",
      "  3  GREEN_AMP3    1 ImageHDU        23   (2200, 2200)   float32   \n",
      "  4  GREEN_AMP4    1 ImageHDU        23   (2200, 2200)   float32   \n",
      "  5  RED_AMP1      1 ImageHDU        23   (2200, 2200)   float32   \n",
      "  6  RED_AMP2      1 ImageHDU        23   (2200, 2200)   float32   \n",
      "  7  RED_AMP3      1 ImageHDU        23   (2200, 2200)   float32   \n",
      "  8  RED_AMP4      1 ImageHDU        23   (2200, 2200)   float32   \n",
      "  9  CA_HK         1 ImageHDU         8   (1024, 255)   int16   \n",
      " 10  EXPMETER      1 ImageHDU         9   (600, 256, 1024)   int16   \n",
      " 11  GUIDECAM      1 ImageHDU         8   (512, 640)   int16   \n",
      " 12  SOLAR_IRRADIANCE    1 BinTableHDU     11   2R x 1C   ['K']   \n"
     ]
    }
   ],
   "source": [
    "hdul_all = fits.HDUList([empty_primary,hdu1,hdu2,hdu3,hdu4,hdu5,hdu6,hdu7,hdu8, hdu9,hdu_expm,hdu_gc,hdu_solar])\n",
    "hdul_all.info()\n",
    "hdul_all.writeto('L0_data_format_w_headers_20211001.fits',overwrite=True)\n",
    "#print(hdual_all[0].head)"
   ]
  },
  {
   "cell_type": "code",
   "execution_count": 40,
   "metadata": {},
   "outputs": [
    {
     "name": "stdout",
     "output_type": "stream",
     "text": [
      "Filename: L0_data_format_w_headers_20211001.fits\n",
      "No.    Name      Ver    Type      Cards   Dimensions   Format\n",
      "  0  PRIMARY       1 PrimaryHDU     112   ()      \n",
      "  1  GREEN_AMP1    1 ImageHDU        23   (2200, 2200)   float32   \n",
      "  2  GREEN_AMP2    1 ImageHDU        23   (2200, 2200)   float32   \n",
      "  3  GREEN_AMP3    1 ImageHDU        23   (2200, 2200)   float32   \n",
      "  4  GREEN_AMP4    1 ImageHDU        23   (2200, 2200)   float32   \n",
      "  5  RED_AMP1      1 ImageHDU        23   (2200, 2200)   float32   \n",
      "  6  RED_AMP2      1 ImageHDU        23   (2200, 2200)   float32   \n",
      "  7  RED_AMP3      1 ImageHDU        23   (2200, 2200)   float32   \n",
      "  8  RED_AMP4      1 ImageHDU        23   (2200, 2200)   float32   \n",
      "  9  CA_HK         1 ImageHDU         8   (1024, 255)   int16   \n",
      " 10  EXPMETER      1 ImageHDU         9   (600, 256, 1024)   int16   \n",
      " 11  GUIDECAM      1 ImageHDU         8   (512, 640)   int16   \n",
      " 12  SOLAR_IRRADIANCE    1 BinTableHDU     11   2R x 1C   [K]   \n"
     ]
    }
   ],
   "source": [
    "# Open and check\n",
    "output = fits.open('L0_data_format_w_headers_20211001.fits')\n",
    "output.info()"
   ]
  },
  {
   "cell_type": "code",
   "execution_count": 41,
   "metadata": {},
   "outputs": [
    {
     "name": "stdout",
     "output_type": "stream",
     "text": [
      "SIMPLE  =                    T / conforms to FITS standard                      \n",
      "BITPIX  =                    8 / array data type                                \n",
      "NAXIS   =                    0 / number of array dimensions                     \n",
      "EXTEND  =                    T                                                  \n",
      "ORIGIN  = 'astropy.fits'''     / File Originator                                \n",
      "INSTRUME= 'KPF     '           / Instrument Name                                \n",
      "DATALVL = '0,1,2   '           / Data Product Base Level                        \n",
      "DATATMP = 'T/F     '           / Data Temporary Intermediate Product            \n",
      "OBSERVER= 'Classical Observer Name or Queue' / Observer Name                    \n",
      "TIMESYS = 'UTC     '           / Time Scale                                     \n",
      "PROGRAM = 'Keck Prog ID'       / Observing Program ID                           \n",
      "PINAME  = 'Keck PI '           / Program PI Name                                \n",
      "OBSTYPE = 'Sci'', ''Eng'',''Cal'',''Tst''' / Observation Type                   \n",
      "OBS-MODE= 'HR/LR   '           / Observing Mode                                 \n",
      "OBJECT  = 'HD10700 '           / Object Name                                    \n",
      "FILENAME= 'KPFL#_YYYYMMDDThhmmss.fits' / Name of this FITS File                 \n",
      "DATE    = '2020-12-20T01:41:48.123''' / File Creation Date (UTC)                \n",
      "DATE-OBS= '2020-12-20T01:41:48.123''' / Obs Date Exp Start (UTC)                \n",
      "OBSJD   = 'ex: 2459203.638461609 ' / Julian Date of DATE-OBS                    \n",
      "EXPTIME =                    0 / Exposure Time (s)                              \n",
      "FIBERAPR=                    0 / Fiber Aperture Diameter on Sky (arcsec)        \n",
      "SHUTOPEN= 'ex:''2020-12-20T01:41:48.123''' / Shutter-Open Date (UTC)            \n",
      "SHUTCLSD= 'ex:''2020-12-20T01:41:48.123''' / Shutter-Close Date (UTC)           \n",
      "SCI-OBJ = 'Sci/LFC/Etalon/Thar' / Object in Science fiber                       \n",
      "CAL-OBJ = 'Sci/LFC/Etalon/Thar' / Object in Calibration Fiber                   \n",
      "SKY-OBJ = 'Sky/Cal '           / Object in Sky Fiber                            \n",
      "QTIME   = '2020-12-20T01:41:48.123''' / Queue Data Time (UTC)                   \n",
      "QOBJECT = 'ex: ''Gaia DR2 2452378776434276992''' / Queue Object Name            \n",
      "QRA     = 'HH:MM:SS.sss'       / Queue Right Ascension                          \n",
      "QDEC    = 'DD:mm:ss.sss'       / Queue Declination                              \n",
      "QEQNX   = '2000    '           / Queue Equinox (yr)                             \n",
      "QEPOCH  = '2000    '           / Queue Epoch (yr)                               \n",
      "QPLX    = '12.34   '           / Queue parallax (mas)                           \n",
      "QPMRA   =                    0 / Queue Proper Motion RA (\"/yr)                  \n",
      "QPMDEC  =                    0 / Queue Proper Motion DEC (\"/yr)                 \n",
      "QPROG   =                    0 / Queue Program Number                           \n",
      "QRV     =                    0 / Queue RV for Star                              \n",
      "QZ      =                    0 / Queue Z for Star                               \n",
      "QID     =                    0 / Queue ID                                       \n",
      "QSNR    =                    0 / Queue Signal-to-Noise Ratio                    \n",
      "QEXPTIME=                    0 / Queue Exposure Time (s)                        \n",
      "OBSERVAT= 'Keck    '           / Observatory Name                               \n",
      "TELESCOP= 'Keck I  '           / Telescope Name                                 \n",
      "OBSLON  =                    0 / Observatory Longitude                          \n",
      "OBSLAT  =                    0 / Observatory Latitude                           \n",
      "OBSALT  =                    0 / Observatory Altitude                           \n",
      "SEEING  =                    0 / Seeing at Exp Start (arcsec)                   \n",
      "AIRMASS =                    0 / TCS-Telescope Airmass at Exp Start             \n",
      "FOCUSPOS=                    0 / Telescope Focus Pos (mm)                       \n",
      "LIGHTS  = 'on/off  '           / Dome Lights                                    \n",
      "TCSTIME = '2020-12-20T03:19:27''' / TCS-Telescope Data Date (UTC)               \n",
      "TGTTIME =                    0 / TCS-Target Data Date (UTC)                     \n",
      "TCSRA   = '\"1:44:7.508\"'       / TCS-Telescope RA J2000                         \n",
      "TCSDEC  = 'ex: ''00:01:12.36''' /  TCS-Telescope DEC J2000                      \n",
      "TCSRAOF = 'ex: ''00:01:12.36''' /  TCS-Telescope RA Offset J2000                \n",
      "TCSDECOF= 'ex: ''00:01:12.36''' / TCS-Telescope DEC Offset J2000                \n",
      "TCSHA   = 'ex: ''00:01:12.36''' / TCS-Telescope Hour Angle (HH:MM:SS)           \n",
      "TCSLST  = '1:49:44 '           / TCS Local Sidereal Time                        \n",
      "TCSZA   =                    0 / TCS Zenith Angle                               \n",
      "TCSEL   =                    0 / TCS-Target Elevation Angle (deg)               \n",
      "TCSAZ   =                    0 / TCS-Target Azimuth Angle (deg)                 \n",
      "TCSEQNX = '2000    '           / TCS-Target Equinox                             \n",
      "TCSEPOCH= '2000    '           / TCS-Target Epoch                               \n",
      "SUNAGL  =                    0 / Sun Angle (deg)                                \n",
      "MOONUP  = 'T/F     '           / Moon Above Horizon                             \n",
      "MOONAGL =                    0 / Target-Moon Angle (deg)                        \n",
      "ENVTIME = '2020-12-20T03:19:27' / TCS-Weather Data Date (UTC)                   \n",
      "ENVDTMP =                    0 / Dome Temperature (C)                           \n",
      "ENVOTMP =                    0 / Outside Temperature (C)                        \n",
      "ENVDHUM =                    0 / Dome Relative Humidity (%)                     \n",
      "ENVOHUM =                    0 / Dome Outside Relative Humidity (%)             \n",
      "ENVWINDS=                    0 / Wind Speed (mph)                               \n",
      "ENVWINDD=                    0 / Wind Direction (angle)                         \n",
      "DEWPOINT=                    0 / Dewpoint Temp (C)                              \n",
      "DOMETIME= '2020-12-20T03:19:27''' / TCS-Dome Data Date (UTC)                    \n",
      "DOMETGT =                    0 / Dome Commanded Azimuth                         \n",
      "DOMEPOS =                    0 / Dome Measured Azimuth                          \n",
      "DOMESTAT= 'open/closed'        / Dome Shutter Status                            \n",
      "HVLC_V1 = '15      '           / ResetDrain_a                                   \n",
      "HVLC_V2 = '15      '           / ResetDrain_b                                   \n",
      "HVLC_V3 = '15      '           / ResetDrain_c                                   \n",
      "HVLC_V4 = '15      '           / ResetDrain_d                                   \n",
      "HVLC_V6 = '20      '           / Scupper Voltage                                \n",
      "HVLC_V11= '20      '           / Dump Drain                                     \n",
      "HVHC_V1 = '8       '           / Reset Gate High                                \n",
      "HVHC_IL1= 'TBC     '           / Reset Gate High Current                        \n",
      "HVHC_V2 = '5       '           / Summing Well High                              \n",
      "HVHC_IL2= 'TBC     '           / Summing Well High Current                      \n",
      "HVHC_V3 = '24      '           / Output Drain a                                 \n",
      "HVHC_IL3= '3.3     '           / Outtput Drain a Current                        \n",
      "HVHC_V4 = '24      '           / Output Drain b                                 \n",
      "HVHC_IL4= '3.3     '           / Outtput Drain b Current                        \n",
      "HVHC_V5 = '24      '           / Output Drain c                                 \n",
      "HVHC_IL5= '3.3     '           / Outtput Drain c Current                        \n",
      "HVHC_V6 = '24      '           / Output Drain d                                 \n",
      "HVHC_IL6= '3.3     '           / Outtput Drain d Current                        \n",
      "LVLC_V12= '1       '           / Output Gate                                    \n",
      "LVHC_V1 = '-0.1    '           / Reset Gate Low                                 \n",
      "LVHC_IL1= 'TBC     '           / Reset Gate Low Current                         \n",
      "LVHC_V2 = '-5      '           / Summing Well Low                               \n",
      "LVHC_IL2= 'TBC     '           / Summing Well Low Current                       \n",
      "P2V5    = '2.5     '           / Backplane Power                                \n",
      "P5V     = '5       '           / Backplane Power                                \n",
      "P6V     = '6       '           / Backplane Power                                \n",
      "N6V     = '-6      '           / Backplane Power                                \n",
      "P17V    = '17      '           / Backplane Power                                \n",
      "N17V    = '-17     '           / Backplane Power                                \n",
      "P35V    = '35      '           / Backplane Power                                \n",
      "N35V    = '0       '           / Backplane Power                                \n",
      "P100V   = '100     '           / Backplane Power                                \n",
      "N100V   = '-100    '           / Backplane Power                                \n",
      "HEATER  = '28      '           / TBC                                            \n"
     ]
    }
   ],
   "source": [
    "head=output[0].header\n",
    "print(repr(head))"
   ]
  },
  {
   "cell_type": "code",
   "execution_count": null,
   "metadata": {},
   "outputs": [],
   "source": []
  },
  {
   "cell_type": "markdown",
   "metadata": {},
   "source": [
    "Check out this directory and simulated data to figure out what goes into the L0 file.\n",
    "    ownCloud/KPF-Pipeline-TestData/KPF-Pipeline-TestData/KPF_Simulated_Data/science/\n",
    "    \n",
    "KPF_rays-1.0E+05_orders- 71-103_cal-lfc_20GHz_sci-solar_Planck_sky-solar_Planck_RV_30000ms_normalized_10018_Red.fits\n",
    "KPF_rays-1.0E+05_orders- 71-103_cal-lfc_20GHz_sci-solar_Planck_sky-solar_Planck_RV_30000ms_normalized_10018_Red_quad.fits\n",
    "KPF_rays-1.0E+05_orders-103-138_cal-lfc_20GHz_sci-solar_Planck_sky-solar_Planck_RV_30000ms_normalized_193_Green.fits\n",
    "KPF_rays-1.0E+05_orders-103-138_cal-lfc_20GHz_sci-solar_Planck_sky-solar_Planck_RV_30000ms_normalized_193_Green_quad.fits\n",
    "kpf_green_L0_20210517T000000.fits\n",
    "kpf_green_wave.fits\n",
    "kpf_red_L0_20210525T000000.fits\n",
    "kpf_red_L0_20210525T000000_quad.fits\n",
    "simulation_information.txt\n",
    "    "
   ]
  },
  {
   "cell_type": "code",
   "execution_count": 42,
   "metadata": {},
   "outputs": [
    {
     "name": "stdout",
     "output_type": "stream",
     "text": [
      "Filename: /Users/hisaacson/ownCloud/KPF-Pipeline-TestData/KPF-Pipeline-TestData/KPF_Simulated_Data/science/KPF_rays-1.0E+05_orders- 71-103_cal-lfc_20GHz_sci-solar_Planck_sky-solar_Planck_RV_30000ms_normalized_10018_Red_quad.fits\n",
      "No.    Name      Ver    Type      Cards   Dimensions   Format\n",
      "  0  PRIMARY       1 PrimaryHDU       7   ()      \n",
      "  1  QUAD1         1 ImageHDU         8   (2200, 2200)   float32   \n",
      "  2  QUAD2         1 ImageHDU         8   (2200, 2200)   float32   \n",
      "  3  QUAD3         1 ImageHDU         8   (2200, 2200)   float32   \n",
      "  4  QUAD4         1 ImageHDU         8   (2200, 2200)   float32   \n",
      "  5  FFI           1 ImageHDU         8   (4080, 4080)   float32   \n"
     ]
    }
   ],
   "source": [
    "#What is this data:\n",
    "f_in = \"science/KPF_rays-1.0E+05_orders- 71-103_cal-lfc_20GHz_sci-solar_Planck_sky-solar_Planck_RV_30000ms_normalized_10018_Red_quad.fits\"\n",
    "#f_in = \"science/kpf_red_L0_20210525T000000_quad.fits\"\n",
    "test_data = fits.open(sim_dir+f_in)\n",
    "test_data.info()"
   ]
  },
  {
   "cell_type": "code",
   "execution_count": null,
   "metadata": {},
   "outputs": [],
   "source": []
  },
  {
   "cell_type": "code",
   "execution_count": null,
   "metadata": {},
   "outputs": [],
   "source": []
  },
  {
   "cell_type": "code",
   "execution_count": 43,
   "metadata": {},
   "outputs": [
    {
     "name": "stdout",
     "output_type": "stream",
     "text": [
      "Filename: /Users/hisaacson/ownCloud/KPF-Pipeline-TestData/KPF-Pipeline-TestData/KPF_Simulated_Data/flat/KPF_rays-1.0E+05_orders-103-138_cal-incandescent_sci-incandescent_sky-incandescent_normalized_154_Green_quad.fits\n",
      "No.    Name      Ver    Type      Cards   Dimensions   Format\n",
      "  0  PRIMARY       1 PrimaryHDU       7   ()      \n",
      "  1  QUAD1         1 ImageHDU         8   (2200, 2200)   float32   \n",
      "  2  QUAD2         1 ImageHDU         8   (2200, 2200)   float32   \n",
      "  3  QUAD3         1 ImageHDU         8   (2200, 2200)   float32   \n",
      "  4  QUAD4         1 ImageHDU         8   (2200, 2200)   float32   \n",
      "  5  FFI           1 ImageHDU         8   (4080, 4080)   float32   \n"
     ]
    }
   ],
   "source": [
    "d=\"/Users/hisaacson/ownCloud/KPF-Pipeline-TestData/KPF-Pipeline-TestData/KPF_Simulated_Data/flat/\"\n",
    "f=\"KPF_rays-1.0E+05_orders-103-138_cal-incandescent_sci-incandescent_sky-incandescent_normalized_154_Green_quad.fits\"\n",
    "dat = fits.open(d+f)\n",
    "dat.info()"
   ]
  },
  {
   "cell_type": "code",
   "execution_count": null,
   "metadata": {},
   "outputs": [],
   "source": [
    "\n"
   ]
  }
 ],
 "metadata": {
  "kernelspec": {
   "display_name": "Python 3",
   "language": "python",
   "name": "python3"
  },
  "language_info": {
   "codemirror_mode": {
    "name": "ipython",
    "version": 3
   },
   "file_extension": ".py",
   "mimetype": "text/x-python",
   "name": "python",
   "nbconvert_exporter": "python",
   "pygments_lexer": "ipython3",
   "version": "3.8.5"
  }
 },
 "nbformat": 4,
 "nbformat_minor": 4
}
