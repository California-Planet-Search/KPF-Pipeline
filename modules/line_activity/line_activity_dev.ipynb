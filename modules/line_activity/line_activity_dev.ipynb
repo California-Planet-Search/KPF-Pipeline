{
 "cells": [
  {
   "cell_type": "markdown",
   "id": "fdedbbe8",
   "metadata": {},
   "source": [
    "### Test notebook to develop line activity module.\n",
    " - Open the NEID file\n",
    " - Identify the data extension and the wavelength extension\n",
    " - Choose the Na D lines and extract and plot them.\n",
    " - Figure out how to enter the line list into the config or some other file that\n"
   ]
  },
  {
   "cell_type": "code",
   "execution_count": 1,
   "id": "feb61f01",
   "metadata": {},
   "outputs": [],
   "source": [
    "# Standard dependencies  (copied from the bias module)\n",
    "import configparser\n",
    "import numpy as np\n",
    "from astropy.io import fits\n",
    "\n",
    "# Pipeline dependencies\n",
    "from kpfpipe.logger import start_logger\n",
    "from kpfpipe.primitives.level0 import KPF0_Primitive\n",
    "# from kpfpipe.models.level0 import KPF0\n",
    "\n",
    "# External dependencies\n",
    "from keckdrpframework.models.action import Action\n",
    "from keckdrpframework.models.arguments import Arguments\n",
    "from keckdrpframework.models.processing_context import ProcessingContext\n"
   ]
  },
  {
   "cell_type": "code",
   "execution_count": 2,
   "id": "f7b394c5",
   "metadata": {},
   "outputs": [],
   "source": [
    "#         #Start logger\n",
    "#         self.logger=None\n",
    "#         if not self.logger:\n",
    "#             self.logger=self.context.logger\n",
    "#         self.logger.info('Loading config from: {}'.format(self.config_path))\n"
   ]
  },
  {
   "cell_type": "code",
   "execution_count": null,
   "id": "496982dc",
   "metadata": {},
   "outputs": [],
   "source": [
    "# Open NEID file:\n",
    "DIR=\"/Users/hisaacson/ownCloud/KPF-Pipeline-TestData/NEIDdata/TAUCETI/L1\"\n",
    "FILE=\"neidL1_20210719T232216.fits\""
   ]
  }
 ],
 "metadata": {
  "kernelspec": {
   "display_name": "Python 3",
   "language": "python",
   "name": "python3"
  },
  "language_info": {
   "codemirror_mode": {
    "name": "ipython",
    "version": 3
   },
   "file_extension": ".py",
   "mimetype": "text/x-python",
   "name": "python",
   "nbconvert_exporter": "python",
   "pygments_lexer": "ipython3",
   "version": "3.6.15"
  }
 },
 "nbformat": 4,
 "nbformat_minor": 5
}
