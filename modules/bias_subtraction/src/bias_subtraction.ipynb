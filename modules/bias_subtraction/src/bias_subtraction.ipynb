{
 "cells": [
  {
   "cell_type": "code",
   "execution_count": 1,
   "metadata": {},
   "outputs": [],
   "source": [
    "#packages\n",
    "from astropy.io import fits\n",
    "from astropy.utils.data import get_pkg_data_filename as get"
   ]
  },
  {
   "cell_type": "code",
   "execution_count": 2,
   "metadata": {},
   "outputs": [],
   "source": [
    "#eventually will look for files \n",
    "#loading in master bias\n",
    "master_bias=\"\"\n",
    "#loading in science/star raw image\n",
    "raw_image=\"\""
   ]
  },
  {
   "cell_type": "code",
   "execution_count": 3,
   "metadata": {},
   "outputs": [],
   "source": [
    "#Subtracting 2D array\n",
    "#function to subtract master bias frame from raw data\n",
    "#assumes both are FITS files of same dimensions\n",
    "def bias_subtraction(rawimage, masterbias):\n",
    "    biasimg=get(masterbias)\n",
    "    biasdata = fits.getdata(biasimg, ext=0)\n",
    "    rawimg=get(rawimage)\n",
    "    rawdata = fits.getdata(rawimg, ext=0)\n",
    "    raw_minus_bias=rawdata-biasdata\n",
    "    return raw_minus_bias"
   ]
  }
 ],
 "metadata": {
  "kernelspec": {
   "display_name": "Python 3",
   "language": "python",
   "name": "python3"
  },
  "language_info": {
   "codemirror_mode": {
    "name": "ipython",
    "version": 3
   },
   "file_extension": ".py",
   "mimetype": "text/x-python",
   "name": "python",
   "nbconvert_exporter": "python",
   "pygments_lexer": "ipython3",
   "version": "3.8.3"
  }
 },
 "nbformat": 4,
 "nbformat_minor": 4
}
