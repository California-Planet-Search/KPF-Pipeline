{
 "cells": [
  {
   "cell_type": "code",
   "execution_count": null,
   "metadata": {},
   "outputs": [],
   "source": [
    "import numpy as np\n",
    "import os, sys\n",
    "import math\n",
    "from scipy import ndimage, misc\n",
    "from astropy.coordinates import Angle\n",
    "from astropy.io import fits\n",
    "import matplotlib.pyplot as plt\n",
    "from scipy import linalg\n",
    "import csv\n",
    "import pickle\n",
    "from matplotlib.colors import LogNorm\n",
    "from matplotlib import colors\n",
    "import configparser\n",
    "import json\n",
    "%matplotlib inline\n",
    "power = 3\n",
    "#power_dir = \"output_neid_order_trace\"\n",
    "power_dir = \"output_paras_order_trace\"\n",
    "#power_dir = \"output_poly3_test\""
   ]
  },
  {
   "cell_type": "code",
   "execution_count": null,
   "metadata": {},
   "outputs": [],
   "source": [
    "from order_trace import OrderTraceAlg\n",
    "TEST_DIR = '/Users/cwang/documents/KPF/KPF-Pipeline/AlgorithmDev/test_data/'"
   ]
  },
  {
   "cell_type": "code",
   "execution_count": null,
   "metadata": {},
   "outputs": [],
   "source": [
    "# input: spectral fits is from dropbox KPF-Pipeline-TestData/order_trace_test\n",
    "spectral_fits=  TEST_DIR + 'order_trace_test/DATA/paras.flatA.fits'\n",
    "\n",
    "# output\n",
    "clusters_collection = TEST_DIR + 'order_trace_test/'+power_dir+'/clusters_all_y_collection.pkl'\n",
    "cluster_xy_fits = TEST_DIR + 'order_trace_test/'+power_dir+'/cluster_xy.fits'\n",
    "cluster_clean_fits = TEST_DIR + 'order_trace_test/'+power_dir+'/cluster_clean.fits'\n",
    "cluster_info_clean_fits = TEST_DIR + 'order_trace_test/'+power_dir+'/cluster_info_clean.fits'\n",
    "cluster_after_removal_fits = TEST_DIR + 'order_trace_test/'+power_dir+'/cluster_after_removal.fits'\n",
    "cluster_info_after_removal_fits = TEST_DIR + 'order_trace_test/'+power_dir+'/cluster_info_after_removal.fits'\n",
    "cluster_border_fits = TEST_DIR + 'order_trace_test/'+power_dir+'/cluster_border.fits'\n",
    "cluster_info_border_fits = TEST_DIR + 'order_trace_test/'+power_dir+'/cluster_info_border.fits'\n",
    "cluster_merge_fitting = TEST_DIR + 'order_trace_test/'+power_dir+'/cluster_merge_fitting.fits'\n",
    "cluster_info_merge_fitting = TEST_DIR + 'order_trace_test/'+power_dir+'/cluster_info_merging_fitting.fits'\n",
    "result_csv = TEST_DIR + 'order_trace_test/'+power_dir+'/result_cluster/result_cluster'\n",
    "result_poly_width_csv =  TEST_DIR + 'order_trace_test/'+power_dir+'/output/paras_result_poly_2sigma_gaussian_pixel_'+str(power)+'.csv'"
   ]
  },
  {
   "cell_type": "code",
   "execution_count": null,
   "metadata": {},
   "outputs": [],
   "source": [
    "# input: spectral fits is from dropbox KPF-Pipeline-TestData/NEIData/FLAT\n",
    "spectral_fits= TEST_DIR + 'order_trace_test/DATA/stacked_2fiber_flat.fits'\n",
    "\n",
    "# output\n",
    "clusters_collection = TEST_DIR + 'order_trace_test/'+power_dir+'/clusters_all_y_collection.pkl'\n",
    "remove_vertical_fits = TEST_DIR + 'order_trace_test/'+power_dir+'/data_remove_vertical.fits'\n",
    "cluster_xy_fits = TEST_DIR + 'order_trace_test/'+power_dir+'/cluster_xy.fits'\n",
    "cluster_clean_fits = TEST_DIR + 'order_trace_test/'+power_dir+'/cluster_clean.fits'\n",
    "cluster_info_clean_fits = TEST_DIR + 'order_trace_test/'+power_dir+'/cluster_info_clean.fits'\n",
    "cluster_after_removal_fits = TEST_DIR + 'order_trace_test/'+power_dir+'/cluster_after_removal.fits'\n",
    "cluster_info_after_removal_fits = TEST_DIR + 'order_trace_test/'+power_dir+'/cluster_info_after_removal.fits'\n",
    "cluster_border_fits = TEST_DIR + 'order_trace_test/'+power_dir+'/cluster_border.fits'\n",
    "cluster_info_border_fits = TEST_DIR + 'order_trace_test/'+power_dir+'/cluster_info_border.fits'\n",
    "cluster_merge_fitting = TEST_DIR + 'order_trace_test/'+power_dir+'/cluster_merge_fitting.fits'\n",
    "cluster_info_merge_fitting = TEST_DIR + 'order_trace_test/'+power_dir+'/cluster_info_merging_fitting.fits'\n",
    "result_csv = TEST_DIR + 'order_trace_test/'+power_dir+'/result_cluster/result_cluster'\n",
    "result_poly_width_csv = TEST_DIR + 'order_trace_test/'+power_dir+'/output/neid_result_poly_2sigma_gaussian_pixel_0221_'+str(power)+'.csv'"
   ]
  },
  {
   "cell_type": "code",
   "execution_count": null,
   "metadata": {},
   "outputs": [],
   "source": [
    "def plot_imshow(img):\n",
    "    if (np.amax(img) == 1) and (np.amin(img) == 0):\n",
    "        print('is bw image')\n",
    "        im = plt.imshow(img * -1, cmap='gray')\n",
    "    else:    \n",
    "        im = plt.imshow(img, cmap='gray', norm=LogNorm())\n",
    "    return im    "
   ]
  },
  {
   "cell_type": "code",
   "execution_count": null,
   "metadata": {},
   "outputs": [],
   "source": [
    "# plot image from fits by setting area xmin, xmax, ymin, ymax\n",
    "def plot_img(img, ymin, ymax, p_w=20, p_h=20, xmin=None, xmax=None, title=\"\", aspect=None):\n",
    "    #if is_bw is True:\n",
    "    #    img = convert_to_bw(img)\n",
    "    plt.figure(figsize=(p_w, p_h), frameon=False)\n",
    "    plt.subplot(1, 1, 1)\n",
    "    if xmin is None:\n",
    "        xmin = 0\n",
    "    if xmax is None:\n",
    "        h, w = np.shape(img)\n",
    "        xmax = w-1\n",
    "    s_img = img[:, :]\n",
    "    im = plot_imshow(s_img)\n",
    "\n",
    "    #im = plt.imshow(s_img, cmap='gray')\n",
    "    plt.ylim(ymin, ymax)\n",
    "    plt.xlim(xmin, xmax)\n",
    "    plt.title(title)\n",
    "    if aspect is not None:\n",
    "        plt.axes().set_aspect(aspect)\n",
    "    plt.show()"
   ]
  },
  {
   "cell_type": "code",
   "execution_count": null,
   "metadata": {},
   "outputs": [],
   "source": [
    "def make_fits(data, output_fits):\n",
    "    hdu = fits.PrimaryHDU(data)\n",
    "    hdu.writeto(output_fits, overwrite=True)"
   ]
  },
  {
   "cell_type": "code",
   "execution_count": null,
   "metadata": {},
   "outputs": [],
   "source": [
    "# make image data in 2D based on selected clusters\n",
    "def make_2D_data(index, x, y, nx, ny, selected_clusters=None):\n",
    "    imm = np.zeros((ny, nx), dtype=np.uint8)\n",
    "    if selected_clusters is None:\n",
    "        ymin = 0\n",
    "        ymax = ny-1\n",
    "    else:\n",
    "        sel = np.where(np.isin(index, selected_clusters))[0]\n",
    "        ymin = np.amin(y[sel])\n",
    "        ymax = np.amax(y[sel])\n",
    "                       \n",
    "    for cy in range(ny):\n",
    "        if cy < ymin: \n",
    "            continue\n",
    "        elif cy > ymax:\n",
    "            break;\n",
    "        #print(cy,' ', end='')    \n",
    "        y_cond = np.where(y==cy)[0]\n",
    "        if selected_clusters is None:\n",
    "            nz_idx_at_cy = y_cond[np.where(index[y_cond] != 0)[0]]\n",
    "        else:\n",
    "            nz_idx_at_cy = y_cond[np.where(np.isin(index[y_cond], selected_clusters))[0]]\n",
    "        imm[cy, x[nz_idx_at_cy]] = 1\n",
    "    print()    \n",
    "\n",
    "    return imm"
   ]
  },
  {
   "cell_type": "code",
   "execution_count": null,
   "metadata": {},
   "outputs": [],
   "source": [
    "# make fits on 2D of all clusters\n",
    "def make_cluster_fits(index, x, y, nx, ny, fits_path=None):\n",
    "    imm = make_2D_data(index, x, y,  nx, ny)\n",
    "    if fits_path is not None:\n",
    "        make_fits(imm, fits_path)\n",
    "    ind_max = np.amax(index)\n",
    "    print('there are '+str(ind_max)+' clusters in total in fits, '+fits_path)\n",
    "    return imm"
   ]
  },
  {
   "cell_type": "code",
   "execution_count": null,
   "metadata": {},
   "outputs": [],
   "source": [
    "# make fits on cluster info (index, x, y)\n",
    "def make_cluster_info_fits(index, x, y, cluster_info_filepath):\n",
    "    cluster_data = np.zeros((3, index.size))\n",
    "    cluster_data[0, :] = index\n",
    "    cluster_data[1, :] = x\n",
    "    cluster_data[2, :] = y\n",
    "    make_fits(cluster_data, cluster_info_filepath)"
   ]
  },
  {
   "cell_type": "code",
   "execution_count": null,
   "metadata": {},
   "outputs": [],
   "source": [
    "# plot polynomial fitting curve on top of given 2D image\n",
    "# the cluster orders is settable by order_set\n",
    "def plot_poly_trace(imm, total_order, coeffs_orders, max_x, max_y, size=20, order_set=None, \\\n",
    "                    title=None, background=False, widths=None, aspect=None, xmin=None, xmax=None, ymin=None, ymax=None):\n",
    "    plt.figure(figsize=(size,size))\n",
    "    plt.subplot(1, 1, 1)\n",
    "    im = plot_imshow(imm)\n",
    "    #im = plt.imshow(imm, cmap='gray', norm=LogNorm())\n",
    "    \n",
    "    if order_set is None:\n",
    "        orders = list(range(1, total_order+1))\n",
    "    else:\n",
    "        orders = order_set\n",
    "        \n",
    "    x_dist = max_x//20    \n",
    "                   \n",
    "    for o_idx, order in enumerate(orders):\n",
    "        if (background is not False):\n",
    "            x_val = np.arange(0, max_x)\n",
    "            # y value on x range\n",
    "            y_val = np.polyval(coeffs_orders[order, 0:power+1], x_val)\n",
    "            plt.plot(x_val, y_val, 'b--')\n",
    "        #print(\"x range: \", coeffs_orders[order, power+1], coeffs_orders[order, power+2])    \n",
    "        # x range\n",
    "        x_val = np.arange(coeffs_orders[order, power+1], coeffs_orders[order, power+2]+1)\n",
    "        # y value on x range\n",
    "        y_val = np.polyval(coeffs_orders[order, 0:power+1], x_val)\n",
    "        plt.plot(x_val, y_val, 'r--')\n",
    "        \n",
    "        if widths is not None:\n",
    "            y_val_bottom = y_val-widths[o_idx][0]\n",
    "            plt.plot(x_val, y_val_bottom, 'g--')\n",
    "            y_val_top = y_val+widths[o_idx][1]\n",
    "            plt.plot(x_val, y_val_top, 'g--')\n",
    "        \n",
    "        # show number of cluster\n",
    "        s = ((order%15)+1)*x_dist\n",
    "        if s >= x_val.size:\n",
    "            dem = int((coeffs_orders[order, power+2] - coeffs_orders[order, power+1])//5)\n",
    "            s = dem*((order%4)+1)\n",
    "            #s = x_val.size//2\n",
    "        plt.text(x_val[s], y_val[s], str(order), fontsize=12, color='b', fontweight='bold', horizontalalignment='center', verticalalignment='center')\n",
    "        \n",
    "    if title is not None:\n",
    "        plt.title(title, fontsize=12)\n",
    "    x1 = 0 if xmin is None else xmin\n",
    "    x2 = max_x if xmax is None else xmax\n",
    "    y1 = 0 if ymin is None else ymin\n",
    "    y2 = max_y if ymax is None else ymax\n",
    "    \n",
    "    plt.ylim(y1, y2)\n",
    "    plt.xlim(x1, x2)\n",
    "    if aspect is not None:\n",
    "        plt.axes().set_aspect(aspect)\n",
    "    \n",
    "    plt.show()\n",
    "    #plt.colorbar(im, fraction=0.046, pad=0.04)"
   ]
  },
  {
   "cell_type": "code",
   "execution_count": null,
   "metadata": {},
   "outputs": [],
   "source": [
    "def to_str(afloat):\n",
    "    new_str = f\"{afloat:.4f}\"\n",
    "    return new_str"
   ]
  },
  {
   "cell_type": "code",
   "execution_count": null,
   "metadata": {},
   "outputs": [],
   "source": [
    "# json save and load\n",
    "def save_obj(obj, filename):\n",
    "    with open(filename, 'wb') as f:\n",
    "        pickle.dump(obj, f, pickle.HIGHEST_PROTOCOL)\n",
    "\n",
    "def load_obj(filename):\n",
    "    with open(filename, 'rb') as f:\n",
    "        return pickle.load(f)"
   ]
  },
  {
   "cell_type": "markdown",
   "metadata": {},
   "source": [
    "## Usage: Using OrderTarce to extract order trace from the given spectral fits (for NEID)"
   ]
  },
  {
   "cell_type": "code",
   "execution_count": null,
   "metadata": {
    "scrolled": false
   },
   "outputs": [],
   "source": [
    "order_t = OrderTrace(spectral_fits)\n",
    "spe_info = order_t.load_spectral()\n",
    "ny = spe_info['ny']\n",
    "v_reset = [[434, 451], [1930, 1945]]\n",
    "r_reset = [[0, 1000], [ny-1000, ny]]\n",
    "cluster_info = order_t.extract_order_trace(power, cols_to_reset=v_reset, rows_to_reset=r_reset, power_for_width = 2, show_time=True)\n",
    "result_poly_width_csv  = TEST_DIR + 'order_trace_test/'+power_dir+'/output/neid_poly_3sigma_gaussian_pixel_'+str(power)+'_width_2.1.csv'\n",
    "#result_poly_width_csv = ' TEST_DIR + 'order_trace_test/'+power_dir+'/result_poly_2sigma_gaussian_peak_'+str(power)+'.csv'\n",
    "order_t.write_cluster_info_to_csv(cluster_info['widths'], cluster_info['coeffs'], power, result_poly_width_csv)"
   ]
  },
  {
   "cell_type": "markdown",
   "metadata": {},
   "source": [
    "## Usage: Using OrderTarce to extract order trace from the given spectral fits (for NEID)"
   ]
  },
  {
   "cell_type": "code",
   "execution_count": null,
   "metadata": {
    "scrolled": false
   },
   "outputs": [],
   "source": [
    "order_t = OrderTrace(spectral_fits)\n",
    "spe_info = order_t.load_spectral()\n",
    "ny = spe_info['ny']\n",
    "cluster_info = order_t.extract_order_trace(power, power_for_width = 3, show_time=True)\n",
    "result_poly_width_csv = TEST_DIR + 'order_trace_test/'+power_dir+'/output/paras_result_poly_3sigma_gaussian_pixel_'+str(power)+'_width_3.csv'\n",
    "order_t.write_cluster_info_to_csv(cluster_info['widths'], cluster_info['coeffs'], power, result_poly_width_csv)"
   ]
  },
  {
   "cell_type": "markdown",
   "metadata": {},
   "source": [
    "## Extracting order trace step by step\n",
    "### excute the cells from step 1 to step 10 and get visual output for each step"
   ]
  },
  {
   "cell_type": "markdown",
   "metadata": {},
   "source": [
    "## 1. load spectral file"
   ]
  },
  {
   "cell_type": "code",
   "execution_count": null,
   "metadata": {
    "scrolled": false
   },
   "outputs": [],
   "source": [
    "fits_header = fits.open(spectral_fits)\n",
    "config = configparser.ConfigParser()\n",
    "config.read('order_trace/PARAS.cfg')\n",
    "#config.read('order_trace/NEID.cfg')\n",
    "order_t = OrderTraceAlg(fits_header[0], config['PARAM'] )\n",
    "imm_spec, nx, ny = order_t.get_spectral_data()\n",
    "spe_info = {'data': imm_spec, 'nx': nx, 'ny': ny}\n",
    "print('row: ', spe_info['ny'], ' column: ', spe_info['nx'])\n",
    "plot_img(imm_spec, 0, ny-1)\n",
    "power = order_t.get_poly_degree()\n",
    "print('power: ', power)\n",
    "#plot_img(imm_spec, 2000, 2100, xmin=4500, xmax=4600)"
   ]
  },
  {
   "cell_type": "markdown",
   "metadata": {},
   "source": [
    "## 2. find cluster pixels  and make fits"
   ]
  },
  {
   "cell_type": "code",
   "execution_count": null,
   "metadata": {
    "scrolled": false
   },
   "outputs": [],
   "source": [
    "r_v = True if 'stacked_2fiber_flat' in spectral_fits else False\n",
    "\n",
    "v_reset = [[434, 451], [1930, 1945]]\n",
    "r_reset = [[0, 900], [ny-900, ny]]\n",
    "\n",
    "cluster_xy = order_t.locate_clusters()\n",
    "\n",
    "#order_t.make_fits(cluster_xy['im_map'], cluster_xy_fits)\n",
    "yy = np.shape(cluster_xy['cluster_image'])[0]\n",
    "plot_img(cluster_xy['cluster_image'], 0, yy-1)"
   ]
  },
  {
   "cell_type": "markdown",
   "metadata": {},
   "source": [
    "## 3. form clusters, basic cleanning (based on size and total pixel), make fits"
   ]
  },
  {
   "cell_type": "code",
   "execution_count": null,
   "metadata": {
    "scrolled": false
   },
   "outputs": [],
   "source": [
    "#cluster_info, dict\n",
    "cluster_info = order_t.collect_clusters(cluster_xy['x'], cluster_xy['y'])"
   ]
  },
  {
   "cell_type": "code",
   "execution_count": null,
   "metadata": {},
   "outputs": [],
   "source": [
    "clusters_collection =  TEST_DIR + 'order_trace_test/'+power_dir+'/clusters_all_y_collection.pkl'\n",
    "save_obj(cluster_info, clusters_collection)   # optional, save cluster info into .pkl file"
   ]
  },
  {
   "cell_type": "code",
   "execution_count": null,
   "metadata": {},
   "outputs": [],
   "source": [
    "# (optional) load cluster collection \n",
    "cluster_info = load_obj(clusters_collection)   # optional, load cluster info from .pkl file"
   ]
  },
  {
   "cell_type": "code",
   "execution_count": null,
   "metadata": {
    "scrolled": false
   },
   "outputs": [],
   "source": [
    "# assign index value to cluster_info['index'], where cluster_info['index'] is the same size as cluster_xy['x']\n",
    "cluster_info = order_t.remove_cluster_by_size(cluster_info, cluster_xy['x'], cluster_xy['y'])"
   ]
  },
  {
   "cell_type": "code",
   "execution_count": null,
   "metadata": {},
   "outputs": [],
   "source": [
    "# remove unassigned index\n",
    "x, y, index_t = order_t.reorganize_index(cluster_info['index'], cluster_xy['x'], cluster_xy['y'])\n",
    "nx = spe_info['nx']\n",
    "ny = spe_info['ny']\n",
    "imm = order_t.make_2d_data(index_t, x, y)   # show image  and make fits and info fits \n",
    "plot_img(imm, 0, np.shape(imm)[0]-1)"
   ]
  },
  {
   "cell_type": "markdown",
   "metadata": {},
   "source": [
    "## save data from the result of 3."
   ]
  },
  {
   "cell_type": "code",
   "execution_count": null,
   "metadata": {},
   "outputs": [],
   "source": [
    "imm=make_cluster_fits(index_t, x, y, nx, ny, cluster_clean_fits)\n",
    "make_cluster_info_fits(index_t, x, y, cluster_info_clean_fits)"
   ]
  },
  {
   "cell_type": "markdown",
   "metadata": {},
   "source": [
    "## reload clean fits and info fits of step 3. (optional)"
   ]
  },
  {
   "cell_type": "code",
   "execution_count": null,
   "metadata": {},
   "outputs": [],
   "source": [
    "# (optional) reload saved fits \n",
    "imm, hdr = fits.getdata(cluster_clean_fits, header=True)\n",
    "ny, nx = np.shape(imm)\n",
    "cluster_info, c_hdr = fits.getdata(cluster_info_clean_fits, header=True)\n",
    "index_t = cluster_info[0].astype(int)\n",
    "x = cluster_info[1].astype(int)\n",
    "y = cluster_info[2].astype(int)\n",
    "\n",
    "plot_img(imm, 0, np.shape(imm)[0]-1)\n",
    "ind_max = np.amax(index_t)"
   ]
  },
  {
   "cell_type": "code",
   "execution_count": null,
   "metadata": {},
   "outputs": [],
   "source": []
  }
 ],
 "metadata": {
  "kernelspec": {
   "display_name": "Python 3",
   "language": "python",
   "name": "python3"
  },
  "language_info": {
   "codemirror_mode": {
    "name": "ipython",
    "version": 3
   },
   "file_extension": ".py",
   "mimetype": "text/x-python",
   "name": "python",
   "nbconvert_exporter": "python",
   "pygments_lexer": "ipython3",
   "version": "3.7.6"
  }
 },
 "nbformat": 4,
 "nbformat_minor": 2
}
