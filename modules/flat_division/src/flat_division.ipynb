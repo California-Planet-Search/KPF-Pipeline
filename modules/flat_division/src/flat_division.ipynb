{
 "cells": [
  {
   "cell_type": "code",
   "execution_count": 1,
   "metadata": {},
   "outputs": [],
   "source": [
    "#importing packages\n",
    "from astropy.io import fits\n",
    "from astropy.utils.data import get_pkg_data_filename as get"
   ]
  },
  {
   "cell_type": "code",
   "execution_count": 2,
   "metadata": {},
   "outputs": [],
   "source": [
    "#loading in temporary master flat\n",
    "master_flat=\"\"\n",
    "#loading in science/star raw image \n",
    "raw_image=\"\""
   ]
  },
  {
   "cell_type": "code",
   "execution_count": 3,
   "metadata": {},
   "outputs": [],
   "source": [
    "def flat_division(rawimage, masterflat):\n",
    "    flatimg=get(masterflat)\n",
    "    flatdata = fits.getdata(flatimg, ext=0)\n",
    "    rawimg=get(rawimage)\n",
    "    rawdata = fits.getdata(rawimg, ext=0)\n",
    "    raw_div_flat=rawdata/flatdata\n",
    "    return raw_div_flat"
   ]
  }
 ],
 "metadata": {
  "kernelspec": {
   "display_name": "Python 3",
   "language": "python",
   "name": "python3"
  },
  "language_info": {
   "codemirror_mode": {
    "name": "ipython",
    "version": 3
   },
   "file_extension": ".py",
   "mimetype": "text/x-python",
   "name": "python",
   "nbconvert_exporter": "python",
   "pygments_lexer": "ipython3",
   "version": "3.8.3"
  }
 },
 "nbformat": 4,
 "nbformat_minor": 4
}
