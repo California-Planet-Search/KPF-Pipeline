{
 "cells": [
  {
   "cell_type": "code",
   "execution_count": 21,
   "metadata": {},
   "outputs": [],
   "source": [
    "from astropy.io import fits\n",
    "import matplotlib.pyplot as plt\n",
    "import glob\n",
    "from kpfpipe.models.level0 import KPF0\n",
    "%matplotlib inline"
   ]
  },
  {
   "cell_type": "code",
   "execution_count": 53,
   "metadata": {},
   "outputs": [
    {
     "name": "stdout",
     "output_type": "stream",
     "text": [
      "Filename: /Users/paminabby/Desktop/0503/post_green/KP.20220503.00180.16_2D.fits\n",
      "No.    Name      Ver    Type      Cards   Dimensions   Format\n",
      "  0  PRIMARY       1 PrimaryHDU     113   ()      \n",
      "  1  RECEIPT       1 BinTableHDU     29   2R x 10C   [26A, 6A, 12A, 40A, 3A, 9A, 1A, 21A, 40A, 4A]   \n",
      "  2  CONFIG        1 BinTableHDU     13   0R x 2C   [D, D]   \n",
      "  3  GREEN_AMP1    1 ImageHDU        23   (2144, 2140)   int32   \n",
      "  4  GREEN_AMP2    1 ImageHDU        23   (2144, 2140)   int32   \n",
      "  5  GREEN_AMP3    1 ImageHDU        23   (2144, 2140)   int32   \n",
      "  6  GREEN_AMP4    1 ImageHDU        23   (2144, 2140)   int32   \n",
      "  7  GREEN_CCD     1 ImageHDU         9   (4080, 4080)   float64   \n",
      "  8  GREEN_VAR     1 ImageHDU         8   (0,)      \n",
      "  9  RED_AMP1      1 ImageHDU        23   (2144, 4180)   int32   \n",
      " 10  RED_AMP2      1 ImageHDU        23   (2144, 4180)   int32   \n",
      " 11  RED_AMP3      1 ImageHDU        22   (0,)      \n",
      " 12  RED_AMP4      1 ImageHDU        22   (0,)      \n",
      " 13  RED_CCD       1 ImageHDU         8   (4080, 4080)   float64   \n",
      " 14  RED_VAR       1 ImageHDU         7   (0,)      \n",
      " 15  CA_HK         1 ImageHDU        23   (0,)      \n",
      " 16  EXPMETER      1 ImageHDU         7   (0,)      \n",
      " 17  GUIDECAM      1 ImageHDU         7   (0,)      \n",
      " 18  SOLAR_IRRADIANCE    1 BinTableHDU      9   0R x 0C   []   \n"
     ]
    }
   ],
   "source": [
    "fits.open('/Users/paminabby/Desktop/0503/post_green/KP.20220503.00180.16_2D.fits').info()"
   ]
  },
  {
   "cell_type": "code",
   "execution_count": null,
   "metadata": {},
   "outputs": [],
   "source": []
  },
  {
   "cell_type": "code",
   "execution_count": 51,
   "metadata": {},
   "outputs": [],
   "source": [
    "direct = '/Users/paminabby/Desktop/0503/*.fits'\n",
    "directglob = glob.glob(direct)"
   ]
  },
  {
   "cell_type": "code",
   "execution_count": 52,
   "metadata": {
    "scrolled": false
   },
   "outputs": [
    {
     "name": "stdout",
     "output_type": "stream",
     "text": [
      "/Users/paminabby/Desktop/0503/KP.20220503.01083.55.fits\n",
      "Filename: /Users/paminabby/Desktop/0503/KP.20220503.01083.55.fits\n",
      "No.    Name      Ver    Type      Cards   Dimensions   Format\n",
      "  0  PRIMARY       1 PrimaryHDU     134   ()      \n",
      "  1  Green_ext1    1 ImageHDU        10   (2144, 2140)   int32   \n",
      "  2  Green_ext2    1 ImageHDU        10   (2144, 2140)   int32   \n",
      "  3  Green_ext3    1 ImageHDU        10   (2144, 2140)   int32   \n",
      "  4  Green_ext4    1 ImageHDU        10   (2144, 2140)   int32   \n",
      "  5  Red_ext1      1 ImageHDU        10   (2144, 4180)   int32   \n",
      "  6  Red_ext2      1 ImageHDU        10   (2144, 4180)   int32   \n",
      "/Users/paminabby/Desktop/0503/KP.20220503.00180.16.fits\n",
      "Filename: /Users/paminabby/Desktop/0503/KP.20220503.00180.16.fits\n",
      "No.    Name      Ver    Type      Cards   Dimensions   Format\n",
      "  0  PRIMARY       1 PrimaryHDU     134   ()      \n",
      "  1  Green_ext1    1 ImageHDU        10   (2144, 2140)   int32   \n",
      "  2  Green_ext2    1 ImageHDU        10   (2144, 2140)   int32   \n",
      "  3  Green_ext3    1 ImageHDU        10   (2144, 2140)   int32   \n",
      "  4  Green_ext4    1 ImageHDU        10   (2144, 2140)   int32   \n",
      "  5  Red_ext1      1 ImageHDU        10   (2144, 4180)   int32   \n",
      "  6  Red_ext2      1 ImageHDU        10   (2144, 4180)   int32   \n",
      "/Users/paminabby/Desktop/0503/KP.20220503.00447.62.fits\n",
      "Filename: /Users/paminabby/Desktop/0503/KP.20220503.00447.62.fits\n",
      "No.    Name      Ver    Type      Cards   Dimensions   Format\n",
      "  0  PRIMARY       1 PrimaryHDU     134   ()      \n",
      "  1  Green_ext1    1 ImageHDU        10   (2144, 2140)   int32   \n",
      "  2  Green_ext2    1 ImageHDU        10   (2144, 2140)   int32   \n",
      "  3  Green_ext3    1 ImageHDU        10   (2144, 2140)   int32   \n",
      "  4  Green_ext4    1 ImageHDU        10   (2144, 2140)   int32   \n",
      "  5  Red_ext1      1 ImageHDU        10   (2144, 4180)   int32   \n",
      "  6  Red_ext2      1 ImageHDU        10   (2144, 4180)   int32   \n",
      "/Users/paminabby/Desktop/0503/KP.20220503.00819.13.fits\n",
      "Filename: /Users/paminabby/Desktop/0503/KP.20220503.00819.13.fits\n",
      "No.    Name      Ver    Type      Cards   Dimensions   Format\n",
      "  0  PRIMARY       1 PrimaryHDU     134   ()      \n",
      "  1  Green_ext1    1 ImageHDU        10   (2144, 2140)   int32   \n",
      "  2  Green_ext2    1 ImageHDU        10   (2144, 2140)   int32   \n",
      "  3  Green_ext3    1 ImageHDU        10   (2144, 2140)   int32   \n",
      "  4  Green_ext4    1 ImageHDU        10   (2144, 2140)   int32   \n",
      "  5  Red_ext1      1 ImageHDU        10   (2144, 4180)   int32   \n",
      "  6  Red_ext2      1 ImageHDU        10   (2144, 4180)   int32   \n"
     ]
    }
   ],
   "source": [
    "for file in directglob:\n",
    "    print(file)\n",
    "    filee = fits.open(file)\n",
    "    filee.info()\n",
    "    #print(filee['RED_AMP1'].header['CCDGAIN'])\n",
    "    obj = KPF0()\n",
    "    \n",
    "    obj['GREEN_AMP1'] = filee['Green_ext1'].data\n",
    "    obj['GREEN_AMP2'] = filee['Green_ext2'].data\n",
    "    obj['GREEN_AMP3'] = filee['Green_ext3'].data\n",
    "    obj['GREEN_AMP4'] = filee['Green_ext4'].data\n",
    "    obj['RED_AMP1'] = filee['Red_ext1'].data\n",
    "    obj['RED_AMP2'] = filee['Red_ext2'].data\n",
    "    \n",
    "    obj.header['GREEN_AMP1']['CCDGAIN'] = 5.2\n",
    "    obj.header['GREEN_AMP2']['CCDGAIN'] = 5.32\n",
    "    obj.header['GREEN_AMP3']['CCDGAIN'] = 5.3\n",
    "    obj.header['GREEN_AMP4']['CCDGAIN'] = 5.4\n",
    "    obj.header['RED_AMP1']['CCDGAIN'] = 5.1\n",
    "    obj.header['RED_AMP2']['CCDGAIN'] = 5.21\n",
    "\n",
    "    obj.to_fits(file)"
   ]
  },
  {
   "cell_type": "code",
   "execution_count": 46,
   "metadata": {},
   "outputs": [
    {
     "name": "stdout",
     "output_type": "stream",
     "text": [
      "Filename: /Users/paminabby/Desktop/20220429/post_green/KP.20220429.0781.60_2D.fits\n",
      "No.    Name      Ver    Type      Cards   Dimensions   Format\n",
      "  0  PRIMARY       1 PrimaryHDU     113   ()      \n",
      "  1  RECEIPT       1 BinTableHDU     29   2R x 10C   [26A, 6A, 12A, 40A, 3A, 9A, 1A, 21A, 40A, 4A]   \n",
      "  2  CONFIG        1 BinTableHDU     13   0R x 2C   [D, D]   \n",
      "  3  GREEN_AMP1    1 ImageHDU        23   (2144, 2140)   int32   \n",
      "  4  GREEN_AMP2    1 ImageHDU        23   (2144, 2140)   int32   \n",
      "  5  GREEN_AMP3    1 ImageHDU        23   (2144, 2140)   int32   \n",
      "  6  GREEN_AMP4    1 ImageHDU        23   (2144, 2140)   int32   \n",
      "  7  GREEN_CCD     1 ImageHDU         9   (4080, 4080)   float64   \n",
      "  8  GREEN_VAR     1 ImageHDU         8   (0,)      \n",
      "  9  RED_AMP1      1 ImageHDU        23   (2144, 4180)   int32   \n",
      " 10  RED_AMP2      1 ImageHDU        23   (2144, 4180)   int32   \n",
      " 11  RED_AMP3      1 ImageHDU        22   (0,)      \n",
      " 12  RED_AMP4      1 ImageHDU        22   (0,)      \n",
      " 13  RED_CCD       1 ImageHDU         8   (4080, 4080)   float64   \n",
      " 14  RED_VAR       1 ImageHDU         7   (0,)      \n",
      " 15  CA_HK         1 ImageHDU        23   (0,)      \n",
      " 16  EXPMETER      1 ImageHDU         7   (0,)      \n",
      " 17  GUIDECAM      1 ImageHDU         7   (0,)      \n",
      " 18  SOLAR_IRRADIANCE    1 BinTableHDU      9   0R x 0C   []   \n"
     ]
    }
   ],
   "source": [
    "green = fits.open('/Users/paminabby/Desktop/20220429/post_green/KP.20220429.0781.60_2D.fits')\n",
    "green.info()"
   ]
  },
  {
   "cell_type": "code",
   "execution_count": 45,
   "metadata": {
    "scrolled": false
   },
   "outputs": [],
   "source": [
    "# direct = '/Users/paminabby/Desktop/20220429/post_green/*.fits'\n",
    "# directglob = glob.glob(direct)\n",
    "# for i in directglob:\n",
    "#     fits.open(i).info()"
   ]
  },
  {
   "cell_type": "code",
   "execution_count": 37,
   "metadata": {},
   "outputs": [
    {
     "data": {
      "text/plain": [
       "<matplotlib.image.AxesImage at 0x7ff74e15d8e0>"
      ]
     },
     "execution_count": 37,
     "metadata": {},
     "output_type": "execute_result"
    },
    {
     "data": {
      "image/png": "[encoded data removed]",
      "text/plain": [
       "<Figure size 720x720 with 1 Axes>"
      ]
     },
     "metadata": {
      "needs_background": "light"
     },
     "output_type": "display_data"
    }
   ],
   "source": [
    "plt.figure(figsize=(10,10))\n",
    "plt.imshow(green['RED_CCD'].data)"
   ]
  },
  {
   "cell_type": "code",
   "execution_count": 38,
   "metadata": {},
   "outputs": [
    {
     "data": {
      "text/plain": [
       "array([[-0.00638123, -0.00606995, -0.00638123, ...,  0.03847717,\n",
       "         0.03776169,  0.03402527],\n",
       "       [-0.17439423, -0.17377167, -0.17377167, ...,  0.03672821,\n",
       "         0.03529724,  0.03299179],\n",
       "       [-0.13260498, -0.13174896, -0.13065948, ...,  0.03609222,\n",
       "         0.03354828,  0.03171982],\n",
       "       ...,\n",
       "       [ 0.0066925 ,  0.00731506,  0.00677032, ...,  0.03823868,\n",
       "         0.03648972,  0.03291229],\n",
       "       [ 0.00661469,  0.00700378,  0.00684814, ...,  0.03768219,\n",
       "         0.03760269,  0.03299179],\n",
       "       [ 0.00692596,  0.00739288,  0.00731506, ...,  0.03776169,\n",
       "         0.03641022,  0.03354828]])"
      ]
     },
     "execution_count": 38,
     "metadata": {},
     "output_type": "execute_result"
    }
   ],
   "source": [
    "green['RED_CCD'].data"
   ]
  },
  {
   "cell_type": "code",
   "execution_count": 47,
   "metadata": {
    "scrolled": false
   },
   "outputs": [
    {
     "data": {
      "text/plain": [
       "SIMPLE  =                    T / conforms to FITS standard                      \n",
       "BITPIX  =                    8 / array data type                                \n",
       "NAXIS   =                    0 / number of array dimensions                     \n",
       "EXTEND  =                    T                                                  \n",
       "ORIGIN  = 'astropy.fits'       / File Originator                                \n",
       "INSTRUME= 'KPF     '           / Instrument Name                                \n",
       "DATALVL = '0       '           / Data Product Base Level                        \n",
       "DATATMP = 'T/F     '           / Data Temporary Intermediate Product            \n",
       "OBSERVER= 'Classical Observer Name or Queue' / Observer Name                    \n",
       "TIMESYS = 'UTC     '           / Time Scale                                     \n",
       "PROGRAM = 'Keck Prog ID'       / Observing Program ID                           \n",
       "PINAME  = 'Keck PI '           / Program PI Name                                \n",
       "OBSTYPE = 'Tst     '           / Observation Type                               \n",
       "OBS-MODE= 'HR/LR   '           / Observing Mode                                 \n",
       "OBJECT  = 'HD10700 '           / Object Name                                    \n",
       "FILENAME= 'KPFL#_YYYYMMDDThhmmss.fits' / Name of this FITS File                 \n",
       "DATE    = '2020-12-20T01:41:48.123' / File Creation Date (UTC)                  \n",
       "DATE-OBS= '2020-12-20T01:41:48.123' / Obs Date Exp Start (UTC)                  \n",
       "OBSJD   = 'ex: 2459203.638461609 ' / Julian Date of DATE-OBS                    \n",
       "EXPTIME =  / Exposure Time (s)                                                  \n",
       "FIBERAPR=  / Fiber Aperture Diameter on Sky (arcsec)                            \n",
       "SHUTOPEN= 'ex:''2020-12-20T01:41:48.123''' / Shutter-Open Date (UTC)            \n",
       "SHUTCLSD= 'ex:''2020-12-20T01:41:48.123''' / Shutter-Close Date (UTC)           \n",
       "SCI-OBJ = 'Sci/LFC/Etalon/Thar' / Object in Science fiber                       \n",
       "CAL-OBJ = 'Sci/LFC/Etalon/Thar' / Object in Calibration Fiber                   \n",
       "SKY-OBJ = 'Sky/Cal '           / Object in Sky Fiber                            \n",
       "QTIME   = '2020-12-20T01:41:48.123' / Queue Data Time (UTC)                     \n",
       "QOBJECT = 'ex: ''Gaia DR2 2452378776434276992''' / Queue Object Name            \n",
       "QRA     = 'HH:MM:SS.sss'       / Queue Right Ascension                          \n",
       "QDEC    = 'DD:mm:ss.sss'       / Queue Declination                              \n",
       "QEQNX   = '2000    '           / Queue Equinox (yr)                             \n",
       "QEPOCH  = '2000    '           / Queue Epoch (yr)                               \n",
       "QPLX    = '12.34   '           / Queue parallax (mas)                           \n",
       "QPMRA   =  / Queue Proper Motion RA (\"/yr)                                      \n",
       "QPMDEC  =  / Queue Proper Motion DEC (\"/yr)                                     \n",
       "QPROG   =  / Queue Program Number                                               \n",
       "QRV     =  / Queue RV for Star                                                  \n",
       "QZ      =  / Queue Z for Star                                                   \n",
       "QID     =  / Queue ID                                                           \n",
       "QSNR    =  / Queue Signal-to-Noise Ratio                                        \n",
       "QEXPTIME=  / Queue Exposure Time (s)                                            \n",
       "OBSERVAT= 'Keck    '           / Observatory Name                               \n",
       "TELESCOP= 'Keck I  '           / Telescope Name                                 \n",
       "OBSLON  =  / Observatory Longitude                                              \n",
       "OBSLAT  =  / Observatory Latitude                                               \n",
       "OBSALT  =  / Observatory Altitude                                               \n",
       "SEEING  =  / Seeing at Exp Start (arcsec)                                       \n",
       "AIRMASS =  / TCS-Telescope Airmass at Exp Start                                 \n",
       "FOCUSPOS=  / Telescope Focus Pos (mm)                                           \n",
       "LIGHTS  = 'on/off  '           / Dome Lights                                    \n",
       "TCSTIME = '2020-12-20T03:19:27' / TCS-Telescope Data Date (UTC)                 \n",
       "TGTTIME =  / TCS-Target Data Date (UTC)                                         \n",
       "TCSRA   = '\"1:44:7.508\"'       / TCS-Telescope RA J2000                         \n",
       "TCSDEC  = 'ex: ''00:01:12.36''' /  TCS-Telescope DEC J2000                      \n",
       "TCSRAOF = 'ex: ''00:01:12.36''' /  TCS-Telescope RA Offset J2000                \n",
       "TCSDECOF= 'ex: ''00:01:12.36''' / TCS-Telescope DEC Offset J2000                \n",
       "TCSHA   = 'ex: ''00:01:12.36''' / TCS-Telescope Hour Angle (HH:MM:SS)           \n",
       "TCSLST  = '1:49:44 '           / TCS Local Sidereal Time                        \n",
       "TCSZA   =  / TCS Zenith Angle                                                   \n",
       "TCSEL   =  / TCS-Target Elevation Angle (deg)                                   \n",
       "TCSAZ   =  / TCS-Target Azimuth Angle (deg)                                     \n",
       "TCSEQNX = '2000    '           / TCS-Target Equinox                             \n",
       "TCSEPOCH= '2000    '           / TCS-Target Epoch                               \n",
       "SUNAGL  =  / Sun Angle (deg)                                                    \n",
       "MOONUP  = 'T/F     '           / Moon Above Horizon                             \n",
       "MOONAGL =  / Target-Moon Angle (deg)                                            \n",
       "ENVTIME = '2020-12-20T03:19:27' / TCS-Weather Data Date (UTC)                   \n",
       "ENVDTMP =  / Dome Temperature (C)                                               \n",
       "ENVOTMP =  / Outside Temperature (C)                                            \n",
       "ENVDHUM =  / Dome Relative Humidity (%)                                         \n",
       "ENVOHUM =  / Dome Outside Relative Humidity (%)                                 \n",
       "ENVWINDS=  / Wind Speed (mph)                                                   \n",
       "ENVWINDD=  / Wind Direction (angle)                                             \n",
       "DEWPOINT=  / Dewpoint Temp (C)                                                  \n",
       "DOMETIME= '2020-12-20T03:19:27' / TCS-Dome Data Date (UTC)                      \n",
       "DOMETGT =  / Dome Commanded Azimuth                                             \n",
       "DOMEPOS =  / Dome Measured Azimuth                                              \n",
       "DOMESTAT= 'open/closed'        / Dome Shutter Status                            \n",
       "HVLC_V1 = '15      '           / ResetDrain_a                                   \n",
       "HVLC_V2 = '15      '           / ResetDrain_b                                   \n",
       "HVLC_V3 = '15      '           / ResetDrain_c                                   \n",
       "HVLC_V4 = '15      '           / ResetDrain_d                                   \n",
       "HVLC_V6 = '20      '           / Scupper Voltage                                \n",
       "HVLC_V11= '20      '           / Dump Drain                                     \n",
       "HVHC_V1 = '8       '           / Reset Gate High                                \n",
       "HVHC_IL1= 'TBC     '           / Reset Gate High Current                        \n",
       "HVHC_V2 = '5       '           / Summing Well High                              \n",
       "HVHC_IL2= 'TBC     '           / Summing Well High Current                      \n",
       "HVHC_V3 = '24      '           / Output Drain a                                 \n",
       "HVHC_IL3= '3.3     '           / Outtput Drain a Current                        \n",
       "HVHC_V4 = '24      '           / Output Drain b                                 \n",
       "HVHC_IL4= '3.3     '           / Outtput Drain b Current                        \n",
       "HVHC_V5 = '24      '           / Output Drain c                                 \n",
       "HVHC_IL5= '3.3     '           / Outtput Drain c Current                        \n",
       "HVHC_V6 = '24      '           / Output Drain d                                 \n",
       "HVHC_IL6= '3.3     '           / Outtput Drain d Current                        \n",
       "LVLC_V12= '1       '           / Output Gate                                    \n",
       "LVHC_V1 = '-0.1    '           / Reset Gate Low                                 \n",
       "LVHC_IL1= 'TBC     '           / Reset Gate Low Current                         \n",
       "LVHC_V2 = '-5      '           / Summing Well Low                               \n",
       "LVHC_IL2= 'TBC     '           / Summing Well Low Current                       \n",
       "P2V5    = '2.5     '           / Backplane Power                                \n",
       "P5V     = '5       '           / Backplane Power                                \n",
       "P6V     = '6       '           / Backplane Power                                \n",
       "N6V     = '-6      '           / Backplane Power                                \n",
       "P17V    = '17      '           / Backplane Power                                \n",
       "N17V    = '-17     '           / Backplane Power                                \n",
       "P35V    = '35      '           / Backplane Power                                \n",
       "N35V    = '0       '           / Backplane Power                                \n",
       "P100V   = '100     '           / Backplane Power                                \n",
       "N100V   = '-100    '           / Backplane Power                                \n",
       "HEATER  = '28      '           / TBC                                            \n",
       "EXTNAME = 'PRIMARY '           / extension name                                 "
      ]
     },
     "execution_count": 47,
     "metadata": {},
     "output_type": "execute_result"
    }
   ],
   "source": [
    "fits.open('/Users/paminabby/Desktop/20220429/post_green/KP.20220429.4390.37_2D.fits')[0].header"
   ]
  },
  {
   "cell_type": "code",
   "execution_count": null,
   "metadata": {},
   "outputs": [],
   "source": []
  }
 ],
 "metadata": {
  "kernelspec": {
   "display_name": "Python 3",
   "language": "python",
   "name": "python3"
  },
  "language_info": {
   "codemirror_mode": {
    "name": "ipython",
    "version": 3
   },
   "file_extension": ".py",
   "mimetype": "text/x-python",
   "name": "python",
   "nbconvert_exporter": "python",
   "pygments_lexer": "ipython3",
   "version": "3.8.3"
  }
 },
 "nbformat": 4,
 "nbformat_minor": 4
}
